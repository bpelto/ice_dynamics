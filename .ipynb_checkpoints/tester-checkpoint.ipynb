{
 "cells": [
  {
   "cell_type": "code",
   "execution_count": 1,
   "metadata": {},
   "outputs": [],
   "source": [
    "import matplotlib.pyplot as plt\n",
    "from matplotlib import pylab\n",
    "import numpy as np\n",
    "import pandas as pd\n",
    "from scipy import stats\n",
    "import matplotlib.ticker as ticker\n",
    "from osgeo import gdal\n",
    "import salem\n",
    "from salem import *\n",
    "\n",
    "import fiona, rasterio\n",
    "import geopandas as gpd\n",
    "from rasterio.plot import show\n",
    "import rasterio.plot as rplt\n",
    "from rasterio.features import rasterize\n",
    "from rasterstats import zonal_stats"
   ]
  },
  {
   "cell_type": "code",
   "execution_count": 2,
   "metadata": {},
   "outputs": [],
   "source": [
    "def loadshp_as_gpd(shp):\n",
    "    data_shp = gpd.read_file(shp)\n",
    "    return data_shp"
   ]
  },
  {
   "cell_type": "code",
   "execution_count": 15,
   "metadata": {},
   "outputs": [],
   "source": [
    "file = '/home/pelto/Desktop/velocity_mapping/Conrad_DEMs/bedem5_spm2/170917_conrad_bedem5_clip.tif'\n",
    "file0 = '/home/pelto/Desktop/velocity_mapping/Conrad_DEMs/bedem5_spm2/img1_20160912.tif'\n",
    "msk = '/home/pelto/Desktop/velocity_mapping/Conrad_DEMs/bedem5_spm2/conrad_2016_ice_msk_5m.tif'\n",
    "##list of all glaciers in the Basin\n",
    "# data = '' #'/home/pelto/GIS/GLIMS_BC/glims_all/02_rgi60_WesternCanadaUS_UTM_CB.shp'\n",
    "# basin = pd.read_csv(basin)\n",
    "# basin"
   ]
  },
  {
   "cell_type": "code",
   "execution_count": 16,
   "metadata": {},
   "outputs": [
    {
     "data": {
      "text/plain": [
       "<xarray.Dataset>\n",
       "Dimensions:  (x: 3842, y: 2402)\n",
       "Coordinates:\n",
       "  * x        (x) float64 4.968e+05 4.968e+05 4.968e+05 ... 5.16e+05 5.16e+05\n",
       "  * y        (y) float64 5.634e+06 5.634e+06 5.634e+06 ... 5.622e+06 5.622e+06\n",
       "Data variables:\n",
       "    data     (y, x) float32 -9999.0 -9999.0 -9999.0 ... -9999.0 -9999.0 -9999.0\n",
       "Attributes:\n",
       "    pyproj_srs:  +units=m +init=epsg:2955 "
      ]
     },
     "execution_count": 16,
     "metadata": {},
     "output_type": "execute_result"
    }
   ],
   "source": [
    "g = salem.open_xr_dataset(file0)\n",
    "g"
   ]
  },
  {
   "cell_type": "code",
   "execution_count": 20,
   "metadata": {},
   "outputs": [
    {
     "data": {
      "text/plain": [
       "<xarray.Dataset>\n",
       "Dimensions:  (x: 3842, y: 2402)\n",
       "Coordinates:\n",
       "  * x        (x) float64 4.968e+05 4.968e+05 4.968e+05 ... 5.16e+05 5.16e+05\n",
       "  * y        (y) float64 5.634e+06 5.634e+06 5.634e+06 ... 5.622e+06 5.622e+06\n",
       "Data variables:\n",
       "    data     (y, x) float64 0.0 0.0 0.0 0.0 0.0 0.0 ... 0.0 0.0 0.0 0.0 0.0 0.0\n",
       "Attributes:\n",
       "    pyproj_srs:  +units=m +init=epsg:32611 "
      ]
     },
     "execution_count": 20,
     "metadata": {},
     "output_type": "execute_result"
    }
   ],
   "source": [
    "m = salem.open_xr_dataset(msk)\n",
    "m"
   ]
  },
  {
   "cell_type": "code",
   "execution_count": 4,
   "metadata": {},
   "outputs": [
    {
     "data": {
      "text/plain": [
       "<xarray.Dataset>\n",
       "Dimensions:  (x: 3842, y: 2402)\n",
       "Coordinates:\n",
       "  * x        (x) float64 4.968e+05 4.968e+05 4.968e+05 ... 5.16e+05 5.16e+05\n",
       "  * y        (y) float64 5.634e+06 5.634e+06 5.634e+06 ... 5.622e+06 5.622e+06\n",
       "Data variables:\n",
       "    data     (y, x) float32 2595.4172 2599.8362 2604.2341 ... 2509.904 2509.0642\n",
       "Attributes:\n",
       "    pyproj_srs:  +units=m +init=epsg:32611 "
      ]
     },
     "execution_count": 4,
     "metadata": {},
     "output_type": "execute_result"
    }
   ],
   "source": [
    "f=salem.open_xr_dataset(file)\n",
    "f"
   ]
  },
  {
   "cell_type": "code",
   "execution_count": 4,
   "metadata": {},
   "outputs": [
    {
     "data": {
      "text/plain": [
       "'/home/pelto/GIS/GPR/ComparisonData/RGI60-02/RGI60-02.00045_thickness.tif'"
      ]
     },
     "execution_count": 4,
     "metadata": {},
     "output_type": "execute_result"
    }
   ],
   "source": [
    "# path+basin.RGIId.unique()[0]+'_thickness.tif'"
   ]
  },
  {
   "cell_type": "code",
   "execution_count": 5,
   "metadata": {},
   "outputs": [],
   "source": [
    "V= []\n",
    "for n in basin.RGIId.unique():\n",
    "    f=salem.open_xr_dataset(path+n+'_thickness.tif')\n",
    "    v = f.data * 25.**2\n",
    "    V.append(np.sum(v))\n",
    "   "
   ]
  },
  {
   "cell_type": "code",
   "execution_count": 9,
   "metadata": {},
   "outputs": [
    {
     "name": "stdout",
     "output_type": "stream",
     "text": [
      "Columbia Basin Ice volume, Farinotti 2019: 102.84 km3\n"
     ]
    }
   ],
   "source": [
    "Volume = np.sum(V) /1e9\n",
    "print('Columbia Basin Ice volume, Farinotti 2019:', np.round(Volume,2), 'km3')"
   ]
  },
  {
   "cell_type": "code",
   "execution_count": 14,
   "metadata": {},
   "outputs": [
    {
     "name": "stdout",
     "output_type": "stream",
     "text": [
      "Area of glaciers in the Basin in 2005: 1753.18 km2, number of glaciers in the Basin: 2078\n"
     ]
    }
   ],
   "source": [
    "A = basin.Area.sum()\n",
    "C = len(basin.RGIId)\n",
    "print('Area of glaciers in the Basin in 2005:', np.round(A,2), 'km2,', 'number of glaciers in the Basin:', C)"
   ]
  },
  {
   "cell_type": "code",
   "execution_count": null,
   "metadata": {},
   "outputs": [],
   "source": []
  }
 ],
 "metadata": {
  "kernelspec": {
   "display_name": "Python 3",
   "language": "python",
   "name": "python3"
  },
  "language_info": {
   "codemirror_mode": {
    "name": "ipython",
    "version": 3
   },
   "file_extension": ".py",
   "mimetype": "text/x-python",
   "name": "python",
   "nbconvert_exporter": "python",
   "pygments_lexer": "ipython3",
   "version": "3.6.8"
  }
 },
 "nbformat": 4,
 "nbformat_minor": 2
}
