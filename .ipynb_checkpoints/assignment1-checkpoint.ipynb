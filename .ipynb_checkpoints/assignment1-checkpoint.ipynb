{
 "cells": [
  {
   "cell_type": "code",
   "execution_count": 1,
   "metadata": {},
   "outputs": [],
   "source": [
    "import numpy as np\n",
    "import math"
   ]
  },
  {
   "cell_type": "code",
   "execution_count": 263,
   "metadata": {},
   "outputs": [],
   "source": [
    "Ko = 1350. #W m-2 solar constant\n",
    "Zs= np.deg2rad(21.95) #solar decimation decimal degrees (convert to radians)\n",
    "# r = 1.01405 * 149.6e6\n",
    "DAY = 153\n",
    "phi = 42. #latitude\n",
    "H_low=np.deg2rad(-4.75*15)\n",
    "H_high= np.deg2rad(4.75*15)\n",
    "I=1350\n",
    "#H = "
   ]
  },
  {
   "cell_type": "code",
   "execution_count": 264,
   "metadata": {},
   "outputs": [
    {
     "data": {
      "text/plain": [
       "1.0142655507308422"
      ]
     },
     "execution_count": 264,
     "metadata": {},
     "output_type": "execute_result"
    }
   ],
   "source": [
    "r = 0.01676*np.cos(np.pi-0.01726*(DAY-3))+1 #proportional variation of the radius vector of the earth's orbit\n",
    "r"
   ]
  },
  {
   "cell_type": "code",
   "execution_count": 265,
   "metadata": {},
   "outputs": [
    {
     "data": {
      "text/plain": [
       "0.38579820065501047"
      ]
     },
     "execution_count": 265,
     "metadata": {},
     "output_type": "execute_result"
    }
   ],
   "source": [
    "delta= np.arcsin(np.sin(np.deg2rad(23.45))*np.sin(np.deg2rad((360/365)*(DAY-81))))\n",
    "delta"
   ]
  },
  {
   "cell_type": "code",
   "execution_count": 266,
   "metadata": {},
   "outputs": [],
   "source": [
    "# cosZs = np.cos(delta)*np.cos(np.deg2rad(phi))*np.cos(H)+np.sin(delta)*np.sin(phi)*np.sin(H)\n",
    "# Ka = (Ko/(r**2))*np.cos(Zs)*dH"
   ]
  },
  {
   "cell_type": "code",
   "execution_count": 267,
   "metadata": {},
   "outputs": [
    {
     "data": {
      "text/plain": [
       "8.83618300735664"
      ]
     },
     "execution_count": 267,
     "metadata": {},
     "output_type": "execute_result"
    }
   ],
   "source": [
    "I/(r**2)*sin(delta)"
   ]
  },
  {
   "cell_type": "code",
   "execution_count": 268,
   "metadata": {},
   "outputs": [
    {
     "data": {
      "text/plain": [
       "875.2004524452409"
      ]
     },
     "execution_count": 268,
     "metadata": {},
     "output_type": "execute_result"
    }
   ],
   "source": [
    "RAD = (I/(r**2))*((np.cos(delta)*np.cos(np.deg2rad(phi))*(sin(H_high)-np.sin(H_low)))+(np.sin(delta)*np.sin(np.deg2rad(phi))*(-1*np.cos(H_high)+np.cos(H_low))))\n",
    "RAD"
   ]
  },
  {
   "cell_type": "code",
   "execution_count": 274,
   "metadata": {},
   "outputs": [
    {
     "data": {
      "text/plain": [
       "541.1656130953072"
      ]
     },
     "execution_count": 274,
     "metadata": {},
     "output_type": "execute_result"
    }
   ],
   "source": [
    "RAD*(14.84/24)"
   ]
  },
  {
   "cell_type": "code",
   "execution_count": 269,
   "metadata": {},
   "outputs": [
    {
     "ename": "SyntaxError",
     "evalue": "invalid syntax (<ipython-input-269-c881f684f4d3>, line 1)",
     "output_type": "error",
     "traceback": [
      "\u001b[0;36m  File \u001b[0;32m\"<ipython-input-269-c881f684f4d3>\"\u001b[0;36m, line \u001b[0;32m1\u001b[0m\n\u001b[0;31m    (timeOfDay-12*60)/(24*60))*360)\u001b[0m\n\u001b[0m                             ^\u001b[0m\n\u001b[0;31mSyntaxError\u001b[0m\u001b[0;31m:\u001b[0m invalid syntax\n"
     ]
    }
   ],
   "source": [
    "(timeOfDay-12*60)/(24*60))*360)"
   ]
  },
  {
   "cell_type": "code",
   "execution_count": 275,
   "metadata": {},
   "outputs": [],
   "source": [
    "# def cos(angle):\n",
    "#     return np.cos(np.deg2rad(angle))\n",
    "\n",
    "# def sin(angle):\n",
    "#     return np.sin(np.deg2rad(angle))\n",
    "\n",
    "# def arcsin(val):\n",
    "#     return np.degrees(np.arcsin(val))\n",
    "# ## multiply 1350 times 0.53 for earth surface\n",
    "# def solarRadiation(timeOfDay, day, latitude):\n",
    "#     declination=arcsin(sin(-23.44) * cos((360/365.24)*(day+10)+(360/np.pi)* 0.0167 * sin((360/365.24)*(day-2))))\n",
    "#     radiation=1350*0.53*(sin(declination)*sin(latitude)+cos(declination)*cos(latitude)*cos(((timeOfDay-12*60)/(24*60))*360))\n",
    "#     return radiation if radiation>=0 else 0"
   ]
  },
  {
   "cell_type": "code",
   "execution_count": 276,
   "metadata": {},
   "outputs": [],
   "source": [
    "# radiation = []; hour = []\n",
    "# for i in range(0, 2400, 100):\n",
    "#     radiation.append(solarRadiation(i,149,np.radians(40)))\n",
    "#     hour.append(i)"
   ]
  },
  {
   "cell_type": "code",
   "execution_count": 277,
   "metadata": {},
   "outputs": [],
   "source": [
    "# H_low\n",
    "# np.sum(radiation)/7"
   ]
  },
  {
   "cell_type": "markdown",
   "metadata": {},
   "source": [
    "### part ii"
   ]
  },
  {
   "cell_type": "code",
   "execution_count": 279,
   "metadata": {},
   "outputs": [
    {
     "data": {
      "text/plain": [
       "299.83453093812375"
      ]
     },
     "execution_count": 279,
     "metadata": {},
     "output_type": "execute_result"
    }
   ],
   "source": [
    "Ks = 470.9* ((0.25 + 0.62)*(11/(15.03)))\n",
    "Ks"
   ]
  },
  {
   "cell_type": "markdown",
   "metadata": {},
   "source": [
    "### part iii\n",
    "if the mean daily air temperature is 17 o C and the mean daily relatively\n",
    "humidity is 65%, what is the daily average clear sky incoming longwave radiation and\n",
    "what is the actual daily average incoming longwave radiation to this field?"
   ]
  },
  {
   "cell_type": "markdown",
   "metadata": {},
   "source": [
    "Brutsaert (1975)\n",
    "Under clear skies, incoming longwave, L 0,clear is found as\n",
    "L 0, clear = ε clear (T, e) σ T 4 ,"
   ]
  },
  {
   "cell_type": "code",
   "execution_count": 331,
   "metadata": {},
   "outputs": [],
   "source": [
    "sigma = 5.67 * 10**(-8) ## W m -2 K -4 #σ is the Stefan-Boltzman Constant\n",
    "Ts = 17 + 273.15 ## convert C to Kelvin\n",
    "C = 1.24\n",
    "m = 7\n",
    "RH=0.65"
   ]
  },
  {
   "cell_type": "code",
   "execution_count": 332,
   "metadata": {},
   "outputs": [
    {
     "data": {
      "text/plain": [
       "1.9383638408527206"
      ]
     },
     "execution_count": 332,
     "metadata": {},
     "output_type": "execute_result"
    }
   ],
   "source": [
    "e_sat = 0.611*math.e**(17.27*17/(237.3+17)) \n",
    "e_sat"
   ]
  },
  {
   "cell_type": "code",
   "execution_count": 333,
   "metadata": {},
   "outputs": [
    {
     "data": {
      "text/plain": [
       "1.2599364965542685"
      ]
     },
     "execution_count": 333,
     "metadata": {},
     "output_type": "execute_result"
    }
   ],
   "source": [
    "e = e_sat*RH\n",
    "e"
   ]
  },
  {
   "cell_type": "code",
   "execution_count": 334,
   "metadata": {},
   "outputs": [
    {
     "data": {
      "text/plain": [
       "0.5701038613351843"
      ]
     },
     "execution_count": 334,
     "metadata": {},
     "output_type": "execute_result"
    }
   ],
   "source": [
    "E_clear = C * (e/Ts)**(1/m)\n",
    "E_clear"
   ]
  },
  {
   "cell_type": "code",
   "execution_count": 335,
   "metadata": {},
   "outputs": [
    {
     "data": {
      "text/plain": [
       "229.10118788446476"
      ]
     },
     "execution_count": 335,
     "metadata": {},
     "output_type": "execute_result"
    }
   ],
   "source": [
    "L0_clear = E_clear * sigma * Ts**4\n",
    "L0_clear"
   ]
  },
  {
   "cell_type": "code",
   "execution_count": 336,
   "metadata": {},
   "outputs": [
    {
     "data": {
      "text/plain": [
       "0.6366532172435762"
      ]
     },
     "execution_count": 336,
     "metadata": {},
     "output_type": "execute_result"
    }
   ],
   "source": [
    "T_atm = 299.8/470.9  ## Ks /KA\n",
    "T_atm"
   ]
  },
  {
   "cell_type": "code",
   "execution_count": 337,
   "metadata": {},
   "outputs": [
    {
     "data": {
      "text/plain": [
       "372.8984696873598"
      ]
     },
     "execution_count": 337,
     "metadata": {},
     "output_type": "execute_result"
    }
   ],
   "source": [
    "# eqn 9 Sicart 2006\n",
    "L0 = 1.24 * (e*10 / Ts)**(1/7) * (1 + 0.44 * RH - 0.18 *T_atm)*sigma*Ts**4  ## e*10 to go from kPa to mb\n",
    "L0"
   ]
  },
  {
   "cell_type": "code",
   "execution_count": 318,
   "metadata": {},
   "outputs": [
    {
     "data": {
      "text/plain": [
       "0.8536775937640383"
      ]
     },
     "execution_count": 318,
     "metadata": {},
     "output_type": "execute_result"
    }
   ],
   "source": [
    "L0_clear/L0"
   ]
  },
  {
   "cell_type": "markdown",
   "metadata": {},
   "source": [
    "## part iv\n",
    "if the average surface temperature is 20 o C, what is the average net radiation\n",
    "over the day?"
   ]
  },
  {
   "cell_type": "code",
   "execution_count": 320,
   "metadata": {},
   "outputs": [],
   "source": [
    "albedo = 0.20 ## 18-22 for row crops Table A calculating evap.\n",
    "Es=0.98 #from table 2.1\n",
    "Ts =20.+273.15"
   ]
  },
  {
   "cell_type": "code",
   "execution_count": 322,
   "metadata": {},
   "outputs": [
    {
     "data": {
      "text/plain": [
       "410.3635032136096"
      ]
     },
     "execution_count": 322,
     "metadata": {},
     "output_type": "execute_result"
    }
   ],
   "source": [
    "L = Es * sigma * Ts**4\n",
    "L"
   ]
  },
  {
   "cell_type": "code",
   "execution_count": 323,
   "metadata": {},
   "outputs": [
    {
     "data": {
      "text/plain": [
       "376.72"
      ]
     },
     "execution_count": 323,
     "metadata": {},
     "output_type": "execute_result"
    }
   ],
   "source": [
    "K_star = 470.9 * (1 - 0.20)\n",
    "K_star"
   ]
  },
  {
   "cell_type": "code",
   "execution_count": 324,
   "metadata": {},
   "outputs": [
    {
     "data": {
      "text/plain": [
       "-37.5"
      ]
     },
     "execution_count": 324,
     "metadata": {},
     "output_type": "execute_result"
    }
   ],
   "source": [
    "L_star = 372.9 - 410.4\n",
    "L_star"
   ]
  },
  {
   "cell_type": "code",
   "execution_count": 325,
   "metadata": {},
   "outputs": [
    {
     "data": {
      "text/plain": [
       "339.22"
      ]
     },
     "execution_count": 325,
     "metadata": {},
     "output_type": "execute_result"
    }
   ],
   "source": [
    "Q_star = L_star + K_star\n",
    "Q_star"
   ]
  },
  {
   "cell_type": "markdown",
   "metadata": {},
   "source": [
    "## part v\n",
    "what would the daily average incoming solar radiation and incoming longwave\n",
    "radiation fluxes be to the sub-canopy floor under an adjacent pine canopy at this location\n",
    "on this day, if the pine canopy had a leaf area index of 2.5 and a sky view factor of 0.15?\n",
    "Assume that the canopy temperature can be approximated by the air temperature. If the\n",
    "sub-canopy surface albedo is the same as in the potato field and the sub-canopy surface\n",
    "temperature is 15 o C, what is the sub-canopy net radiation?"
   ]
  },
  {
   "cell_type": "code",
   "execution_count": 326,
   "metadata": {},
   "outputs": [
    {
     "data": {
      "text/plain": [
       "0.0820849986238988"
      ]
     },
     "execution_count": 326,
     "metadata": {},
     "output_type": "execute_result"
    }
   ],
   "source": [
    "LAI=2.5\n",
    "T = math.e**(-LAI)\n",
    "T"
   ]
  },
  {
   "cell_type": "code",
   "execution_count": 328,
   "metadata": {},
   "outputs": [
    {
     "data": {
      "text/plain": [
       "24.60908258744486"
      ]
     },
     "execution_count": 328,
     "metadata": {},
     "output_type": "execute_result"
    }
   ],
   "source": [
    "K_sc = T * 299.8 \n",
    "K_sc"
   ]
  },
  {
   "cell_type": "code",
   "execution_count": 329,
   "metadata": {},
   "outputs": [
    {
     "data": {
      "text/plain": [
       "19.68726606995589"
      ]
     },
     "execution_count": 329,
     "metadata": {},
     "output_type": "execute_result"
    }
   ],
   "source": [
    "K_star = K_sc * (1-0.2)\n",
    "K_star"
   ]
  },
  {
   "cell_type": "code",
   "execution_count": 349,
   "metadata": {},
   "outputs": [
    {
     "data": {
      "text/plain": [
       "387.267256025735"
      ]
     },
     "execution_count": 349,
     "metadata": {},
     "output_type": "execute_result"
    }
   ],
   "source": [
    "Ts_g = 15 +273.15\n",
    "Ts_c = 17+273.15 \n",
    "Vf = 0.15\n",
    "Es=0.97\n",
    "L = Vf * L0 + (1-Vf)* Es * sigma * Ts_c**4\n",
    "L"
   ]
  },
  {
   "cell_type": "code",
   "execution_count": 350,
   "metadata": {},
   "outputs": [
    {
     "data": {
      "text/plain": [
       "383.07484122932686"
      ]
     },
     "execution_count": 350,
     "metadata": {},
     "output_type": "execute_result"
    }
   ],
   "source": [
    "Es_g = 0.98\n",
    "Lg = Es_g * sigma * Ts_g**4\n",
    "Lg"
   ]
  },
  {
   "cell_type": "code",
   "execution_count": 351,
   "metadata": {},
   "outputs": [
    {
     "data": {
      "text/plain": [
       "4.192414796408116"
      ]
     },
     "execution_count": 351,
     "metadata": {},
     "output_type": "execute_result"
    }
   ],
   "source": [
    "L_star = L - Lg\n",
    "L_star"
   ]
  },
  {
   "cell_type": "markdown",
   "metadata": {},
   "source": [
    "## Question 2"
   ]
  },
  {
   "cell_type": "markdown",
   "metadata": {},
   "source": [
    "During a precipitation measurement of 4 mm over an hour into a remote unattended\n",
    "Alter-shielded weighing precipitation gauge (Geonor), you measure an air temperature of\n",
    "+1.5 C, RH of 75%, with a wind speed of 3 m/s at gauge height.\n",
    "What is the water equivalent depth of snowfall? What is the depth of rainfall?"
   ]
  },
  {
   "cell_type": "code",
   "execution_count": 46,
   "metadata": {},
   "outputs": [],
   "source": [
    "T = 1.5 #air temp degrees C  \n",
    "RH = 0.75 # relative humidity %\n",
    "Ta = T + 273.15 ## convert C to Kelvin\n",
    "R = 8.31441  # Universal Gas Constant [J mol -1 K -1 ]\n",
    "m_w = 0.01801528 ## the molecular weight of water [kg mol -1 ]"
   ]
  },
  {
   "cell_type": "code",
   "execution_count": 47,
   "metadata": {},
   "outputs": [
    {
     "data": {
      "text/plain": [
       "0.005108536900825812"
      ]
     },
     "execution_count": 47,
     "metadata": {},
     "output_type": "execute_result"
    }
   ],
   "source": [
    "e = (RH/100) * 0.611*math.e**(17.3*T/(237.3+T)) #vapour pressure, e [kPa]\n",
    "e"
   ]
  },
  {
   "cell_type": "code",
   "execution_count": 48,
   "metadata": {},
   "outputs": [
    {
     "data": {
      "text/plain": [
       "7.37929471513587e-06"
      ]
     },
     "execution_count": 48,
     "metadata": {},
     "output_type": "execute_result"
    }
   ],
   "source": [
    "rho_Ta = (m_w *e) / (R* T)  ## vapor density\n",
    "rho_Ta"
   ]
  },
  {
   "cell_type": "code",
   "execution_count": 49,
   "metadata": {},
   "outputs": [
    {
     "data": {
      "text/plain": [
       "0.024032949999999997"
      ]
     },
     "execution_count": 49,
     "metadata": {},
     "output_type": "execute_result"
    }
   ],
   "source": [
    "lamda_t = 0.000063 * Ta + 0.00673  #thermal conductivity\n",
    "lamda_t"
   ]
  },
  {
   "cell_type": "code",
   "execution_count": 50,
   "metadata": {},
   "outputs": [
    {
     "data": {
      "text/plain": [
       "(2.0798375640532968e-05, 2833656.0)"
      ]
     },
     "execution_count": 50,
     "metadata": {},
     "output_type": "execute_result"
    }
   ],
   "source": [
    "D= 2.06*(10**-5)*(Ta/273.15)**1.75\n",
    "Ls = 1000 *(2834.1 - (0.29*T) - (0.004*T**2))\n",
    "D, Ls"
   ]
  },
  {
   "cell_type": "code",
   "execution_count": 56,
   "metadata": {},
   "outputs": [],
   "source": [
    "# Ti_guess = -1.5 + 273.15# degrees K\n",
    "e_sat =  0.611*math.e**(17.3*T/(237.3+T)) \n",
    "# rho_sat_Ti = (m_w * e_sat) / (R* Ti_guess)  ## saturated water vapour density at the hydrometeor surface [kg m -3 ]"
   ]
  },
  {
   "cell_type": "code",
   "execution_count": 87,
   "metadata": {},
   "outputs": [],
   "source": [
    "Ti_try=[];Ti_ice=[]\n",
    "for i in np.arange(-3,3,0.01):\n",
    "    rho_sat_Ti = (m_w * e_sat) / (R* i+273.15)\n",
    "    Ti = Ta + (D / lamda_t) * Ls * (rho_Ta - rho_sat_Ti)\n",
    "    Ti_try.append(Ti-273.15)\n",
    "    Ti_ice.append(i)"
   ]
  },
  {
   "cell_type": "code",
   "execution_count": 88,
   "metadata": {},
   "outputs": [],
   "source": [
    "import pandas as pd\n",
    "df = pd.DataFrame(list(zip(Ti_ice, Ti_try)), columns =['Ti_ice', 'Ti_try']) \n",
    "df['difference'] = df.Ti_ice-df.Ti_try"
   ]
  },
  {
   "cell_type": "code",
   "execution_count": 90,
   "metadata": {},
   "outputs": [
    {
     "data": {
      "text/html": [
       "<div>\n",
       "<style scoped>\n",
       "    .dataframe tbody tr th:only-of-type {\n",
       "        vertical-align: middle;\n",
       "    }\n",
       "\n",
       "    .dataframe tbody tr th {\n",
       "        vertical-align: top;\n",
       "    }\n",
       "\n",
       "    .dataframe thead th {\n",
       "        text-align: right;\n",
       "    }\n",
       "</style>\n",
       "<table border=\"1\" class=\"dataframe\">\n",
       "  <thead>\n",
       "    <tr style=\"text-align: right;\">\n",
       "      <th></th>\n",
       "      <th>Ti_ice</th>\n",
       "      <th>Ti_try</th>\n",
       "      <th>difference</th>\n",
       "    </tr>\n",
       "  </thead>\n",
       "  <tbody>\n",
       "    <tr>\n",
       "      <th>441</th>\n",
       "      <td>1.41</td>\n",
       "      <td>1.412464</td>\n",
       "      <td>0.002464</td>\n",
       "    </tr>\n",
       "  </tbody>\n",
       "</table>\n",
       "</div>"
      ],
      "text/plain": [
       "     Ti_ice    Ti_try  difference\n",
       "441    1.41  1.412464    0.002464"
      ]
     },
     "execution_count": 90,
     "metadata": {},
     "output_type": "execute_result"
    }
   ],
   "source": [
    "df.difference = np.abs(df.difference)\n",
    "ans=df[df.difference==df.difference.min()]\n",
    "ans"
   ]
  },
  {
   "cell_type": "code",
   "execution_count": 93,
   "metadata": {},
   "outputs": [
    {
     "data": {
      "text/plain": [
       "[<matplotlib.lines.Line2D at 0x7fc5d5108c18>]"
      ]
     },
     "execution_count": 93,
     "metadata": {},
     "output_type": "execute_result"
    },
    {
     "data": {
      "image/png": "[encoded data removed]",
      "text/plain": [
       "<Figure size 432x288 with 1 Axes>"
      ]
     },
     "metadata": {
      "needs_background": "light"
     },
     "output_type": "display_data"
    }
   ],
   "source": [
    "import matplotlib.pyplot as plt\n",
    "# plt.xlim(-2.0,2.0)\n",
    "plt.xlabel('$T_i$ (degrees C)');plt.ylabel('Absolute difference (degrees C)');\n",
    "plt.plot(df.Ti_ice, np.abs(df.difference))"
   ]
  },
  {
   "cell_type": "code",
   "execution_count": 102,
   "metadata": {},
   "outputs": [
    {
     "data": {
      "text/plain": [
       "441    1.41\n",
       "Name: Ti_ice, dtype: float64"
      ]
     },
     "execution_count": 102,
     "metadata": {},
     "output_type": "execute_result"
    }
   ],
   "source": [
    "Ti_opt = ans.Ti_ice\n",
    "Ti_opt"
   ]
  },
  {
   "cell_type": "code",
   "execution_count": 17,
   "metadata": {},
   "outputs": [
    {
     "data": {
      "text/plain": [
       "2833656.0"
      ]
     },
     "execution_count": 17,
     "metadata": {},
     "output_type": "execute_result"
    }
   ],
   "source": [
    "# Lv = 1000 * (2501 - (2.361*T))#latent heat of vaporisation\n",
    "Ls = 1000 *(2834.1 - (0.29*T) - (0.004*T**2))#latent heat of sublimation\n",
    "Ls"
   ]
  },
  {
   "cell_type": "code",
   "execution_count": 104,
   "metadata": {},
   "outputs": [
    {
     "data": {
      "text/plain": [
       "0.8823122219405388"
      ]
     },
     "execution_count": 104,
     "metadata": {},
     "output_type": "execute_result"
    }
   ],
   "source": [
    "b = 2.50286\n",
    "c = 0.125006\n",
    "Ti_opt = 1.41\n",
    "fr = 1/ (1 + b * c**Ti_opt)\n",
    "fr"
   ]
  },
  {
   "cell_type": "code",
   "execution_count": 110,
   "metadata": {},
   "outputs": [
    {
     "data": {
      "text/plain": [
       "(0.6845865584587255, 0.4707511122378447)"
      ]
     },
     "execution_count": 110,
     "metadata": {},
     "output_type": "execute_result"
    }
   ],
   "source": [
    "## Smith Alter-shield catch efficiency\n",
    "U = 3.0 # m s-1\n",
    "CE = 1.18*math.e**(-0.18*U)\n",
    "P_obs = 4.0 * (1-fr) # snow mm\n",
    "P_corr = P_obs / CE    # slide 49 hydrometerology\n",
    "P_corr, P_obs"
   ]
  },
  {
   "cell_type": "markdown",
   "metadata": {},
   "source": [
    "## Question 3"
   ]
  },
  {
   "cell_type": "code",
   "execution_count": 30,
   "metadata": {},
   "outputs": [],
   "source": [
    "# 20 mins question asked: https://usaskca1-my.sharepoint.com/personal/jwp744_usask_ca/_layouts/15/onedrive.aspx?originalPath=aHR0cHM6Ly91c2Fza2NhMS1teS5zaGFyZXBvaW50LmNvbS86ZjovZy9wZXJzb25hbC9qd3A3NDRfdXNhc2tfY2EvRXZPWUd4UkJ4dHhPcGNzSEFKUkk3dWdCdWJTWF8xT0ZSc05TLXl5R3FGRXZ0QT9ydGltZT0wN1JWLVhqVDJFZw&id=%2Fpersonal%2Fjwp744%5Fusask%5Fca%2FDocuments%2FGEOG827recordings%2FPetronePomeroy%5Fquestions%5FAssin1%5Fessay%5FDay2%5F3%2Emp4&parent=%2Fpersonal%2Fjwp744%5Fusask%5Fca%2FDocuments%2FGEOG827recordings\n",
    "## 45 mins question asked: https://usaskca1-my.sharepoint.com/personal/jwp744_usask_ca/_layouts/15/onedrive.aspx?originalPath=aHR0cHM6Ly91c2Fza2NhMS1teS5zaGFyZXBvaW50LmNvbS86ZjovZy9wZXJzb25hbC9qd3A3NDRfdXNhc2tfY2EvRXZPWUd4UkJ4dHhPcGNzSEFKUkk3dWdCdWJTWF8xT0ZSc05TLXl5R3FGRXZ0QT9ydGltZT0wN1JWLVhqVDJFZw&id=%2Fpersonal%2Fjwp744%5Fusask%5Fca%2FDocuments%2FGEOG827recordings%2FDemuth%5FPomeroy%5FGlaciers%5FAssignment3%5FDay6%5F3%2Emp4&parent=%2Fpersonal%2Fjwp744%5Fusask%5Fca%2FDocuments%2FGEOG827recordings\n",
    "\n",
    "# = 0.1 m  ## aerodynamic roughness length \n",
    "# = 0.7 m ## displacement height \n",
    "\n",
    "Pa = 1013 ## Pa atmospheric pressure Pa is  kg⋅m−1⋅s−2\n",
    "rho_a = 1.2 ## atmospheric density kg m -3\n",
    "Cp = 1005 # specific heat capacity of air J kg-1 K-1\n",
    "Lv = 2.450 *1000000 ## MJ kg -1\n",
    "\n",
    "\n",
    "u2 = 0.5 # m s-1\n",
    "u1 = 0.4 # m s-1\n",
    "z1 = 1.0 # m\n",
    "z2 = 2.0 # m\n",
    "d=0.7 #meters, displacement height\n",
    "zd= d#zero-plane displacement height\n"
   ]
  },
  {
   "cell_type": "code",
   "execution_count": 31,
   "metadata": {},
   "outputs": [
    {
     "data": {
      "text/plain": [
       "(1.0, 0.1)"
      ]
     },
     "execution_count": 31,
     "metadata": {},
     "output_type": "execute_result"
    }
   ],
   "source": [
    "# I estimate the vegetation height by rearranging equation 6.51 Dingman, so at 1.0 m tall, and \n",
    "# we were given an  aerodymanic roughness length of 0.1 m, which matches that obtained from eqn 6.52 dingman z0=0.1*zveg\n",
    "zveg=zd/0.7\n",
    "z0=0.1*zveg\n",
    "zveg,z0\n"
   ]
  },
  {
   "cell_type": "code",
   "execution_count": 32,
   "metadata": {},
   "outputs": [
    {
     "data": {
      "text/plain": [
       "0.02727885753642846"
      ]
     },
     "execution_count": 32,
     "metadata": {},
     "output_type": "execute_result"
    }
   ],
   "source": [
    "# height, z to the Obhukov length, L can be found by (4), where u* is the friction\n",
    "# velocity defined in (5), T a is the average virtual temperature, g is gravitational acceleration, and k is the von Kármán constant taken as 0.4.\n",
    "k= 0.4 # von Karmen constant\n",
    "u_s = (k * (u2-u1)) / math.log((z2-zd)/(z1-zd))  # u_z *k / math.log((z-d)/z_0)\n",
    "u_s # friction velocity"
   ]
  },
  {
   "cell_type": "code",
   "execution_count": 52,
   "metadata": {},
   "outputs": [
    {
     "data": {
      "text/plain": [
       "0.02182308602914277"
      ]
     },
     "execution_count": 52,
     "metadata": {},
     "output_type": "execute_result"
    }
   ],
   "source": [
    "# I then assume that Km=Ke=Kh, with \n",
    "Km=k*u_s*z2\n",
    "Kh=Km\n",
    "Kh"
   ]
  },
  {
   "cell_type": "code",
   "execution_count": 53,
   "metadata": {},
   "outputs": [
    {
     "data": {
      "text/plain": [
       "0.013093851617485662"
      ]
     },
     "execution_count": 53,
     "metadata": {},
     "output_type": "execute_result"
    }
   ],
   "source": [
    "Tau=Km*rho_a*u2\n",
    "Tau"
   ]
  },
  {
   "cell_type": "code",
   "execution_count": 56,
   "metadata": {},
   "outputs": [
    {
     "data": {
      "text/plain": [
       "(26.31864175114618, 0.026187703234971323)"
      ]
     },
     "execution_count": 56,
     "metadata": {},
     "output_type": "execute_result"
    }
   ],
   "source": [
    "H = rho_a * Cp * Km\n",
    "E= rho_a * Km\n",
    "H, E"
   ]
  },
  {
   "cell_type": "code",
   "execution_count": 57,
   "metadata": {},
   "outputs": [
    {
     "data": {
      "text/plain": [
       "5.991464547107982"
      ]
     },
     "execution_count": 57,
     "metadata": {},
     "output_type": "execute_result"
    }
   ],
   "source": [
    "# potential temperature, θ or vapour content, q\n",
    "\n",
    "dq=(E/(k*u_s*rho_a))*math.log(z/z0)\n",
    "dq\n",
    "\n",
    "\n",
    "# E = rho_a * w * q"
   ]
  },
  {
   "cell_type": "code",
   "execution_count": 58,
   "metadata": {},
   "outputs": [
    {
     "data": {
      "text/plain": [
       "0.3844116039811635"
      ]
     },
     "execution_count": 58,
     "metadata": {},
     "output_type": "execute_result"
    }
   ],
   "source": [
    "QE = rho_a * Lv * Km * dq\n",
    "QE"
   ]
  },
  {
   "cell_type": "code",
   "execution_count": 21,
   "metadata": {},
   "outputs": [
    {
     "ename": "NameError",
     "evalue": "name 'H' is not defined",
     "output_type": "error",
     "traceback": [
      "\u001b[0;31m---------------------------------------------------------------------------\u001b[0m",
      "\u001b[0;31mNameError\u001b[0m                                 Traceback (most recent call last)",
      "\u001b[0;32m<ipython-input-21-bd46a7637046>\u001b[0m in \u001b[0;36m<module>\u001b[0;34m\u001b[0m\n\u001b[0;32m----> 1\u001b[0;31m \u001b[0mdt_dz\u001b[0m \u001b[0;34m=\u001b[0m \u001b[0mH\u001b[0m\u001b[0;34m/\u001b[0m \u001b[0;34m(\u001b[0m\u001b[0mk\u001b[0m \u001b[0;34m*\u001b[0m \u001b[0mu_s\u001b[0m \u001b[0;34m*\u001b[0m \u001b[0mrho_a\u001b[0m \u001b[0;34m*\u001b[0m \u001b[0mCp\u001b[0m \u001b[0;34m)\u001b[0m \u001b[0;34m*\u001b[0m \u001b[0mmath\u001b[0m\u001b[0;34m.\u001b[0m\u001b[0mlog\u001b[0m\u001b[0;34m(\u001b[0m\u001b[0mz\u001b[0m\u001b[0;34m/\u001b[0m\u001b[0mz_0\u001b[0m\u001b[0;34m)\u001b[0m    \u001b[0;31m#eqn 9 Helgason and Pomeroy\u001b[0m\u001b[0;34m\u001b[0m\u001b[0;34m\u001b[0m\u001b[0m\n\u001b[0m\u001b[1;32m      2\u001b[0m \u001b[0mdt_dz\u001b[0m\u001b[0;34m\u001b[0m\u001b[0;34m\u001b[0m\u001b[0m\n",
      "\u001b[0;31mNameError\u001b[0m: name 'H' is not defined"
     ]
    }
   ],
   "source": [
    "dt_dz = H/ (k * u_s * rho_a * Cp ) * math.log(z/z_0)    #eqn 9 Helgason and Pomeroy\n",
    "dt_dz"
   ]
  },
  {
   "cell_type": "code",
   "execution_count": 20,
   "metadata": {},
   "outputs": [
    {
     "ename": "NameError",
     "evalue": "name 'dt_dz' is not defined",
     "output_type": "error",
     "traceback": [
      "\u001b[0;31m---------------------------------------------------------------------------\u001b[0m",
      "\u001b[0;31mNameError\u001b[0m                                 Traceback (most recent call last)",
      "\u001b[0;32m<ipython-input-20-5188e076f888>\u001b[0m in \u001b[0;36m<module>\u001b[0;34m\u001b[0m\n\u001b[0;32m----> 1\u001b[0;31m \u001b[0mQH\u001b[0m\u001b[0;34m=\u001b[0m\u001b[0;34m-\u001b[0m\u001b[0mrho_a\u001b[0m\u001b[0;34m*\u001b[0m\u001b[0mCp\u001b[0m\u001b[0;34m*\u001b[0m\u001b[0mKh\u001b[0m\u001b[0;34m*\u001b[0m\u001b[0;34m(\u001b[0m\u001b[0mdt_dz\u001b[0m\u001b[0;34m+\u001b[0m\u001b[0;36m0.0098\u001b[0m\u001b[0;34m)\u001b[0m\u001b[0;34m\u001b[0m\u001b[0;34m\u001b[0m\u001b[0m\n\u001b[0m\u001b[1;32m      2\u001b[0m \u001b[0mQH\u001b[0m\u001b[0;34m\u001b[0m\u001b[0;34m\u001b[0m\u001b[0m\n",
      "\u001b[0;31mNameError\u001b[0m: name 'dt_dz' is not defined"
     ]
    }
   ],
   "source": [
    "QH=-rho_a*Cp*Kh*(dt_dz+0.0098)\n",
    "QH"
   ]
  },
  {
   "cell_type": "code",
   "execution_count": 39,
   "metadata": {},
   "outputs": [],
   "source": [
    "# zveg = 3/2*d # m veg height\n",
    "# zveg\n",
    "# z0 = 0.04 ## m Table 6.4 p.\n",
    "# zveg = 0.6"
   ]
  },
  {
   "cell_type": "code",
   "execution_count": 40,
   "metadata": {},
   "outputs": [],
   "source": [
    "# u_star = k* ((u2 - u1)/math.log((z2/z1)))\n",
    "# u_star"
   ]
  },
  {
   "cell_type": "code",
   "execution_count": 41,
   "metadata": {},
   "outputs": [],
   "source": [
    "# z0 = zveg * 0.1\n",
    "# zd = 0.7 * zveg\n",
    "# z0, zd "
   ]
  },
  {
   "cell_type": "code",
   "execution_count": 44,
   "metadata": {},
   "outputs": [
    {
     "data": {
      "text/plain": [
       "0.06786121853116191"
      ]
     },
     "execution_count": 44,
     "metadata": {},
     "output_type": "execute_result"
    }
   ],
   "source": [
    "U = (u_s*(math.log((z2-d)/z0)-1+(z0/(z2-d)))) / (k*(1-(z0/z2-d)))\n",
    "U # m s-1"
   ]
  },
  {
   "cell_type": "code",
   "execution_count": 46,
   "metadata": {},
   "outputs": [
    {
     "data": {
      "text/plain": [
       "4.04248894829545"
      ]
     },
     "execution_count": 46,
     "metadata": {},
     "output_type": "execute_result"
    }
   ],
   "source": [
    "xmax = (U/u_s)*((z2-d)/(2*k))\n",
    "xmax"
   ]
  },
  {
   "cell_type": "code",
   "execution_count": 47,
   "metadata": {},
   "outputs": [
    {
     "data": {
      "text/plain": [
       "1.8450316647134206"
      ]
     },
     "execution_count": 47,
     "metadata": {},
     "output_type": "execute_result"
    }
   ],
   "source": [
    "x_80 = (1/math.log(80)) * 2 * xmax\n",
    "x_80"
   ]
  },
  {
   "cell_type": "markdown",
   "metadata": {},
   "source": [
    "# Question 4"
   ]
  },
  {
   "cell_type": "code",
   "execution_count": 73,
   "metadata": {},
   "outputs": [
    {
     "data": {
      "text/plain": [
       "0.006836734693877551"
      ]
     },
     "execution_count": 73,
     "metadata": {},
     "output_type": "execute_result"
    }
   ],
   "source": [
    "z1=1.;z2=3.\n",
    "T1ag=19.5+273.15; T2ag=19+273.15;ea1g=1635;ea2g=1605\n",
    "T1agv=21.4+273.15; T2agv=19.1+273.15; ea1gv=1415; ea2gv=1406\n",
    "Cp=1005 #J kg-1K-1; \n",
    "rho_a=1.2 #kg m-3\n",
    "pa=1000\n",
    "Qsg=280 # W m-2\n",
    "Qgg=20  # W m-2\n",
    "Qsgv=320\n",
    "Qggv=32\n",
    "Lv=2.450 * 10**6 # J kg -1\n",
    "\n",
    "B_grass=(Cp*pa*(T2ag-T1ag))/(Lv*(ea2g-ea1g))\n",
    "B_grass"
   ]
  },
  {
   "cell_type": "code",
   "execution_count": 80,
   "metadata": {},
   "outputs": [
    {
     "data": {
      "text/plain": [
       "0.010991534877616642"
      ]
     },
     "execution_count": 80,
     "metadata": {},
     "output_type": "execute_result"
    }
   ],
   "source": [
    "B_grass= (Cp*pa*(T2ag-T1ag))/(0.622*Lv*(ea2g-ea1g))\n",
    "B_grass"
   ]
  },
  {
   "cell_type": "code",
   "execution_count": 81,
   "metadata": {},
   "outputs": [
    {
     "data": {
      "text/plain": [
       "2.826728978028754"
      ]
     },
     "execution_count": 81,
     "metadata": {},
     "output_type": "execute_result"
    }
   ],
   "source": [
    "QH_grass= (B_grass*(Qsg-Qgg))/(1+B_grass)\n",
    "QH_grass"
   ]
  },
  {
   "cell_type": "code",
   "execution_count": 82,
   "metadata": {},
   "outputs": [
    {
     "data": {
      "text/plain": [
       "257.17327102197123"
      ]
     },
     "execution_count": 82,
     "metadata": {},
     "output_type": "execute_result"
    }
   ],
   "source": [
    "QE_grass=(Qsg-Qgg)/(1+B_grass)\n",
    "QE_grass"
   ]
  },
  {
   "cell_type": "code",
   "execution_count": 83,
   "metadata": {},
   "outputs": [
    {
     "data": {
      "text/plain": [
       "0.16853686812345184"
      ]
     },
     "execution_count": 83,
     "metadata": {},
     "output_type": "execute_result"
    }
   ],
   "source": [
    "B_gravel=(Cp*pa*(T2agv-T1agv))/(0.622*Lv*(ea2gv-ea1gv))\n",
    "B_gravel"
   ]
  },
  {
   "cell_type": "code",
   "execution_count": 84,
   "metadata": {},
   "outputs": [
    {
     "data": {
      "text/plain": [
       "41.53794316948004"
      ]
     },
     "execution_count": 84,
     "metadata": {},
     "output_type": "execute_result"
    }
   ],
   "source": [
    "QH_gravel= (B_gravel*(Qsgv-Qggv))/(1+B_gravel)\n",
    "QH_gravel"
   ]
  },
  {
   "cell_type": "code",
   "execution_count": 85,
   "metadata": {},
   "outputs": [
    {
     "data": {
      "text/plain": [
       "246.46205683051997"
      ]
     },
     "execution_count": 85,
     "metadata": {},
     "output_type": "execute_result"
    }
   ],
   "source": [
    "QE_gravel=(Qsgv-Qggv)/(1+B_gravel)\n",
    "QE_gravel"
   ]
  },
  {
   "cell_type": "markdown",
   "metadata": {},
   "source": [
    "# Question 5"
   ]
  },
  {
   "cell_type": "markdown",
   "metadata": {},
   "source": [
    "Supplementing these measurements were porometry surveys of the alfalfa, which yielded\n",
    "a mean leaf scale stomatal conductance of 3.2 x 10 -4 m/s. Thus, assuming r a = 1000 s m -1 ,\n",
    "ρ a = 1.2 kg m -3 , C p = 1005 J kg -1 K -1 , L v = 2.45 x 10 6 J kg -1 , find"
   ]
  },
  {
   "cell_type": "code",
   "execution_count": 18,
   "metadata": {},
   "outputs": [],
   "source": [
    "LAI =  2 \n",
    "#canopy height of 0.6 m\n",
    "rho_a = 1.2 ## atmospheric density kg m -3\n",
    "Cp = 1005 # specific heat capacity of air J kg-1 K-1\n",
    "ra = 1000 #s m -1\n",
    "T1=20.8\n",
    "T2=20\n",
    "\n",
    "Qs = 475 #W m -2 net radiation \n",
    "Qg = 23 #W m -2 and ground heat flux, which had average daily values of\n",
    "Lv=2.45*10**6"
   ]
  },
  {
   "cell_type": "code",
   "execution_count": 28,
   "metadata": {},
   "outputs": [
    {
     "data": {
      "text/plain": [
       "0.00048000000000000007"
      ]
     },
     "execution_count": 28,
     "metadata": {},
     "output_type": "execute_result"
    }
   ],
   "source": [
    "fs=0.75 #shelter factor\n",
    "g_leaf=3.2*10**-4\n",
    "gc=fs*g_leaf*LAI\n",
    "gc\n",
    "rs=gc\n",
    "rs"
   ]
  },
  {
   "cell_type": "code",
   "execution_count": 8,
   "metadata": {},
   "outputs": [],
   "source": [
    "# rs=((S/(S+psi))*(  ((Qs*Qg))+(Ca*VPD/ra)          ))"
   ]
  },
  {
   "cell_type": "code",
   "execution_count": 10,
   "metadata": {},
   "outputs": [
    {
     "data": {
      "text/plain": [
       "0.15112394383600908"
      ]
     },
     "execution_count": 10,
     "metadata": {},
     "output_type": "execute_result"
    }
   ],
   "source": [
    "delta = (4098*(0.6108*math.e**(17.27*T1/(T1+237.3))))/(T1+237.3)**2\n",
    "delta"
   ]
  },
  {
   "cell_type": "code",
   "execution_count": 13,
   "metadata": {},
   "outputs": [
    {
     "data": {
      "text/plain": [
       "2.3390469163992624"
      ]
     },
     "execution_count": 13,
     "metadata": {},
     "output_type": "execute_result"
    }
   ],
   "source": [
    "e_sat = 0.611*math.e**(17.27*T2/(237.3+T2)) \n",
    "e_sat"
   ]
  },
  {
   "cell_type": "code",
   "execution_count": 17,
   "metadata": {},
   "outputs": [
    {
     "data": {
      "text/plain": [
       "100.12350828341812"
      ]
     },
     "execution_count": 17,
     "metadata": {},
     "output_type": "execute_result"
    }
   ],
   "source": [
    "z=100 #m\n",
    "Pa = 101.3*((293-0.0065*z)/293)**5.26 ## Pa atmospheric pressure Pa is  kg⋅m−1⋅s−2\n",
    "Pa"
   ]
  },
  {
   "cell_type": "code",
   "execution_count": 19,
   "metadata": {},
   "outputs": [
    {
     "data": {
      "text/plain": [
       "6.661278306202919e-05"
      ]
     },
     "execution_count": 19,
     "metadata": {},
     "output_type": "execute_result"
    }
   ],
   "source": [
    "psi=1.63 *(Pa/Lv)\n",
    "psi"
   ]
  },
  {
   "cell_type": "code",
   "execution_count": 21,
   "metadata": {},
   "outputs": [
    {
     "data": {
      "text/plain": [
       "1.400441353803437"
      ]
     },
     "execution_count": 21,
     "metadata": {},
     "output_type": "execute_result"
    }
   ],
   "source": [
    "q=870*10**(-5)\n",
    "e=q*Pa/0.622\n",
    "e"
   ]
  },
  {
   "cell_type": "code",
   "execution_count": 23,
   "metadata": {},
   "outputs": [],
   "source": [
    "kc = 0.035 #W m -2"
   ]
  },
  {
   "cell_type": "code",
   "execution_count": 29,
   "metadata": {},
   "outputs": [
    {
     "data": {
      "text/plain": [
       "382.2065330422095"
      ]
     },
     "execution_count": 29,
     "metadata": {},
     "output_type": "execute_result"
    }
   ],
   "source": [
    "## penman montieth\n",
    "E = (delta*kc*(Qs*Qg)+(((rho_a*Cp)/Lv)*((e_sat-e)/ra)))/ (delta+psi*(1+(rs/ra)))\n",
    "E"
   ]
  },
  {
   "cell_type": "code",
   "execution_count": null,
   "metadata": {},
   "outputs": [],
   "source": []
  }
 ],
 "metadata": {
  "kernelspec": {
   "display_name": "Python 3",
   "language": "python",
   "name": "python3"
  },
  "language_info": {
   "codemirror_mode": {
    "name": "ipython",
    "version": 3
   },
   "file_extension": ".py",
   "mimetype": "text/x-python",
   "name": "python",
   "nbconvert_exporter": "python",
   "pygments_lexer": "ipython3",
   "version": "3.6.8"
  }
 },
 "nbformat": 4,
 "nbformat_minor": 2
}
