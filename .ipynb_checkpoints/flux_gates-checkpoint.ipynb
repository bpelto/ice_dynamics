{
 "cells": [
  {
   "cell_type": "code",
   "execution_count": 31,
   "metadata": {},
   "outputs": [],
   "source": [
    "import numpy as np\n",
    "import pandas as pd\n",
    "import matplotlib.pyplot as plt\n",
    "\n",
    "\n",
    "path = '/home/pelto/Desktop/ice_flux/Conrad/'\n",
    "\n",
    "f_in = 'gate_2930m_points.csv'    #'conrad_points.csv' "
   ]
  },
  {
   "cell_type": "code",
   "execution_count": 32,
   "metadata": {},
   "outputs": [
    {
     "data": {
      "text/html": [
       "<div>\n",
       "<style scoped>\n",
       "    .dataframe tbody tr th:only-of-type {\n",
       "        vertical-align: middle;\n",
       "    }\n",
       "\n",
       "    .dataframe tbody tr th {\n",
       "        vertical-align: top;\n",
       "    }\n",
       "\n",
       "    .dataframe thead th {\n",
       "        text-align: right;\n",
       "    }\n",
       "</style>\n",
       "<table border=\"1\" class=\"dataframe\">\n",
       "  <thead>\n",
       "    <tr style=\"text-align: right;\">\n",
       "      <th></th>\n",
       "      <th>easting</th>\n",
       "      <th>northing</th>\n",
       "      <th>depth</th>\n",
       "      <th>error</th>\n",
       "      <th>error_pub</th>\n",
       "      <th>distance</th>\n",
       "    </tr>\n",
       "  </thead>\n",
       "  <tbody>\n",
       "    <tr>\n",
       "      <th>0</th>\n",
       "      <td>NaN</td>\n",
       "      <td>NaN</td>\n",
       "      <td>0.00</td>\n",
       "      <td>NaN</td>\n",
       "      <td>NaN</td>\n",
       "      <td>0</td>\n",
       "    </tr>\n",
       "    <tr>\n",
       "      <th>1</th>\n",
       "      <td>505746.0</td>\n",
       "      <td>5625214.0</td>\n",
       "      <td>142.43</td>\n",
       "      <td>12.5</td>\n",
       "      <td>14.2</td>\n",
       "      <td>120</td>\n",
       "    </tr>\n",
       "    <tr>\n",
       "      <th>2</th>\n",
       "      <td>505746.0</td>\n",
       "      <td>5625222.0</td>\n",
       "      <td>143.11</td>\n",
       "      <td>12.5</td>\n",
       "      <td>14.3</td>\n",
       "      <td>120</td>\n",
       "    </tr>\n",
       "    <tr>\n",
       "      <th>3</th>\n",
       "      <td>505746.0</td>\n",
       "      <td>5625225.0</td>\n",
       "      <td>144.45</td>\n",
       "      <td>12.5</td>\n",
       "      <td>14.4</td>\n",
       "      <td>120</td>\n",
       "    </tr>\n",
       "    <tr>\n",
       "      <th>4</th>\n",
       "      <td>505748.0</td>\n",
       "      <td>5625231.0</td>\n",
       "      <td>147.14</td>\n",
       "      <td>12.5</td>\n",
       "      <td>14.7</td>\n",
       "      <td>122</td>\n",
       "    </tr>\n",
       "    <tr>\n",
       "      <th>5</th>\n",
       "      <td>505749.0</td>\n",
       "      <td>5625235.0</td>\n",
       "      <td>147.82</td>\n",
       "      <td>12.5</td>\n",
       "      <td>14.8</td>\n",
       "      <td>123</td>\n",
       "    </tr>\n",
       "    <tr>\n",
       "      <th>6</th>\n",
       "      <td>505750.0</td>\n",
       "      <td>5625239.0</td>\n",
       "      <td>151.18</td>\n",
       "      <td>12.5</td>\n",
       "      <td>15.1</td>\n",
       "      <td>124</td>\n",
       "    </tr>\n",
       "    <tr>\n",
       "      <th>7</th>\n",
       "      <td>505752.0</td>\n",
       "      <td>5625243.0</td>\n",
       "      <td>153.20</td>\n",
       "      <td>12.5</td>\n",
       "      <td>15.3</td>\n",
       "      <td>126</td>\n",
       "    </tr>\n",
       "    <tr>\n",
       "      <th>8</th>\n",
       "      <td>505754.0</td>\n",
       "      <td>5625247.0</td>\n",
       "      <td>154.55</td>\n",
       "      <td>12.5</td>\n",
       "      <td>15.5</td>\n",
       "      <td>128</td>\n",
       "    </tr>\n",
       "    <tr>\n",
       "      <th>9</th>\n",
       "      <td>505756.0</td>\n",
       "      <td>5625250.0</td>\n",
       "      <td>157.24</td>\n",
       "      <td>12.5</td>\n",
       "      <td>15.7</td>\n",
       "      <td>130</td>\n",
       "    </tr>\n",
       "  </tbody>\n",
       "</table>\n",
       "</div>"
      ],
      "text/plain": [
       "    easting   northing   depth  error  error_pub  distance\n",
       "0       NaN        NaN    0.00    NaN        NaN         0\n",
       "1  505746.0  5625214.0  142.43   12.5       14.2       120\n",
       "2  505746.0  5625222.0  143.11   12.5       14.3       120\n",
       "3  505746.0  5625225.0  144.45   12.5       14.4       120\n",
       "4  505748.0  5625231.0  147.14   12.5       14.7       122\n",
       "5  505749.0  5625235.0  147.82   12.5       14.8       123\n",
       "6  505750.0  5625239.0  151.18   12.5       15.1       124\n",
       "7  505752.0  5625243.0  153.20   12.5       15.3       126\n",
       "8  505754.0  5625247.0  154.55   12.5       15.5       128\n",
       "9  505756.0  5625250.0  157.24   12.5       15.7       130"
      ]
     },
     "execution_count": 32,
     "metadata": {},
     "output_type": "execute_result"
    }
   ],
   "source": [
    "data = pd.read_csv(path + f_in)\n",
    "data[0:10]"
   ]
  },
  {
   "cell_type": "code",
   "execution_count": 41,
   "metadata": {},
   "outputs": [],
   "source": [
    "# numpy.polyfit(x, y, deg, rcond=None, full=False, w=None, cov=False)[source]\n",
    "f = np.poly1d(np.polyfit(data.distance, data.depth,4))"
   ]
  },
  {
   "cell_type": "code",
   "execution_count": 42,
   "metadata": {},
   "outputs": [
    {
     "data": {
      "text/plain": [
       "poly1d([-1.88398032e-09,  5.32180748e-06, -5.48491406e-03,  2.19768960e+00,\n",
       "       -5.43990332e+01])"
      ]
     },
     "execution_count": 42,
     "metadata": {},
     "output_type": "execute_result"
    }
   ],
   "source": [
    "f\n"
   ]
  },
  {
   "cell_type": "code",
   "execution_count": 43,
   "metadata": {},
   "outputs": [
    {
     "data": {
      "image/png": "[encoded data removed]",
      "text/plain": [
       "<Figure size 432x288 with 1 Axes>"
      ]
     },
     "metadata": {
      "needs_background": "light"
     },
     "output_type": "display_data"
    }
   ],
   "source": [
    "d = np.linspace(0,1150,1000)\n",
    "\n",
    "plt.scatter(data.distance, data.depth)\n",
    "plt.plot(data.distance, data.depth, 'o', d, f(d), '-')\n",
    "plt.show()"
   ]
  },
  {
   "cell_type": "code",
   "execution_count": null,
   "metadata": {},
   "outputs": [],
   "source": []
  }
 ],
 "metadata": {
  "kernelspec": {
   "display_name": "Python 3",
   "language": "python",
   "name": "python3"
  },
  "language_info": {
   "codemirror_mode": {
    "name": "ipython",
    "version": 3
   },
   "file_extension": ".py",
   "mimetype": "text/x-python",
   "name": "python",
   "nbconvert_exporter": "python",
   "pygments_lexer": "ipython3",
   "version": "3.6.8"
  }
 },
 "nbformat": 4,
 "nbformat_minor": 2
}
