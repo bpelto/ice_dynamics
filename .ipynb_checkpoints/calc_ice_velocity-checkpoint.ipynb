{
 "cells": [
  {
   "cell_type": "code",
   "execution_count": 1,
   "metadata": {},
   "outputs": [],
   "source": [
    "### Preamble ###\n",
    "## Requires use of co-registered DEMs and an ice mask\n",
    "## Ben Pelto\n",
    "\n",
    "from osgeo import gdal\n",
    "import matplotlib.pyplot as plt\n",
    "import numpy as np\n",
    "import pandas as pd\n",
    "%matplotlib inline\n",
    "from scipy import stats\n",
    "import salem\n",
    "from salem import *\n",
    "import warnings\n",
    "warnings.filterwarnings('ignore')\n",
    "from matplotlib import pylab\n",
    "\n",
    "def cm2inch(*tupl):### plots in cm ##frontiers 180 mm for full width, 85 mm half width (1 column) figures\n",
    "    inch = 2.54\n",
    "    if isinstance(tupl[0], tuple):\n",
    "        return tuple(i/inch for i in tupl[0])\n",
    "    else:\n",
    "        return tuple(i/inch for i in tupl)\n",
    "    \n",
    "## enable zooming of plots in this notebook\n",
    "#import mpld3\n",
    "#mpld3.enable_notebook()\n",
    "#from mpld3 import plugins\n",
    "\n",
    "## enable latex symbols in graphs\n",
    "plt.rcParams['text.latex.preamble']=[r\"\\usepackage{wasysym}\"]\n",
    "path_out = '/home/pelto/Desktop/ice_flux/figures/'\n",
    "\n",
    "def make_gradients(path, path_out, dh_dt, topo, vel, msk, n_min,num,visual=False):\n",
    "    num=num\n",
    "\n",
    "    glacier = ['conrad','illecillewaet','kokanee']\n",
    "    glacier= glacier[num]\n",
    "\n",
    "    path = '/home/pelto/Desktop/lidar_cbt_analysis/' + glacier + '/'\n",
    "        \n",
    "    NAME = 'vz', 'Z'  #'Depth' 'v'\n",
    "    bin_size = 100.\n",
    "   \n",
    "    vdir=['/home/pelto/Desktop/velocity_mapping/Conrad_DEMs/spm2/3m/','/home/pelto/Desktop/velocity_mapping/illecillewaet/3m/',\n",
    "         '/home/pelto/Desktop/velocity_mapping/kokanee/bedem/3m/']\n",
    "    vdir=vdir[num]\n",
    "    if num==0:\n",
    "        VX = vel[:-5] + 'x.tif' ; VY = vel ;  VM = vel[:-5] + 'm.tif'  \n",
    "    elif num==1:\n",
    "        VX = vel ; VY = vel[:-9]+ 'y.tif' ;  VM = vel[:-9]+ 'm.tif'  \n",
    "    else:\n",
    "        VX = vel[:-5]+ 'x.tif'; VY = vel ;  VM = vel[:-5]+ 'm.tif'  \n",
    "        \n",
    "    msk = salem.open_xr_dataset(path+msk);msk = msk.to_array(name='msk')\n",
    "#     msk_reproj = vm.salem.transform(msk)\n",
    "    \n",
    "    vm = salem.open_xr_dataset(VM);vx = salem.open_xr_dataset(VX);vy = salem.open_xr_dataset(VY)\n",
    "    vm_reproj=msk.salem.transform(vm)\n",
    "    vm = vm_reproj.to_array(name='vm');#vx = vx.to_array(name='vx');vy = vy.to_array(name='vy')\n",
    "    vx_reproj = msk.salem.transform(vx);vy_reproj = msk.salem.transform(vy)\n",
    "    vx = vx_reproj.to_array(name='vx');vy = vy_reproj.to_array(name='vy')\n",
    "#     vz=vy.copy(name='vz')\n",
    "    vz=np.sqrt(vx.data**2 + vy.data**2 )\n",
    "    dem = salem.open_xr_dataset(path+topo);dem_reproj = msk.salem.transform(dem); dem = dem_reproj.to_array(name='dem')\n",
    "   \n",
    "    dh = salem.open_xr_dataset(path+dh_dt); dh_reproj = msk.salem.transform(dh); dh = dh_reproj.to_array(name='dh')\n",
    "    \n",
    "    \n",
    "    vz[msk.data<1.0] = np.nan; dem.data[msk.data<1.0]=np.nan ##remove data off-ice\n",
    "    vz[vz==0.0]=np.nan; vz[vz<0.1]=np.nan; dem.data[dem.data<1000] = np.nan; vz[vz>55.0]=np.nan;\n",
    "    \n",
    "\n",
    "    grid = vm.salem.grid  ##full view\n",
    "    sm = Map(grid, countries=False)\n",
    "    sm.set_lonlat_contours(interval=0)\n",
    "    sm.set_scale_bar()\n",
    "    sm.set_data(vz)\n",
    "    if visual==True:\n",
    "        sm.visualize()\n",
    "    \n",
    "    print('Average velocity:', np.round(np.nanmean(vz),2), '+/-',np.round(np.nanstd(vz),2), 'm/yr')\n",
    "        \n",
    "    # convert 2-d elevation and SWE arrays to 1-D vectors using ravel function\n",
    "    Zvec = np.ravel(dem)\n",
    "#     Depthvec = np.ravel(dh)\n",
    "    Velvec = np.ravel(vz)\n",
    "    \n",
    "    if num ==0:\n",
    "        if bin_size == 10.:\n",
    "            bins = range(1800,3400,10)\n",
    "        else:\n",
    "            bins = range(1800,3400,100)\n",
    "    elif num==1:\n",
    "        bins= range(1900, 2900, 100)\n",
    "    else:\n",
    "        bins=range(2200,2800,100)\n",
    "    \n",
    "    # create pandas dataframe for elevation and height change\n",
    "    df = pd.DataFrame({\"Z\":Zvec, \"vz\":Velvec}) #\"Depth\":Depthvec,\n",
    "  \n",
    "    # classify the elevation data into 100 metre bins and add to the data frame \n",
    "    if num==0:\n",
    "        if bin_size == 10.:\n",
    "            df['Zbins'] = pd.cut(df['Z'], bins, labels= np.arange(1805, 3395, 10))\n",
    "        else:\n",
    "            df['Zbins'] = pd.cut(df['Z'], bins, labels= np.arange(1850, 3350, 100))\n",
    "    elif num==1:\n",
    "        df['Zbins'] = pd.cut(df['Z'], bins, labels= np.arange(1950, 2850, 100))\n",
    "    else:\n",
    "        df['Zbins'] = pd.cut(df['Z'], bins, labels= np.arange(2250, 2750, 100))\n",
    "    # get some statistics from the data # this will be series which can be a pain to work with \n",
    "    # so convert to dataframes\n",
    "\n",
    "    for n in NAME: #'v' 'Depth'\n",
    "    \n",
    "        mean = df.groupby(by='Zbins')[n].mean()\n",
    "        median = df.groupby(by='Zbins')[n].median()\n",
    "        iqr    = df.groupby(by='Zbins')[n].quantile(0.75) - df.groupby(by='Zbins')[n].quantile(0.25)\n",
    "        count  = df.groupby(by='Zbins')[n].count()\n",
    "\n",
    "        ## convert series to pandas data frames instead of series\n",
    "#         if \n",
    "        if n=='Z':\n",
    "            df_dem= pd.DataFrame(list(zip(mean,iqr,count)), columns=['dem_mean','dem_iqr', 'dem_count'])\n",
    "#             df_dem.reset_index(inplace=True)\n",
    "            if num==0:\n",
    "                df_dem['Zbins'] = np.arange(1850, 3350, 100) \n",
    "            elif num==1:\n",
    "                df_dem['Zbins'] = np.arange(1950, 2850, 100) \n",
    "            else:\n",
    "                df_dem['Zbins'] = np.arange(2250, 2750, 100) \n",
    "        else:\n",
    "            df_vz= pd.DataFrame(list(zip(mean,median, iqr,count)), columns=['vz_mean','vz_median','vz_iqr', 'vz_count'])\n",
    "\n",
    "    ## returns data frame \n",
    "    DF =  pd.concat([df_dem, df_vz], axis=1)\n",
    "    DF['VZcoverage'] = DF.vz_count / DF.dem_count \n",
    "    VZ_list.append(vz)\n",
    "    return DF, VZ_list"
   ]
  },
  {
   "cell_type": "code",
   "execution_count": null,
   "metadata": {},
   "outputs": [],
   "source": [
    "DF,vz= make_gradients(path, path_out, dh, dem, vel_list[9], extent, n_min,0)"
   ]
  },
  {
   "cell_type": "code",
   "execution_count": null,
   "metadata": {},
   "outputs": [],
   "source": [
    "np.nanmax(vz)"
   ]
  },
  {
   "cell_type": "code",
   "execution_count": null,
   "metadata": {},
   "outputs": [],
   "source": [
    "# Bin_Count=pd.DataFrame()\n",
    "# for b in np.unique(df.Zbins):\n",
    "#     if np.isnan(b):\n",
    "#         continue\n",
    "#     W= df[df.Zbins==b].vz\n",
    "#     Counting= np.where(~np.isnan(W))\n",
    "#     if len(Counting)==0:\n",
    "#         C=0\n",
    "#     else:\n",
    "#         C= len(Counting[0])\n",
    "#     Bin_Count=Bin_Count.append({'Bin':b,'Count':C},ignore_index=True)"
   ]
  },
  {
   "cell_type": "code",
   "execution_count": 60,
   "metadata": {},
   "outputs": [
    {
     "data": {
      "text/plain": [
       "['20170917, 20181016',\n",
       " '20170521, 20180426',\n",
       " '20170521, 20170917',\n",
       " '20160912, 20170917',\n",
       " '20160912, 20170521',\n",
       " '20160417, 20170521',\n",
       " '20150911, 20160912',\n",
       " '20150911, 20160417',\n",
       " '20150419, 20160417',\n",
       " 'Mosaic']"
      ]
     },
     "execution_count": 60,
     "metadata": {},
     "output_type": "execute_result"
    }
   ],
   "source": [
    "labels_illec"
   ]
  },
  {
   "cell_type": "code",
   "execution_count": 4,
   "metadata": {},
   "outputs": [
    {
     "name": "stdout",
     "output_type": "stream",
     "text": [
      "Average velocity: 8.71 +/- 8.43 m/yr\n",
      "Average velocity: 9.0 +/- 8.63 m/yr\n",
      "Average velocity: 12.18 +/- 9.93 m/yr\n",
      "Average velocity: 14.97 +/- 10.33 m/yr\n",
      "Average velocity: 15.72 +/- 10.91 m/yr\n",
      "Average velocity: 19.06 +/- 11.65 m/yr\n",
      "Average velocity: 18.45 +/- 11.62 m/yr\n",
      "Average velocity: 18.35 +/- 11.07 m/yr\n",
      "Average velocity: 16.8 +/- 10.46 m/yr\n",
      "Average velocity: 15.95 +/- 9.86 m/yr\n",
      "Average velocity: 14.79 +/- 8.53 m/yr\n"
     ]
    }
   ],
   "source": [
    "# Illecillewaet glacier\n",
    "n_min = 500. ;    VZ_list=[]\n",
    "num=1\n",
    "dh='illecillewaet_2016_winter_dh_dt.tif'\n",
    "extent='illecillewaet_2014_extent_5m.tif'  #('/home/pelto/Desktop/lidar_cbt_analysis/conrad/conrad_2014_extent_5m.tif'    'conrad_2016_extent_5m.tif'\n",
    "dem='160912_illecillewaet_dem1_clip_master.tif'\n",
    "path_out = '/home/pelto/Desktop/ice_flux/figures/'\n",
    "   \n",
    "vel_list = ['/home/pelto/Desktop/velocity_mapping/illecillewaet/3m/img1_20180426__img2_20181016_vmap_5m_35px_spm2/img1_20180426__img2_20181016_vmap_5m_35px_spm2-F_vx_neg.tif',\n",
    "'/home/pelto/Desktop/velocity_mapping/illecillewaet/3m/img1_20170917__img2_20181016_vmap_5m_35px_spm2/img1_20170917__img2_20181016_vmap_5m_35px_spm2-F_vx_neg.tif',\n",
    "'/home/pelto/Desktop/velocity_mapping/illecillewaet/3m/img1_20170521__img1_20180426_vmap_5m_35px_spm2/img1_20170521__img1_20180426_vmap_5m_35px_spm2-F_vx_neg.tif',\n",
    "'/home/pelto/Desktop/velocity_mapping/illecillewaet/3m/img1_20170521__img1_20170917_vmap_5m_35px_spm2/img1_20170521__img1_20170917_vmap_5m_35px_spm2-F_vx_neg.tif',\n",
    "'/home/pelto/Desktop/velocity_mapping/illecillewaet/3m/img1_20160912__img1_20170917_vmap_5m_35px_spm2/img1_20160912__img1_20170917_vmap_5m_35px_spm2-F_vx_neg.tif',\n",
    "'/home/pelto/Desktop/velocity_mapping/illecillewaet/3m/img1_20160912__img1_20170521_vmap_5m_35px_spm2/img1_20160912__img1_20170521_vmap_5m_35px_spm2-F_vx_neg.tif',\n",
    "'/home/pelto/Desktop/velocity_mapping/illecillewaet/3m/img1_20160417__img1_20170521_vmap_5m_35px_spm2/img1_20160417__img1_20170521_vmap_5m_35px_spm2-F_vx_neg.tif',\n",
    "'/home/pelto/Desktop/velocity_mapping/illecillewaet/3m/img1_20150911__img1_20160912_vmap_5.0m_35px_spm2/img1_20150911__img1_20160912_vmap_5.0m_35px_spm2-F_vx_neg.tif',\n",
    "'/home/pelto/Desktop/velocity_mapping/illecillewaet/3m/img1_20150911__img1_20160417_vmap_5m_35px_spm2/img1_20150911__img1_20160417_vmap_5m_35px_spm2-F_vx_neg.tif',\n",
    "'/home/pelto/Desktop/velocity_mapping/illecillewaet/3m/img1_20150419__img1_20160417_vmap_5m_35px_spm2/img1_20150419__img1_20160417_vmap_5m_35px_spm2-F_vx_neg.tif',\n",
    "'/home/pelto/Desktop/velocity_mapping/illecillewaet/3m/illecillewaet_all_dem3m_blur1_25m_vx_neg.tif']\n",
    "\n",
    "ALL_Illec=[]\n",
    "for i in range(len(vel_list)):\n",
    "    VEL_Illec,VZ_list_I = make_gradients(path, path_out, dh, dem, vel_list[i], extent, n_min, num, False)\n",
    "    ALL_Illec.append(VEL_Illec)\n",
    "    \n",
    "labels_illec=['20180426, 20181016','20170917, 20181016','20170521, 20180426','20170521, 20170917', '20160912, 20170917',\n",
    "        '20160912, 20170521','20160417, 20170521','20150911, 20160912', '20150911, 20160417',\n",
    "        '20150419, 20160417','Mosaic']\n",
    " "
   ]
  },
  {
   "cell_type": "code",
   "execution_count": 7,
   "metadata": {},
   "outputs": [
    {
     "data": {
      "text/plain": [
       "1"
      ]
     },
     "execution_count": 7,
     "metadata": {},
     "output_type": "execute_result"
    }
   ],
   "source": [
    "num"
   ]
  },
  {
   "cell_type": "code",
   "execution_count": 9,
   "metadata": {},
   "outputs": [
    {
     "name": "stdout",
     "output_type": "stream",
     "text": [
      "Average velocity: 14.79 +/- 8.53 m/yr\n"
     ]
    },
    {
     "data": {
      "image/png": "[encoded data removed]",
      "text/plain": [
       "<Figure size 432x288 with 2 Axes>"
      ]
     },
     "metadata": {
      "needs_background": "light"
     },
     "output_type": "display_data"
    }
   ],
   "source": [
    "# Illecillewaet glacier\n",
    "n_min = 500. ;    VZ_list=[]\n",
    "num=1\n",
    "dh='illecillewaet_2016_winter_dh_dt.tif'\n",
    "extent='illecillewaet_2014_extent_5m.tif'  #('/home/pelto/Desktop/lidar_cbt_analysis/conrad/conrad_2014_extent_5m.tif'    'conrad_2016_extent_5m.tif'\n",
    "dem='160912_illecillewaet_dem1_clip_master.tif'\n",
    "path_out = '/home/pelto/Desktop/ice_flux/figures/'\n",
    "\n",
    "DF,vz= make_gradients(path, path_out, dh, dem, vel_list[10], extent, n_min,1,True)"
   ]
  },
  {
   "cell_type": "code",
   "execution_count": 181,
   "metadata": {},
   "outputs": [
    {
     "name": "stdout",
     "output_type": "stream",
     "text": [
      "-0.44085932\n",
      "% sliding: -2.8\n"
     ]
    }
   ],
   "source": [
    "d=VZ_list_I[3]-VZ_list_I[4]\n",
    "dp=(VZ_list_I[3]-VZ_list_I[4])/VZ_list_I[4]\n",
    "illec_slide=np.nanmedian(d)\n",
    "illec_slidep=np.nanmean(dp)\n",
    "print(illec_slide)#, con_slidep)\n",
    "print('% sliding:', round(illec_slide/15.72*100,2))"
   ]
  },
  {
   "cell_type": "code",
   "execution_count": 59,
   "metadata": {},
   "outputs": [
    {
     "data": {
      "text/plain": [
       "[0.9150549596681338,\n",
       " 0.8770324049598303,\n",
       " 0.9089962603424397,\n",
       " 0.8994962976417129,\n",
       " 0.8713207510451905,\n",
       " 0.8796076765147559,\n",
       " 0.7527771741421978,\n",
       " 0.7443280779198033,\n",
       " 0.7790682965908464,\n",
       " 0.7194964922466163,\n",
       " 0.988641560471852]"
      ]
     },
     "execution_count": 59,
     "metadata": {},
     "output_type": "execute_result"
    }
   ],
   "source": [
    "cover=[]\n",
    "for i in range(len(ALL_Illecllec)):\n",
    "    cover.append(ALL_Illec[i].vz_count.sum()/ALL_Illec[i].dem_count.sum())\n",
    "cover"
   ]
  },
  {
   "cell_type": "code",
   "execution_count": null,
   "metadata": {},
   "outputs": [],
   "source": [
    "DF,vz_list= make_gradients(path, path_out, dh, dem, vel_list[4], extent, n_min,1,True)"
   ]
  },
  {
   "cell_type": "code",
   "execution_count": 25,
   "metadata": {},
   "outputs": [
    {
     "name": "stdout",
     "output_type": "stream",
     "text": [
      "0 (1, 2402, 1602)\n",
      "1 (1, 2402, 1602)\n",
      "2 (1, 2402, 1602)\n",
      "3 (1, 2402, 1602)\n",
      "4 (1, 2402, 1602)\n",
      "5 (1, 2402, 1602)\n",
      "6 (1, 2402, 1602)\n",
      "7 (1, 2402, 1602)\n",
      "8 (1, 2402, 1602)\n",
      "9 (1, 2402, 1602)\n",
      "10 (1, 2402, 1602)\n"
     ]
    }
   ],
   "source": [
    "for i in range(len(VZ_list_I)):\n",
    "    print(i, np.shape(VZ_list_I[i]))"
   ]
  },
  {
   "cell_type": "code",
   "execution_count": 26,
   "metadata": {},
   "outputs": [
    {
     "data": {
      "text/plain": [
       "([0.48231468,\n",
       "  0.45945415,\n",
       "  0.16477242,\n",
       "  0.0071904548,\n",
       "  -0.01929637,\n",
       "  -0.15345766,\n",
       "  -0.08281656,\n",
       "  -0.06593678,\n",
       "  -0.09429911,\n",
       "  -0.011556881,\n",
       "  0.0],\n",
       " [6.3074265,\n",
       "  5.1139956,\n",
       "  2.0585842,\n",
       "  0.09517717,\n",
       "  -0.2790594,\n",
       "  -2.7084103,\n",
       "  -1.3795929,\n",
       "  -1.035738,\n",
       "  -1.5597324,\n",
       "  -0.17167377,\n",
       "  0.0],\n",
       " -0.22536659,\n",
       " -0.0154266255)"
      ]
     },
     "execution_count": 26,
     "metadata": {},
     "output_type": "execute_result"
    }
   ],
   "source": [
    "interA_d=[];interA_p=[]\n",
    "for i in range(len(VZ_list_I)):\n",
    "    A=VZ_list_I[10]-VZ_list_I[i]\n",
    "    interA_d.append(np.nanmedian(A))\n",
    "    B=A/VZ_list_I[10]\n",
    "    interA_p.append(np.nanmedian(B))\n",
    "    \n",
    "interA_p, interA_d,np.median(interA_d[:-1]), np.median(interA_p[:-1])"
   ]
  },
  {
   "cell_type": "code",
   "execution_count": null,
   "metadata": {},
   "outputs": [],
   "source": [
    "VZ_list[10]"
   ]
  },
  {
   "cell_type": "code",
   "execution_count": 10,
   "metadata": {},
   "outputs": [
    {
     "name": "stdout",
     "output_type": "stream",
     "text": [
      "Average velocity: 10.91 +/- 8.87 m/yr\n",
      "Average velocity: 3.38 +/- 4.12 m/yr\n",
      "Average velocity: 7.07 +/- 5.93 m/yr\n",
      "Average velocity: 1.83 +/- 2.5 m/yr\n",
      "Average velocity: 7.84 +/- 6.11 m/yr\n",
      "Average velocity: 4.28 +/- 3.94 m/yr\n",
      "Average velocity: 8.62 +/- 6.49 m/yr\n",
      "Average velocity: 2.29 +/- 3.69 m/yr\n",
      "Average velocity: 9.93 +/- 10.97 m/yr\n",
      "Average velocity: 6.7 +/- 6.26 m/yr\n"
     ]
    }
   ],
   "source": [
    "# Kokanee Glacier\n",
    "n_min = 500. ;    VZ_list=[]\n",
    "num=2\n",
    "dh='kokanee_2016_2015_dh_dt.tif'\n",
    "extent='kokanee_2015_extent_5m.tif' \n",
    "dem='20150912_kokanee_ppp_dem1_clip.tif'\n",
    "   \n",
    "# vel_list = [#'/home/pelto/Desktop/velocity_mapping/kokanee/dem/img1_20150419__img2_20150912_vmap_5m_35px_spm2/img1_20150419__img2_20150912_vmap_5m_35px_spm2-F_vy.tif',\n",
    "# '/home/pelto/Desktop/velocity_mapping/kokanee/dem/img1_20150419__img2_20160417_vmap_5m_35px_spm2/img1_20150419__img2_20160417_vmap_5m_35px_spm2-F_vy.tif',\n",
    "# # '/home/pelto/Desktop/velocity_mapping/kokanee/dem/img1_20150912__img2_20160417_vmap_5m_35px_spm2/img1_20150912__img2_20160417_vmap_5m_35px_spm2-F_vy.tif',\n",
    "# '/home/pelto/Desktop/velocity_mapping/kokanee/dem/img1_20150912__img2_20160913_vmap_5m_35px_spm2/img1_20150912__img2_20160913_vmap_5m_35px_spm2-F_vy.tif',\n",
    "# # '/home/pelto/Desktop/velocity_mapping/kokanee/dem/img1_20160417__img2_20160913_vmap_5m_35px_spm2/img1_20160417__img2_20160913_vmap_5m_35px_spm2-F_vy.tif',\n",
    "# '/home/pelto/Desktop/velocity_mapping/kokanee/dem/img1_20160417__img2_20170521_vmap_5m_35px_spm2/img1_20160417__img2_20170521_vmap_5m_35px_spm2-F_vy.tif',\n",
    "# # '/home/pelto/Desktop/velocity_mapping/kokanee/dem/img1_20160913__img2_20170521_vmap_5m_35px_spm2/img1_20160913__img2_20170521_vmap_5m_35px_spm2-F_vy.tif',\n",
    "# # '/home/pelto/Desktop/velocity_mapping/kokanee/dem/img1_20160913__img2_20170916_vmap_5m_35px_spm2/img1_20160913__img2_20170916_vmap_5m_35px_spm2-F_vy.tif',\n",
    "# # '/home/pelto/Desktop/velocity_mapping/kokanee/dem/img1_20170521__img2_20180426_vmap_5m_35px_spm2/img1_20170521__img2_20180426_vmap_5m_35px_spm2-F_vy.tif',\n",
    "# '/home/pelto/Desktop/velocity_mapping/kokanee/dem/kokanee_all_dem1m_5m_vy.tif']\n",
    "\n",
    "vel_list = ['/home/pelto/Desktop/velocity_mapping/kokanee/dem/img1_20150419__img2_20150912_vmap_5m_35px_spm2/img1_20150419__img2_20150912_vmap_5m_35px_spm2-F_vy.tif',\n",
    "'/home/pelto/Desktop/velocity_mapping/kokanee/dem/img1_20150419__img2_20160417_vmap_5m_35px_spm2/img1_20150419__img2_20160417_vmap_5m_35px_spm2-F_vy.tif',\n",
    "'/home/pelto/Desktop/velocity_mapping/kokanee/dem/img1_20150912__img2_20160417_vmap_5m_35px_spm2/img1_20150912__img2_20160417_vmap_5m_35px_spm2-F_vy.tif',\n",
    "'/home/pelto/Desktop/velocity_mapping/kokanee/dem/img1_20150912__img2_20160913_vmap_5m_35px_spm2/img1_20150912__img2_20160913_vmap_5m_35px_spm2-F_vy.tif',\n",
    "'/home/pelto/Desktop/velocity_mapping/kokanee/dem/img1_20160417__img2_20160913_vmap_5m_35px_spm2/img1_20160417__img2_20160913_vmap_5m_35px_spm2-F_vy.tif',\n",
    "'/home/pelto/Desktop/velocity_mapping/kokanee/dem/img1_20160417__img2_20170521_vmap_5m_35px_spm2/img1_20160417__img2_20170521_vmap_5m_35px_spm2-F_vy.tif',\n",
    "'/home/pelto/Desktop/velocity_mapping/kokanee/dem/img1_20160913__img2_20170521_vmap_5m_35px_spm2/img1_20160913__img2_20170521_vmap_5m_35px_spm2-F_vy.tif',\n",
    "'/home/pelto/Desktop/velocity_mapping/kokanee/dem/img1_20160913__img2_20170916_vmap_5m_35px_spm2/img1_20160913__img2_20170916_vmap_5m_35px_spm2-F_vy.tif',\n",
    "'/home/pelto/Desktop/velocity_mapping/kokanee/dem/img1_20170521__img2_20180426_vmap_5m_35px_spm2/img1_20170521__img2_20180426_vmap_5m_35px_spm2-F_vy.tif',\n",
    "'/home/pelto/Desktop/velocity_mapping/kokanee/dem/kokanee_all_dem1m_5m_vy.tif']\n",
    "\n",
    "ALL_kok=[]\n",
    "for i in range(len(vel_list)):\n",
    "    VEL_kok,VZ_list_K = make_gradients(path, path_out, dh, dem, vel_list[i], extent, n_min, num, False)\n",
    "    ALL_kok.append(VEL_kok)\n",
    "    \n",
    "labels_kok=['20150419, 20150912','20150419, 20160417','20150912, 20160417', '20150912, 20160913',\n",
    "        '20160417, 20160913','20160417, 20170521','20160913, 20170521', '20160913, 20170916',\n",
    "        '20170521, 20180426','Mosaic']\n",
    " "
   ]
  },
  {
   "cell_type": "code",
   "execution_count": 24,
   "metadata": {},
   "outputs": [
    {
     "name": "stdout",
     "output_type": "stream",
     "text": [
      "Average velocity: 2.29 +/- 3.69 m/yr\n"
     ]
    },
    {
     "data": {
      "image/png": "[encoded data removed]",
      "text/plain": [
       "<Figure size 432x288 with 2 Axes>"
      ]
     },
     "metadata": {
      "needs_background": "light"
     },
     "output_type": "display_data"
    }
   ],
   "source": [
    "DF,vz= make_gradients(path, path_out, dh, dem, vel_list[7], extent, 50,2,True)"
   ]
  },
  {
   "cell_type": "code",
   "execution_count": 178,
   "metadata": {},
   "outputs": [
    {
     "name": "stdout",
     "output_type": "stream",
     "text": [
      "5.8849726\n",
      "% sliding: 87.84\n"
     ]
    }
   ],
   "source": [
    "d=VZ_list_K[0]-VZ_list_K[1]\n",
    "dp=(VZ_list_K[0]-VZ_list_K[1])/VZ_list_K[1]\n",
    "kok_slide=np.nanmedian(d)\n",
    "kok_slidep=np.nanmean(dp)\n",
    "print(kok_slide)#, con_slidep)\n",
    "print('% sliding:', round(kok_slide/6.7*100,2))"
   ]
  },
  {
   "cell_type": "code",
   "execution_count": 47,
   "metadata": {},
   "outputs": [
    {
     "data": {
      "text/plain": [
       "([-0.8135488,\n",
       "  0.4894089,\n",
       "  -0.19632557,\n",
       "  0.80251855,\n",
       "  -0.3313286,\n",
       "  0.21342385,\n",
       "  -0.51898944,\n",
       "  0.87101394,\n",
       "  -0.36723867,\n",
       "  0.0],\n",
       " [-3.1380033,\n",
       "  1.9940783,\n",
       "  -0.6894572,\n",
       "  3.3391974,\n",
       "  -1.245569,\n",
       "  0.7690337,\n",
       "  -2.2018032,\n",
       "  4.0492296,\n",
       "  -1.1140479,\n",
       "  0.0],\n",
       " -0.6894572,\n",
       " -0.19632557)"
      ]
     },
     "execution_count": 47,
     "metadata": {},
     "output_type": "execute_result"
    }
   ],
   "source": [
    "interA_d=[];interA_p=[]\n",
    "for i in range(len(VZ_list_K)):\n",
    "    A=VZ_list_K[9]-VZ_list_K[i]\n",
    "    interA_d.append(np.nanmedian(A))\n",
    "    B=A/VZ_list_K[9]\n",
    "    interA_p.append(np.nanmedian(B))\n",
    "    \n",
    "interA_p, interA_d,np.median(interA_d[:-1]), np.median(interA_p[:-1])\n",
    "# kp=np.abs(interA_p)\n",
    "# kd=np.abs(interA_d)\n",
    "# np.median(kd), np.median(kp)"
   ]
  },
  {
   "cell_type": "code",
   "execution_count": 57,
   "metadata": {},
   "outputs": [
    {
     "data": {
      "text/plain": [
       "[0.5500432536249712,\n",
       " 0.5964714565757414,\n",
       " 0.5958682867596289,\n",
       " 0.5808882469186752,\n",
       " 0.620324441869509,\n",
       " 0.7345457575733526,\n",
       " 0.7399187308037238,\n",
       " 0.08366203442829818,\n",
       " 0.6786771533559257,\n",
       " 0.8092594503218229]"
      ]
     },
     "execution_count": 57,
     "metadata": {},
     "output_type": "execute_result"
    }
   ],
   "source": [
    "cover=[]\n",
    "for i in range(len(ALL_kok)):\n",
    "    cover.append(ALL_kok[i].vz_count.sum()/ALL_kok[i].dem_count.sum())\n",
    "cover"
   ]
  },
  {
   "cell_type": "code",
   "execution_count": 6,
   "metadata": {},
   "outputs": [
    {
     "name": "stdout",
     "output_type": "stream",
     "text": [
      "Average velocity: 16.32 +/- 12.77 m/yr\n",
      "Average velocity: 15.58 +/- 11.73 m/yr\n",
      "Average velocity: 23.09 +/- 13.47 m/yr\n",
      "Average velocity: 17.23 +/- 12.6 m/yr\n",
      "Average velocity: 19.49 +/- 11.61 m/yr\n",
      "Average velocity: 17.49 +/- 12.51 m/yr\n",
      "Average velocity: 25.37 +/- 14.19 m/yr\n",
      "Average velocity: 15.75 +/- 11.93 m/yr\n",
      "Average velocity: 18.87 +/- 12.08 m/yr\n",
      "Average velocity: 18.74 +/- 11.94 m/yr\n",
      "Average velocity: 17.94 +/- 11.86 m/yr\n",
      "Average velocity: 18.86 +/- 13.22 m/yr\n",
      "Average velocity: 17.0 +/- 12.2 m/yr\n"
     ]
    }
   ],
   "source": [
    "# conrad glacier\n",
    "n_min = 500. ;num=0; VZ_list=[]\n",
    "\n",
    "dh='conrad_2015_2016_dh_dt_filled_17_5m.tif'\n",
    "extent='conrad_2014_extent_5m.tif'  #('/home/pelto/Desktop/lidar_cbt_analysis/conrad/conrad_2014_extent_5m.tif'    'conrad_2016_extent_5m.tif'\n",
    "dem='20160912_conrad_dem1_clip_slave_5m.tif'\n",
    "\n",
    "###### vy_all  #######################\n",
    "vel_list = ['/home/pelto/Desktop/velocity_mapping/Conrad_DEMs/spm2/3m/img1_20170521__img2_20180426_vmap_5.0m_35px_spm2/img1_20170521__img2_20180426_vmap_5.0m_35px_spm2-F_vy.tif',\n",
    "'/home/pelto/Desktop/velocity_mapping/Conrad_DEMs/spm2/3m/img1_20160912__img2_20170917_vmap_5m_35px_spm2/img1_20160912__img2_20170917_vmap_5m_35px_spm2-F_vy.tif',\n",
    "'/home/pelto/Desktop/velocity_mapping/Conrad_DEMs/spm2/3m/img1_20160912__img1_20170521_vmap_5.0m_35px_spm2/img1_20160912__img1_20170521_vmap_5.0m_35px_spm2-F_vy.tif',\n",
    "'/home/pelto/Desktop/velocity_mapping/Conrad_DEMs/spm2/3m/img1_20160417__img1_20170521_vmap_5.0m_35px_spm2/img1_20160417__img1_20170521_vmap_5.0m_35px_spm2-F_vy.tif',\n",
    "'/home/pelto/Desktop/velocity_mapping/Conrad_DEMs/spm2/3m/img1_20160417__img1_20160912_vmap_5.0m_35px_spm2/img1_20160417__img1_20160912_vmap_5.0m_35px_spm2-F_vy.tif',\n",
    "'/home/pelto/Desktop/velocity_mapping/Conrad_DEMs/spm2/3m/img1_20150912__img1_20160912_vmap_5.0m_35px_spm2/img1_20150912__img1_20160912_vmap_5.0m_35px_spm2-F_vy.tif',\n",
    "'/home/pelto/Desktop/velocity_mapping/Conrad_DEMs/spm2/3m/img1_20150912__img1_20160417_vmap_5.0m_35px_spm2/img1_20150912__img1_20160417_vmap_5.0m_35px_spm2-F_vy.tif',\n",
    "'/home/pelto/Desktop/velocity_mapping/Conrad_DEMs/spm2/3m/img1_20150420__img1_20160417_vmap_5.0m_35px_spm2/img1_20150420__img1_20160417_vmap_5.0m_35px_spm2-F_vy.tif',\n",
    "'/home/pelto/Desktop/velocity_mapping/conrad_planet/img1_20160830__img1_20170809_vmap_5m_35px_spm2/img1_20160830__img1_20170809_vmap_5m_35px_spm2-F_vy.tif',\n",
    "'/home/pelto/Desktop/velocity_mapping/conrad_planet/img1_20160830__img1_20170904_vmap_5m_35px_spm2/img1_20160830__img1_20170904_vmap_5m_35px_spm2-F_vy.tif',\n",
    "'/home/pelto/Desktop/velocity_mapping/conrad_planet/img1_20170904__img2_20180822_vmap_5m_35px_spm2/img1_20170904__img2_20180822_vmap_5m_35px_spm2-F_vy.tif',\n",
    "'/home/pelto/Desktop/velocity_mapping/conrad_planet/img2_20170927__img2_20180822_vmap_5m_35px_spm2/img2_20170927__img2_20180822_vmap_5m_35px_spm2-F_vy.tif',\n",
    "'/home/pelto/Desktop/velocity_mapping/Conrad_DEMs/spm2/3m/conrad_all_3mdems+planet_25m_vy.tif'          ] \n",
    "########### conrad best ##################\n",
    "# vel_list = ['/home/pelto/Desktop/velocity_mapping/Conrad_DEMs/spm2/3m/img1_20170521__img2_20180426_vmap_5.0m_35px_spm2/img1_20170521__img2_20180426_vmap_5.0m_35px_spm2-F_vy.tif',\n",
    "# '/home/pelto/Desktop/velocity_mapping/Conrad_DEMs/spm2/3m/img1_20160912__img2_20170917_vmap_5m_35px_spm2/img1_20160912__img2_20170917_vmap_5m_35px_spm2-F_vy.tif',\n",
    "# '/home/pelto/Desktop/velocity_mapping/Conrad_DEMs/spm2/3m/img1_20160417__img1_20170521_vmap_5.0m_35px_spm2/img1_20160417__img1_20170521_vmap_5.0m_35px_spm2-F_vy.tif',\n",
    "# '/home/pelto/Desktop/velocity_mapping/Conrad_DEMs/spm2/3m/img1_20150912__img1_20160912_vmap_5.0m_35px_spm2/img1_20150912__img1_20160912_vmap_5.0m_35px_spm2-F_vy.tif',\n",
    "# '/home/pelto/Desktop/velocity_mapping/Conrad_DEMs/spm2/3m/img1_20150420__img1_20160417_vmap_5.0m_35px_spm2/img1_20150420__img1_20160417_vmap_5.0m_35px_spm2-F_vy.tif',\n",
    "# '/home/pelto/Desktop/velocity_mapping/conrad_planet/img1_20160830__img1_20170809_vmap_5m_35px_spm2/img1_20160830__img1_20170809_vmap_5m_35px_spm2-F_vy.tif',\n",
    "# '/home/pelto/Desktop/velocity_mapping/conrad_planet/img1_20160830__img1_20170904_vmap_5m_35px_spm2/img1_20160830__img1_20170904_vmap_5m_35px_spm2-F_vy.tif',\n",
    "# '/home/pelto/Desktop/velocity_mapping/conrad_planet/img1_20170904__img2_20180822_vmap_5m_35px_spm2/img1_20170904__img2_20180822_vmap_5m_35px_spm2-F_vy.tif',\n",
    "# '/home/pelto/Desktop/velocity_mapping/conrad_planet/img2_20170927__img2_20180822_vmap_5m_35px_spm2/img2_20170927__img2_20180822_vmap_5m_35px_spm2-F_vy.tif',\n",
    "# # '/home/pelto/Desktop/velocity_mapping/Conrad_DEMs/spm2/3m/conrad_all_3mdems+planet_5m_vy.tif',\n",
    "# '/home/pelto/Desktop/velocity_mapping/Conrad_DEMs/spm2/3m/conrad_all_3mdems+planet_25m_vy.tif'] \n",
    "       \n",
    "#     'img1_20150420__img1_20160417_vmap_5.0m_35px_spm2/img1_20150420__img1_20160417_vmap_5.0m_35px_spm2-F_vm.tif', \n",
    "# #             'img1_20150912__img1_20160417_vmap_5.0m_35px_spm2/img1_20150912__img1_20160417_vmap_5.0m_35px_spm2-F_vm.tif', \n",
    "#             'img1_20150912__img1_20160912_vmap_5.0m_35px_spm2/img1_20150912__img1_20160912_vmap_5.0m_35px_spm2-F_vm.tif',\n",
    "#             'img1_20160417__img1_20170521_vmap_5.0m_35px_spm2/img1_20160417__img1_20170521_vmap_5.0m_35px_spm2-F_vm.tif',\n",
    "# #             'img1_20160912__img1_20170521_vmap_5.0m_35px_spm2/img1_20160912__img1_20170521_vmap_5.0m_35px_spm2-F_vm.tif',\n",
    "#             'img1_20160912__img2_20170917_vmap_5m_35px_spm2/img1_20160912__img2_20170917_vmap_5m_35px_spm2-F_vm.tif',\n",
    "#             'img1_20170521__img2_20180426_vmap_5.0m_35px_spm2/img1_20170521__img2_20180426_vmap_5.0m_35px_spm2-F_vm.tif',\n",
    "# #             'img1_20160830__img1_20170904_vmap_5m_35px_spm2/img1_20160830__img1_20170904_vmap_5m_35px_spm2-F_vm.tif',\n",
    "# #             'img1_20160830__img1_20170809_vmap_5m_35px_spm2/img1_20160830__img1_20170809_vmap_5m_35px_spm2-F_vm.tif',\n",
    "# #             'img1_20140911__img1_20150420_vmap_5.0m_35px_spm2/img1_20140911__img1_20150420_vmap_5.0m_35px_spm2-F_vm.tif',\n",
    "# #             'img1_20150915__img2_20160417_vmap_5.0m_35px_spm2/img1_20150915__img2_20160417_vmap_5.0m_35px_spm2-F_vm.tif',\n",
    "#             'img1_20150420__img1_20150912_vmap_5.0m_35px_spm2/img1_20150420__img1_20150912_vmap_5.0m_35px_spm2-F_vm.tif',\n",
    "#             'img1_20160417__img1_20160912_vmap_5.0m_35px_spm2/img1_20160417__img1_20160912_vmap_5.0m_35px_spm2-F_vm.tif',\n",
    "#             'img1_20170521__img2_20170917_vmap_5.0m_35px_spm2/img1_20170521__img2_20170917_vmap_5.0m_35px_spm2-F_vm.tif',\n",
    "# #             'conrad_all_vm_3mdems+planet_5m.tif']\n",
    "#            ]\n",
    "ALL=[]\n",
    "for i in range(len(vel_list)):\n",
    "    VEL,VZ_list_C = make_gradients(path, path_out, dh, dem, vel_list[i], extent, n_min,num, False)\n",
    "    ALL.append(VEL)\n",
    "    \n",
    "# labels=['20170521, 20180426','20160912, 20170917','20160417, 20170521', '20150912, 20160912','20150420, 20160417',\n",
    "#         '20160830, 20170809','20160830, 20170904', '20170904, 20180822','20170927, 20180822','Mosaic']\n",
    "    \n",
    "labels_con=['20170521, 20180426','20160912, 20170917','20160912, 20170521','20160417, 20170521','20160417, 20160912',\n",
    "        '20150912, 20160912','20150912, 20160417','20150420, 20160417','20160830, 20170809','20160830, 20170904',\n",
    "        '20170904, 20180822','20170927, 20180822','Mosaic']\n",
    "    \n",
    "        \n",
    "#     'img1_20150420__img1_20160417',\n",
    "# #        'img1_20150912__img1_20160417',\n",
    "#        'img1_20150912__img1_20160912',\n",
    "#        'img1_20160417__img1_20170521',\n",
    "# #        'img1_20160912__img1_20170521',\n",
    "#        'img1_20160912__img2_20170917',\n",
    "#        'img1_20170521__img2_20180426',\n",
    "# #        'img1_20160830__img1_20170904',\n",
    "# #        'img1_20160830__img1_20170809',\n",
    "# #         'img1_20140911__img1_20150420',\n",
    "# #         'img1_20150915__img2_20160417',\n",
    "#         'img1_20150420__img1_20150912',\n",
    "#         'img1_20160417__img1_20160912',\n",
    "#         'img1_20170521__img2_20170917',\n",
    "# #        'conrad_all_vm_3mdems+planet5m']"
   ]
  },
  {
   "cell_type": "code",
   "execution_count": 32,
   "metadata": {},
   "outputs": [
    {
     "data": {
      "text/plain": [
       "13"
      ]
     },
     "execution_count": 32,
     "metadata": {},
     "output_type": "execute_result"
    }
   ],
   "source": [
    "# VZ_list_C=VZ_list_C[:-10]\n",
    "len(VZ_list_C)"
   ]
  },
  {
   "cell_type": "code",
   "execution_count": 153,
   "metadata": {},
   "outputs": [
    {
     "data": {
      "text/plain": [
       "['20170521, 20180426',\n",
       " '20160912, 20170917',\n",
       " '20160912, 20170521',\n",
       " '20160417, 20170521',\n",
       " '20160417, 20160912',\n",
       " '20150912, 20160912',\n",
       " '20150912, 20160417',\n",
       " '20150420, 20160417',\n",
       " '20160830, 20170809',\n",
       " '20160830, 20170904',\n",
       " '20170904, 20180822',\n",
       " '20170927, 20180822',\n",
       " 'Mosaic']"
      ]
     },
     "execution_count": 153,
     "metadata": {},
     "output_type": "execute_result"
    }
   ],
   "source": [
    "labels_con"
   ]
  },
  {
   "cell_type": "code",
   "execution_count": 171,
   "metadata": {},
   "outputs": [
    {
     "name": "stdout",
     "output_type": "stream",
     "text": [
      "2.5285597\n",
      "% sliding: 13.0\n"
     ]
    }
   ],
   "source": [
    "d=VZ_list_C[4]-VZ_list_C[1]\n",
    "dp=(VZ_list_C[4]-VZ_list_C[1])/VZ_list_C[1]\n",
    "con_slide=np.nanmedian(d)\n",
    "con_slidep=np.nanmean(dp)\n",
    "print(con_slide)#, con_slidep)\n",
    "print('% sliding:', round(con_slide/19.45*100,2))"
   ]
  },
  {
   "cell_type": "code",
   "execution_count": 160,
   "metadata": {},
   "outputs": [
    {
     "data": {
      "text/plain": [
       "0.1488235294117647"
      ]
     },
     "execution_count": 160,
     "metadata": {},
     "output_type": "execute_result"
    }
   ],
   "source": []
  },
  {
   "cell_type": "code",
   "execution_count": 33,
   "metadata": {},
   "outputs": [
    {
     "name": "stdout",
     "output_type": "stream",
     "text": [
      "0 (1, 2402, 3842)\n",
      "1 (1, 2402, 3842)\n",
      "2 (1, 2402, 3842)\n",
      "3 (1, 2402, 3842)\n",
      "4 (1, 2402, 3842)\n",
      "5 (1, 2402, 3842)\n",
      "6 (1, 2402, 3842)\n",
      "7 (1, 2402, 3842)\n",
      "8 (1, 2402, 3842)\n",
      "9 (1, 2402, 3842)\n",
      "10 (1, 2402, 3842)\n",
      "11 (1, 2402, 3842)\n",
      "12 (1, 2402, 3842)\n"
     ]
    }
   ],
   "source": [
    "for i in range(len(VZ_list_C)):\n",
    "    print(i, np.shape(VZ_list_C[i]))"
   ]
  },
  {
   "cell_type": "code",
   "execution_count": 34,
   "metadata": {},
   "outputs": [
    {
     "data": {
      "text/plain": [
       "([0.06564596,\n",
       "  0.062327974,\n",
       "  -0.3332008,\n",
       "  -0.029019574,\n",
       "  -0.06824586,\n",
       "  0.033823248,\n",
       "  -0.33996028,\n",
       "  0.03207636,\n",
       "  -0.110582314,\n",
       "  0.0,\n",
       "  0.004880972,\n",
       "  -0.04997131,\n",
       "  0.03709741704119539],\n",
       " [0.6939088,\n",
       "  0.7051152,\n",
       "  -4.970316,\n",
       "  -0.36447746,\n",
       "  -1.1203156,\n",
       "  0.50315624,\n",
       "  -5.47428,\n",
       "  0.37482592,\n",
       "  -1.776505,\n",
       "  0.0,\n",
       "  0.087944925,\n",
       "  -0.65685225,\n",
       "  0.5371159823589373],\n",
       " -0.18223873,\n",
       " -0.014509787)"
      ]
     },
     "execution_count": 34,
     "metadata": {},
     "output_type": "execute_result"
    }
   ],
   "source": [
    "interA_d_c=[];interA_p_c=[]\n",
    "for i in range(len(VZ_list_C)):\n",
    "    A=VZ_list_C[9]-VZ_list_C[i]\n",
    "    interA_d_c.append(np.nanmedian(A))\n",
    "    B=A/VZ_list_C[9]\n",
    "    interA_p_c.append(np.nanmedian(B))\n",
    "    \n",
    "interA_p_c, interA_d_c,np.median(interA_d_c[:-1]), np.median(interA_p_c[:-1])"
   ]
  },
  {
   "cell_type": "code",
   "execution_count": 40,
   "metadata": {},
   "outputs": [
    {
     "data": {
      "text/plain": [
       "[0.8897942501347896,\n",
       " 0.6530949440840391,\n",
       " 0.9010078786719307,\n",
       " 0.8801328764979043,\n",
       " 0.9246351983581752,\n",
       " 0.7551741830008523,\n",
       " 0.6986516687827191,\n",
       " 0.8482703445397152,\n",
       " 0.5466154755900308,\n",
       " 0.8379958954380229,\n",
       " 0.8196623302085326,\n",
       " 0.6089382924326486,\n",
       " 0.9723681235542724]"
      ]
     },
     "execution_count": 40,
     "metadata": {},
     "output_type": "execute_result"
    }
   ],
   "source": [
    "cover=[]\n",
    "for i in range(len(ALL)):\n",
    "    cover.append(ALL[i].vz_count.sum()/ALL[i].dem_count.sum())\n",
    "cover"
   ]
  },
  {
   "cell_type": "code",
   "execution_count": null,
   "metadata": {},
   "outputs": [],
   "source": [
    "for i in range(len(ALL)):\n",
    "    print(ALL[i].vz_mean.max())"
   ]
  },
  {
   "cell_type": "code",
   "execution_count": 75,
   "metadata": {},
   "outputs": [],
   "source": [
    "    \n",
    "labels_con=['20170521, 20180426','20160912, 20170917','20160912, 20170521','20160417, 20170521','20160417, 20160912',\n",
    "        '20150912, 20160912','20150912, 20160417','20150420, 20160417','20160830, 20170809','20160830, 20170904',\n",
    "        '20170904, 20180822','20170927, 20180822','Mosaic']\n",
    "    "
   ]
  },
  {
   "cell_type": "code",
   "execution_count": 86,
   "metadata": {},
   "outputs": [],
   "source": [
    "palette = sns.cubehelix_palette(13, start=.5, rot=-.75)\n"
   ]
  },
  {
   "cell_type": "code",
   "execution_count": 90,
   "metadata": {},
   "outputs": [
    {
     "data": {
      "text/plain": [
       "13"
      ]
     },
     "execution_count": 90,
     "metadata": {},
     "output_type": "execute_result"
    }
   ],
   "source": [
    "len(labels[p])"
   ]
  },
  {
   "cell_type": "code",
   "execution_count": 98,
   "metadata": {},
   "outputs": [
    {
     "data": {
      "text/plain": [
       "10"
      ]
     },
     "execution_count": 98,
     "metadata": {},
     "output_type": "execute_result"
    }
   ],
   "source": [
    "len(ALL_kok)"
   ]
  },
  {
   "cell_type": "code",
   "execution_count": 49,
   "metadata": {},
   "outputs": [
    {
     "data": {
      "image/png": "[encoded data removed]",
      "text/plain": [
       "<Figure size 510.236x510.236 with 3 Axes>"
      ]
     },
     "metadata": {
      "needs_background": "light"
     },
     "output_type": "display_data"
    }
   ],
   "source": [
    "ALL_3=[ALL,ALL_Illec,ALL_kok]\n",
    "labels=[labels_con,labels_illec,labels_kok]\n",
    "\n",
    "font = {'family' : 'Helvetica', 'weight' : 'normal',  'size'   : 8}\n",
    "plt.rc('font', **font)\n",
    "pylab.rcParams['xtick.major.pad']='1.'\n",
    "pylab.rcParams['ytick.major.pad']='1.'\n",
    "\n",
    "letter= ['A', 'B', 'C']\n",
    "glac = ['Conrad', 'Illec.', 'Kok.']\n",
    "## Code below is a hack. It should be written as a set of functions\n",
    "## when one has more time (interate over objects and names)\n",
    "bin_size = 100\n",
    "#glacier = 'zillmer'\n",
    "## write dataframes to output\n",
    "# for year in years:\n",
    "#     year.to_csv(path_out + glacier + 'D_' + year + '.csv')\n",
    "# c_2015.to_csv(path_out + glacier + NAME + str(bin_size) + '_2015.csv')\n",
    "# c_2016.to_csv(path_out + glacier + NAME + str(bin_size) + '_2016.csv')\n",
    "# c_2017.to_csv(path_out + glacier + NAME + str(bin_size) + '_2017.csv')\n",
    "# c_2018.to_csv(path_out + glacier + NAME + str(bin_size) + '_2018.csv')\n",
    "\n",
    "## make a few plots\n",
    "## since function 'make_snow_gradients' returns pandas series with indexes \n",
    "## we have to extract values noted in cALL_3[p]s to objects in plot values\n",
    "from matplotlib.ticker import (MultipleLocator, FormatStrFormatter,\n",
    "                               AutoMinorLocator)\n",
    "import seaborn as sns\n",
    "# palette = sns.cubehelix_palette(13, start=.5, rot=-.75)\n",
    "palette1 = sns.cubehelix_palette(6)\n",
    "\n",
    "plt.rcParams['figure.figsize'] = (cm2inch(18,18))\n",
    "\n",
    "fig, ax = plt.subplots(1,3, sharey=True)\n",
    "for p in range(3):\n",
    "    palette = sns.cubehelix_palette(len(labels[p]), start=.5, rot=-.75)\n",
    "    ax[p].plot(ALL_3[p][-1].vz_median, ALL_3[p][-1].Zbins, c='r', lw=1.5, label=labels[p][-1], zorder=1)\n",
    "    for i in range(len(ALL_3[p])-1):\n",
    "    #     sns.scatterplot(x=\"v\", y=\"Zbins\", palette=palette, legend=\"full\", markers='--o',data=ALL_3[p][i], ax=ax)\n",
    "    #     if i < 7:  \n",
    "        ax[p].plot(ALL_3[p][i].vz_median, ALL_3[p][i].Zbins, c=palette[i], marker='o', ms=3,lw=0.75, label=labels[p][i], zorder=0)\n",
    "    #     else: #if i > 4:\n",
    "    #         ax.plot(ALL_3[p][i][NAME], ALL_3[p][i]['Zbins'], c=palette1[i-7], marker='o', label=labels[i])\n",
    "    # ax.plot(ALL_3[p][-2]['vz_median'], ALL_3[p][i]['Zbins'], c='#de2d26', marker='', ms=5, label=labels[-2],lw=2.5,ls='--')\n",
    "#     ax[p].plot(ALL_3[p][i].vz_median, ALL_3[p][i]['Zbins'], c='k', marker='', ms=5, label=labels[p],lw=2.5,ls='--')\n",
    "    # ax.plot(c_2016[NAME], c_2016['Zbins'], c='#dfc27d', marker='*', label='2016')\n",
    "    # ax.plot(c_2017[NAME], c_2017['Zbins'], c='#80cdc1', marker='.', label='2017')\n",
    "    # ax.plot(c_2018[NAME], c_2018['Zbins'], c='#018571', marker='^', label='2018')\n",
    "    # ax.plot(c_2019[NAME], c_2019['Zbins'], c='#018571', marker='^', label='2019')\n",
    "    # ax.plot(c_2020[NAME], c_2020['Zbins'], c='#018571', marker='^', label='2020')\n",
    "    # ax.plot(c_2021[NAME], c_2021['Zbins'], c='#018571', marker='^', label='2021')\n",
    "    # ax.plot(c_2022[NAME], c_2022['Zbins'], c='#018571', marker='^', label='2022')\n",
    "    # ax.plot(c_2023[NAME], c_2023['Zbins'], c='#018571', marker='^', label='2023')\n",
    "    ax[0].set_ylabel('Elevation (m a.s.l.)')\n",
    "\n",
    "    ## These limits are scaled to fit ALL_3[p] data \n",
    "    ## to keep scaling consistent. These can be cahnged\n",
    "#     if NAME == 'Depth':\n",
    "#         ax[p].set_xlim([-10, 4])\n",
    "#         ax[p].set_xlabel('Height Change [m]')\n",
    "#     else: \n",
    "    ax[0].set_xlim([0, 45]);ax[1].set_xlim([0, 29]);ax[2].set_xlim([0, 14]);ax[2].set_xticks(np.arange(0, 15,5))\n",
    "    \n",
    "    ax[1].set_xlabel('Surface ice velocity (m a$^{-1}$)')\n",
    "#     ax[p].set_ylim([1800, 3325])\n",
    "\n",
    "    # Make a plot with major ticks that are multiples of 20 and minor ticks that\n",
    "    # are multiples of 5.  Label major ticks with '%d' formatting but don't label\n",
    "    # minor ticks.\n",
    "    ax[p].yaxis.set_major_locator(MultipleLocator(200))\n",
    "    ax[p].yaxis.set_major_formatter(FormatStrFormatter('%d'))\n",
    "    ax[p].tick_params(which='major', length=3)\n",
    "    ax[p].text(0.92, 0.95, letter[p], fontweight='normal', transform=ax[p].transAxes)\n",
    "    ax[p].text(0.95, 0.03, glac[p], fontweight='normal', transform=ax[p].transAxes,horizontalalignment='right')\n",
    "    # For the minor ticks, use no labels; default NullFormatter.\n",
    "    ax[2].yaxis.set_minor_locator(MultipleLocator(100))\n",
    "#     ax[p].grid(color='grey', alpha=0.6,linestyle=\"--\")\n",
    "    ax[p].legend(loc='lower left', bbox_to_anchor=(0.08, -0.54))\n",
    "# plt.tight_layout()\n",
    "\n",
    "# if NAME == 'Depth':\n",
    "#     plt.savefig(path_out + glacier + '_height_change_on_ice.pdf', resolution=600)\n",
    "# else:\n",
    "fig.subplots_adjust(bottom=0.35, top=0.99, hspace=0.1, left=0.075, right=0.99, wspace=0.05)\n",
    "plt.savefig(path_out + 'Conrad_Illec_Kok_ice_velocity_new.pdf', resolution=300)\n",
    "plt.show()"
   ]
  },
  {
   "cell_type": "code",
   "execution_count": 2,
   "metadata": {},
   "outputs": [],
   "source": [
    "# conrad example:\n",
    "ub=(62-53)/3.154e7;phi=11.; h=130.; \n",
    "# Illec. example:\n",
    "ub=(62-53)/3.154e7;phi=11.; h=130.; "
   ]
  },
  {
   "cell_type": "code",
   "execution_count": 3,
   "metadata": {},
   "outputs": [
    {
     "data": {
      "text/plain": [
       "222804.42134634368"
      ]
     },
     "execution_count": 3,
     "metadata": {},
     "output_type": "execute_result"
    }
   ],
   "source": [
    "rho_i=910.;g=9.81; A=3.24e-24; n=3\n",
    "\n",
    "Tb=rho_i*g*h*np.deg2rad(phi)\n",
    "Tb"
   ]
  },
  {
   "cell_type": "code",
   "execution_count": 4,
   "metadata": {},
   "outputs": [
    {
     "data": {
      "text/plain": [
       "2.1488106178444808e-06"
      ]
     },
     "execution_count": 4,
     "metadata": {},
     "output_type": "execute_result"
    }
   ],
   "source": [
    "q=(ub*h)+(((2*A)/(n+2)) * (Tb**n) * h**(2))\n",
    "Ud=q/h\n",
    "Ud"
   ]
  },
  {
   "cell_type": "code",
   "execution_count": 5,
   "metadata": {},
   "outputs": [
    {
     "data": {
      "text/plain": [
       "2.6146752887926016e-06"
      ]
     },
     "execution_count": 5,
     "metadata": {},
     "output_type": "execute_result"
    }
   ],
   "source": [
    "Us=ub+(((2*A)/(n+1))*(Tb**n)*h)\n",
    "Us"
   ]
  },
  {
   "cell_type": "code",
   "execution_count": 6,
   "metadata": {},
   "outputs": [
    {
     "name": "stdout",
     "output_type": "stream",
     "text": [
      "surface vel. m yr: 82.46685860851865\n"
     ]
    }
   ],
   "source": [
    "print('surface vel. m yr:', Us*3.154e7)"
   ]
  },
  {
   "cell_type": "code",
   "execution_count": 7,
   "metadata": {},
   "outputs": [
    {
     "name": "stdout",
     "output_type": "stream",
     "text": [
      "ratio of Ud to Us: 0.8218269500059999\n"
     ]
    }
   ],
   "source": [
    "print('ratio of Ud to Us:', Ud/Us)"
   ]
  },
  {
   "cell_type": "code",
   "execution_count": null,
   "metadata": {},
   "outputs": [],
   "source": []
  },
  {
   "cell_type": "code",
   "execution_count": null,
   "metadata": {},
   "outputs": [],
   "source": []
  },
  {
   "cell_type": "code",
   "execution_count": null,
   "metadata": {},
   "outputs": [],
   "source": [
    "ALL_3[p][i][5]"
   ]
  },
  {
   "cell_type": "code",
   "execution_count": null,
   "metadata": {},
   "outputs": [],
   "source": [
    "ALL_3[0][0]"
   ]
  },
  {
   "cell_type": "code",
   "execution_count": null,
   "metadata": {},
   "outputs": [],
   "source": [
    "ALL_3[p][i]['vz_median']"
   ]
  },
  {
   "cell_type": "code",
   "execution_count": null,
   "metadata": {},
   "outputs": [],
   "source": [
    "ax[p].plot(ALL_3[p][i]['vz_median'], ALL_3[p][i]['Zbins'], c=palette[i], marker='o', ms=5, label=labels[p][i])"
   ]
  },
  {
   "cell_type": "code",
   "execution_count": null,
   "metadata": {},
   "outputs": [],
   "source": [
    "total_area=ALL[0].dem_count.sum()\n",
    "Medians=[]\n",
    "VAR=[]\n",
    "sum_vz_count=[]\n",
    "\n",
    "for z in range(len(ALL[i])):\n",
    "    A=[];\n",
    "    for i in range(len(ALL)):\n",
    "        A.append(ALL[i].vz_median[z])\n",
    "      \n",
    "    STD=np.nanstd(A)\n",
    "    var=np.var(A)\n",
    "    mean_vz_count.append(mvz)\n",
    "    Medians.append(STD)\n",
    "    VAR.append(var)"
   ]
  },
  {
   "cell_type": "code",
   "execution_count": null,
   "metadata": {},
   "outputs": [],
   "source": [
    "total_area=ALL[0].dem_count.sum()\n",
    "mean_vz_count=[]\n",
    "for i in range(len(ALL)):\n",
    "    mean_vz_count.append(ALL[i].vz_count.sum())\n",
    "print(np.mean(mean_vz_count)/total_area)\n",
    "print(np.min(mean_vz_count)/total_area)\n",
    "print(np.max(mean_vz_count)/total_area)"
   ]
  },
  {
   "cell_type": "code",
   "execution_count": null,
   "metadata": {},
   "outputs": [],
   "source": [
    "\n",
    "# ## Code below is a hack. It should be written as a set of functions\n",
    "# ## when one has more time (interate over objects and names)\n",
    "# bin_size = 100\n",
    "# #glacier = 'zillmer'\n",
    "# ## write dataframes to output\n",
    "# # for year in years:\n",
    "# #     year.to_csv(path_out + glacier + 'D_' + year + '.csv')\n",
    "# # c_2015.to_csv(path_out + glacier + NAME + str(bin_size) + '_2015.csv')\n",
    "# # c_2016.to_csv(path_out + glacier + NAME + str(bin_size) + '_2016.csv')\n",
    "# # c_2017.to_csv(path_out + glacier + NAME + str(bin_size) + '_2017.csv')\n",
    "# # c_2018.to_csv(path_out + glacier + NAME + str(bin_size) + '_2018.csv')\n",
    "\n",
    "\n",
    "# ## make a few plots\n",
    "# ## since function 'make_snow_gradients' returns pandas series with indexes \n",
    "# ## we have to extract values noted in calls to objects in plot values\n",
    "# from matplotlib.ticker import (MultipleLocator, FormatStrFormatter,\n",
    "#                                AutoMinorLocator)\n",
    "\n",
    "# plt.rcParams['figure.figsize'] = 5, 10\n",
    "\n",
    "# fig, ax = plt.subplots()\n",
    "\n",
    "\n",
    "# ax.plot(c_2015[NAME], c_2015['Zbins'], c='#a6611a', marker='o', label='2015')\n",
    "# ax.plot(c_2016[NAME], c_2016['Zbins'], c='#dfc27d', marker='*', label='2016')\n",
    "# ax.plot(c_2017[NAME], c_2017['Zbins'], c='#80cdc1', marker='.', label='2017')\n",
    "# ax.plot(c_2018[NAME], c_2018['Zbins'], c='#018571', marker='^', label='2018')\n",
    "\n",
    "# ax.set_ylabel('Elevation [m asl]')\n",
    "\n",
    "\n",
    "# ## These limits are scaled to fit all data \n",
    "# ## to keep scaling consistent. These can be cahnged\n",
    "# if NAME == 'Depth':\n",
    "#     ax.set_xlim([-10, 4])\n",
    "#     ax.set_xlabel('Height Change [m]')\n",
    "# else: \n",
    "#     ax.set_xlim([0, 30])\n",
    "#     ax.set_xlabel('Ice Velocity [m]')\n",
    "# ax.set_ylim([1450, 3400])\n",
    "\n",
    "# # Make a plot with major ticks that are multiples of 20 and minor ticks that\n",
    "# # are multiples of 5.  Label major ticks with '%d' formatting but don't label\n",
    "# # minor ticks.\n",
    "# ax.yaxis.set_major_locator(MultipleLocator(200))\n",
    "# ax.yaxis.set_major_formatter(FormatStrFormatter('%d'))\n",
    "\n",
    "# # For the minor ticks, use no labels; default NullFormatter.\n",
    "# ax.yaxis.set_minor_locator(MultipleLocator(50))\n",
    "# plt.grid(color='grey')\n",
    "\n",
    "# plt.tight_layout()\n",
    "# plt.legend()\n",
    "# if NAME == 'Depth':\n",
    "#     plt.savefig(path_out + glacier + '_height_change_on_ice.pdf', resolution=600)\n",
    "# else:\n",
    "#     plt.savefig(path_out + glacier + '_ice_velocity.pdf', resolution=600)\n",
    "# plt.show()"
   ]
  },
  {
   "cell_type": "code",
   "execution_count": null,
   "metadata": {},
   "outputs": [],
   "source": [
    "\n",
    "# for NAME in ['Depth','v']:\n",
    "#     median = df.groupby(by='Zbins')[NAME].median()\n",
    "#     iqr   = df.groupby(by='Zbins')[NAME].quantile(0.75) - df.groupby(by='Zbins')[NAME].quantile(0.25)\n",
    "#     count  = df.groupby(by='Zbins')[NAME].count()\n",
    "\n",
    "#     ## remove any values that are less than 100 values\n",
    "#     ## these are series not pandas dataframes\n",
    "\n",
    "#     ## convert series to pandas data frames instead of series\n",
    "\n",
    "#     median = median.to_frame() \n",
    "#     iqr    = iqr.to_frame()\n",
    "#     count  = count.to_frame()\n",
    "\n",
    "#     OUT= pd.DataFrame({'D':np.array(median),'iqr': np.array(iqr),'count' : np.array(count),\n",
    "#              'Zbins':np.array(df.Zbins)})"
   ]
  },
  {
   "cell_type": "code",
   "execution_count": null,
   "metadata": {},
   "outputs": [],
   "source": [
    "# ## Call function to make dataframes for plotting\n",
    "\n",
    "# ## this sets the minimum count of a given elevation bin\n",
    "\n",
    "# n_min = 500. \n",
    "\n",
    "# c_2015 = make_snow_gradients(path, path_out, 'conrad_bedem_master_5m.tif', \n",
    "#                     'conrad_2015_winter_5m.tif', \n",
    "#                     'conrad_2016_ice_msk_5m.tif', n_min)\n",
    "\n",
    "# c_2016 = make_snow_gradients(path, path_out, 'conrad_bedem_master_5m.tif', \n",
    "#                     'conrad_2016_winter_5m.tif', \n",
    "#                     'conrad_2016_ice_msk_5m.tif', n_min)\n",
    "\n",
    "# c_2017 = make_snow_gradients(path, path_out, 'conrad_bedem_master_5m.tif', \n",
    "#                     'conrad_2017_winter_5m.tif', \n",
    "#                     'conrad_2016_ice_msk_5m.tif', n_min)\n",
    "\n",
    "# c_2018 = make_snow_gradients(path, path_out, 'conrad_bedem_master_5m.tif', \n",
    "#                     'conrad_2018_winter_5m.tif', \n",
    "#                     'conrad_2016_ice_msk_5m.tif', n_min)\n"
   ]
  },
  {
   "cell_type": "code",
   "execution_count": null,
   "metadata": {},
   "outputs": [],
   "source": [
    "\n",
    "## Code below is a hack. It should be written as a set of functions\n",
    "## when one has more time (interate over objects and names)\n",
    "\n",
    "## write dataframes to output\n",
    "c_2015.to_csv(path_out + 'conrad_2015.csv')\n",
    "c_2016.to_csv(path_out + 'conrad_2016.csv')\n",
    "c_2017.to_csv(path_out + 'conrad_2017.csv')\n",
    "c_2018.to_csv(path_out + 'conrad_2018.csv')\n",
    "\n",
    "\n",
    "## make a few plots\n",
    "## since function 'make_snow_gradients' returns pandas series with indexes \n",
    "## we have to extract values noted in calls to objects in plot values\n",
    "from matplotlib.ticker import (MultipleLocator, FormatStrFormatter,\n",
    "                               AutoMinorLocator)\n",
    "\n",
    "plt.rcParams['figure.figsize'] = 5, 10\n",
    "\n",
    "fig, ax = plt.subplots()\n",
    "\n",
    "\n",
    "ax.plot(c_2015['Depth'], c_2015['Zbins'],'-ro', label='2015')\n",
    "ax.plot(c_2016['Depth'], c_2016['Zbins'], '-g*', label='2016')\n",
    "ax.plot(c_2017['Depth'], c_2017['Zbins'], '-k.', label='2017')\n",
    "ax.plot(c_2018['Depth'], c_2018['Zbins'], '-b^', label='2018')\n",
    "ax.set_ylabel('Elevation [m asl]')\n",
    "ax.set_xlabel('Snow depth [m]')\n",
    "\n",
    "## These limits are scaled to fit all data \n",
    "## to keep scaling consistent. These can be cahnged\n",
    "ax.set_xlim([0, 5])\n",
    "ax.set_ylim([1100, 3250])\n",
    "\n",
    "# Make a plot with major ticks that are multiples of 20 and minor ticks that\n",
    "# are multiples of 5.  Label major ticks with '%d' formatting but don't label\n",
    "# minor ticks.\n",
    "ax.yaxis.set_major_locator(MultipleLocator(200))\n",
    "ax.yaxis.set_major_formatter(FormatStrFormatter('%d'))\n",
    "\n",
    "# For the minor ticks, use no labels; default NullFormatter.\n",
    "ax.yaxis.set_minor_locator(MultipleLocator(50))\n",
    "plt.grid(color='grey')\n",
    "\n",
    "plt.tight_layout()\n",
    "plt.legend()\n",
    "plt.savefig(path_out + 'Conrad_snow_gradients_off_ice.pdf', resolution=600)\n",
    "plt.show()"
   ]
  },
  {
   "cell_type": "code",
   "execution_count": null,
   "metadata": {},
   "outputs": [],
   "source": [
    "## try kokanee\n",
    "path = '/Volumes/Powermac_backup/lidar_cbt_analysis/kokanee/'\n",
    "k_2018 = make_snow_gradients(path, path_out, '160913_Kokanee_bedem_5m.tif', \n",
    "                    '180426_kokanee_winter_5m.tif', \n",
    "                    'kokanee_2016_ice_msk_5m.tif')"
   ]
  },
  {
   "cell_type": "code",
   "execution_count": null,
   "metadata": {},
   "outputs": [],
   "source": [
    "## make a few plots\n",
    "plt.rcParams['figure.figsize'] = 5, 10\n",
    "#plt.plot(c_2015.get_values(), c_2015.index.get_values(),'-ro', label='2015')\n",
    "#plt.plot(c_2016.get_values(), c_2016.index.get_values(), '-g*', label='2016')\n",
    "#plt.plot(c_2017.get_values(), c_2017.index.get_values(), '-k.', label='2017')\n",
    "plt.plot(k_2018.get_values(), k_2018.index.get_values(), '-b^', label='2018')\n",
    "plt.ylabel('Elevation [m asl]')\n",
    "plt.xlabel('Snow depth [m]')\n",
    "plt.tight_layout()\n",
    "plt.legend()\n",
    "plt.savefig('Kokanee_snow_gradients_off_ice.pdf', resolution=600)\n",
    "plt.show()"
   ]
  },
  {
   "cell_type": "code",
   "execution_count": null,
   "metadata": {},
   "outputs": [],
   "source": [
    "\n",
    "glacier = 'conrad'\n",
    "\n",
    "path = '/home/pelto/Desktop/lidar_cbt_analysis/' + glacier + '/'\n",
    "path_out = '/home/pelto/Desktop/ice_flux/figures/'\n",
    "\n",
    "## this will be done for many sites to make a function call to extract\n",
    "## data of interest \n",
    "## uses panda  \n",
    "\n",
    "NAME = 'vz', 'Z'  #'Depth' 'v'\n",
    "bin_size = 100.\n",
    "n_min = 500. \n",
    "\n",
    "dh_dt='conrad_2015_2016_dh_dt_filled_17_5m.tif'\n",
    "msk='conrad_2014_extent_5m.tif'  #('/home/pelto/Desktop/lidar_cbt_analysis/conrad/conrad_2014_extent_5m.tif'    'conrad_2016_extent_5m.tif'\n",
    "topo='20160912_conrad_dem1_clip_slave_5m.tif'\n",
    "\n",
    "# def make_gradients(path, path_out, dh_dt, topo, vel, msk, n_min):\n",
    "    # open GeoTIFF as array\n",
    "#     dh_dt = gdal.Open(path + dh_dt).ReadAsArray()\n",
    "#     dem   = gdal.Open(path + dem).ReadAsArray()\n",
    "\n",
    "#     msk   = gdal.Open(path + msk).ReadAsArray() \n",
    "#     vel   = gdal.Open('/home/pelto/Desktop/velocity_mapping/Conrad_DEMs/spm2/3m/'+ vel).ReadAsArray() #/vm/ \n",
    "# for i in range(len(vel_list)):\n",
    "#     vel=vel_list[i]\n",
    "vel=vel_list[1]\n",
    "vdir='/home/pelto/Desktop/velocity_mapping/Conrad_DEMs/spm2/3m/'\n",
    "VX = vel[:-5] + 'x.tif'  #vdir + vel[:-5] + 'x.tif' \n",
    "VY = vel                 #vdir + vel[:-5] + 'y.tif' \n",
    "VM = vel[:-5] + 'm.tif' #vdir + vel[:-5] + 'm.tif' \n",
    "\n",
    "vm = salem.open_xr_dataset(VM);vx = salem.open_xr_dataset(VX);vy = salem.open_xr_dataset(VY)\n",
    "vm = vm.to_array(name='vm');#vx = vx.to_array(name='vx');vy = vy.to_array(name='vy')\n",
    "vx_reproj = vm.salem.transform(vx);vy_reproj = vm.salem.transform(vy)\n",
    "vx = vx_reproj.to_array(name='vx');vy = vy_reproj.to_array(name='vy')\n",
    "#     vz=vy.copy(name='vz')\n",
    "vz=np.sqrt(vx.data**2 + vy.data**2 )\n",
    "dem = salem.open_xr_dataset(path+topo);dem_reproj = vm.salem.transform(dem); dem = dem_reproj.to_array(name='dem')\n",
    "\n",
    "dh = salem.open_xr_dataset(path+dh_dt); dh_reproj = vm.salem.transform(dh); dh = dh_reproj.to_array(name='dh')\n",
    "msk = salem.open_xr_dataset(path+msk);msk_reproj = vm.salem.transform(msk);msk = msk_reproj.to_array(name='msk')\n",
    "\n",
    "vz[msk.data<1.0] = np.nan; dem.data[msk.data<1.0]=np.nan ##remove data off-ice\n",
    "vz[vz==0.0]=np.nan;  dem.data[dem.data<1000] = np.nan\n",
    "\n",
    "vz0=vz.copy()\n",
    "#     vz = vz.to_array(name='vz')"
   ]
  },
  {
   "cell_type": "code",
   "execution_count": null,
   "metadata": {},
   "outputs": [],
   "source": [
    "vel=vel_list[3]\n",
    "vdir='/home/pelto/Desktop/velocity_mapping/Conrad_DEMs/spm2/3m/'\n",
    "VX = vel[:-5] + 'x.tif'  #vdir + vel[:-5] + 'x.tif' \n",
    "VY = vel                 #vdir + vel[:-5] + 'y.tif' \n",
    "VM = vel[:-5] + 'm.tif' #vdir + vel[:-5] + 'm.tif' \n",
    "\n",
    "vm = salem.open_xr_dataset(VM);vx = salem.open_xr_dataset(VX);vy = salem.open_xr_dataset(VY)\n",
    "vm = vm.to_array(name='vm');#vx = vx.to_array(name='vx');vy = vy.to_array(name='vy')\n",
    "vx_reproj = vm.salem.transform(vx);vy_reproj = vm.salem.transform(vy)\n",
    "vx = vx_reproj.to_array(name='vx');vy = vy_reproj.to_array(name='vy')\n",
    "#     vz=vy.copy(name='vz')\n",
    "vz=np.sqrt(vx.data**2 + vy.data**2 )\n",
    "# dem = salem.open_xr_dataset(path+topo);dem_reproj = vm.salem.transform(dem); dem = dem_reproj.to_array(name='dem')\n",
    "\n",
    "# dh = salem.open_xr_dataset(path+dh_dt); dh_reproj = vm.salem.transform(dh); dh = dh_reproj.to_array(name='dh')\n",
    "# msk = salem.open_xr_dataset(path+msk);msk_reproj = vm.salem.transform(msk);msk = msk_reproj.to_array(name='msk')\n",
    "\n",
    "vz[msk.data<1.0] = np.nan; dem.data[msk.data<1.0]=np.nan ##remove data off-ice\n",
    "vz[vz==0.0]=np.nan;  dem.data[dem.data<1000] = np.nan\n",
    "\n",
    "vz1=vz.copy()"
   ]
  },
  {
   "cell_type": "code",
   "execution_count": null,
   "metadata": {},
   "outputs": [],
   "source": [
    "diff=vz0-vz1\n",
    "np.nanmean(diff)"
   ]
  },
  {
   "cell_type": "code",
   "execution_count": null,
   "metadata": {},
   "outputs": [],
   "source": [
    "vel_list[1]"
   ]
  },
  {
   "cell_type": "code",
   "execution_count": null,
   "metadata": {},
   "outputs": [],
   "source": []
  }
 ],
 "metadata": {
  "kernelspec": {
   "display_name": "Python 3",
   "language": "python",
   "name": "python3"
  },
  "language_info": {
   "codemirror_mode": {
    "name": "ipython",
    "version": 3
   },
   "file_extension": ".py",
   "mimetype": "text/x-python",
   "name": "python",
   "nbconvert_exporter": "python",
   "pygments_lexer": "ipython3",
   "version": "3.6.8"
  },
  "latex_envs": {
   "LaTeX_envs_menu_present": true,
   "bibliofile": "biblio.bib",
   "cite_by": "apalike",
   "current_citInitial": 1,
   "eqLabelWithNumbers": true,
   "eqNumInitial": 1,
   "labels_anchors": false,
   "latex_user_defs": false,
   "report_style_numbering": false,
   "user_envs_cfg": false
  }
 },
 "nbformat": 4,
 "nbformat_minor": 2
}
