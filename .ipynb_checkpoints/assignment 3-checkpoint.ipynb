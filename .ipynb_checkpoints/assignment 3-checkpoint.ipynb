{
 "cells": [
  {
   "cell_type": "code",
   "execution_count": 21,
   "metadata": {},
   "outputs": [],
   "source": [
    "import numpy as np\n",
    "import math\n",
    "import matplotlib.pyplot as plt"
   ]
  },
  {
   "cell_type": "code",
   "execution_count": null,
   "metadata": {},
   "outputs": [],
   "source": [
    "k= 0.4 # von Karmen constant\n",
    "u_s =  u_z *k / math.log((z/z_0))"
   ]
  },
  {
   "cell_type": "code",
   "execution_count": 67,
   "metadata": {},
   "outputs": [
    {
     "data": {
      "text/plain": [
       "0.0025500000000000024"
      ]
     },
     "execution_count": 67,
     "metadata": {},
     "output_type": "execute_result"
    }
   ],
   "source": [
    "l = 170 * 0.0015 * (0.25  - 0.24)\n",
    "l"
   ]
  },
  {
   "cell_type": "code",
   "execution_count": null,
   "metadata": {},
   "outputs": [],
   "source": [
    "z0 = ((c2 * c3 * us**2) / (2*g))+ (c4 * lamda)"
   ]
  },
  {
   "cell_type": "code",
   "execution_count": 68,
   "metadata": {},
   "outputs": [
    {
     "name": "stdout",
     "output_type": "stream",
     "text": [
      "0.0015962122897645197\n"
     ]
    }
   ],
   "source": [
    "res=[];X=[];U=[]\n",
    "def fixedPoint(f, x0, rtol=1e-8, maxiter=50):\n",
    "    e = 1\n",
    "    it = 0\n",
    "    while(e > rtol and it < maxiter):\n",
    "        \n",
    "        x = f(x0)\n",
    "        e = math.fabs((x-x0) /math.fabs(x))\n",
    "        res.append(e);X.append(x0)\n",
    "        x0 = x\n",
    "        it = it + 1\n",
    "    return x\n",
    "\n",
    "def fColebrookwhite(x):\n",
    "    c2=1.6\n",
    "    c3=0.07519\n",
    "    c4=0.5\n",
    "    z=10\n",
    "    l = 0.00255\n",
    "    u=(5*0.4)/(np.log(z/x))\n",
    "    U.append(u)\n",
    "    return ((c2*c3* (u**2))/(2*9.8))+(c4*l)\n",
    "\n",
    "#Initial guess value\n",
    "fGuess = 0.1\n",
    "#  Call function\n",
    "fFriction = fixedPoint (fColebrookwhite, fGuess)\n",
    "\n",
    "print(fFriction)\n"
   ]
  },
  {
   "cell_type": "code",
   "execution_count": 69,
   "metadata": {},
   "outputs": [
    {
     "data": {
      "text/plain": [
       "([0.43429448190325176,\n",
       "  0.2403458376075282,\n",
       "  0.22930450614639958,\n",
       "  0.228787091783351,\n",
       "  0.22876325240032802,\n",
       "  0.22876215491757856,\n",
       "  0.22876210439516712,\n",
       "  0.22876210206938144],\n",
       " [0.1,\n",
       "  0.002432690897820673,\n",
       "  0.0016295660969191286,\n",
       "  0.0015977373098914885,\n",
       "  0.0015962824713339537,\n",
       "  0.0015962155202066516,\n",
       "  0.0015962124381762733,\n",
       "  0.001596212296295942],\n",
       " [40.10674319108319,\n",
       "  0.49284579644847737,\n",
       "  0.01992116403027592,\n",
       "  0.0009113916763860593,\n",
       "  4.1943663906627185e-05,\n",
       "  1.930839720699605e-06,\n",
       "  8.888562730506884e-08,\n",
       "  4.0918256069521935e-09])"
      ]
     },
     "execution_count": 69,
     "metadata": {},
     "output_type": "execute_result"
    }
   ],
   "source": [
    "U, X, res"
   ]
  },
  {
   "cell_type": "code",
   "execution_count": 70,
   "metadata": {},
   "outputs": [
    {
     "data": {
      "image/png": "[encoded data removed]",
      "text/plain": [
       "<Figure size 432x288 with 1 Axes>"
      ]
     },
     "metadata": {
      "needs_background": "light"
     },
     "output_type": "display_data"
    }
   ],
   "source": [
    "plt.plot(X,res,'--o')\n",
    "plt.yscale('log');plt.xscale('log')\n",
    "plt.ylabel('Residual (m)');plt.xlabel('$z_0$ (m)')\n",
    "plt.savefig('/home/pelto/Downloads/Hydrology_course/A3_Q1.png',dpi=300)"
   ]
  },
  {
   "cell_type": "markdown",
   "metadata": {},
   "source": [
    "# Q1b"
   ]
  },
  {
   "cell_type": "code",
   "execution_count": 112,
   "metadata": {},
   "outputs": [
    {
     "name": "stdout",
     "output_type": "stream",
     "text": [
      "0.04114173850172953\n"
     ]
    }
   ],
   "source": [
    "res=[];X=[];U=[]\n",
    "def fixedPoint(f, x0, rtol=1e-8, maxiter=50):\n",
    "    e = 1\n",
    "    it = 0\n",
    "    while(e > rtol and it < maxiter):\n",
    "        \n",
    "        x = f(x0)\n",
    "        e = math.fabs((x-x0) /math.fabs(x))\n",
    "        res.append(e);X.append(x0)\n",
    "        x0 = x\n",
    "        it = it + 1\n",
    "    return x\n",
    "\n",
    "def fColebrookwhite(x):\n",
    "    c2=1.6\n",
    "    c3=0.07519\n",
    "    c4=0.5\n",
    "    z=10\n",
    "    l = 0.00255\n",
    "    uz=35 # m/s\n",
    "    u=(uz*0.4)/(np.log(z/x))\n",
    "    U.append(u)\n",
    "    return ((c2*c3* (u**2))/(2*9.8))+(c4*l)\n",
    "\n",
    "#Initial guess value\n",
    "fGuess = 0.01\n",
    "#  Call function\n",
    "fFriction = fixedPoint (fColebrookwhite, fGuess)\n",
    "\n",
    "print(fFriction)\n"
   ]
  },
  {
   "cell_type": "code",
   "execution_count": 113,
   "metadata": {},
   "outputs": [
    {
     "data": {
      "text/plain": [
       "0.7281574742890988"
      ]
     },
     "execution_count": 113,
     "metadata": {},
     "output_type": "execute_result"
    }
   ],
   "source": [
    "# z=10; uz=10;\n",
    "us=(uz*0.4)/np.log(z/fFriction)\n",
    "us\n"
   ]
  },
  {
   "cell_type": "code",
   "execution_count": 114,
   "metadata": {},
   "outputs": [
    {
     "data": {
      "text/plain": [
       "0.40042484304775433"
      ]
     },
     "execution_count": 114,
     "metadata": {},
     "output_type": "execute_result"
    }
   ],
   "source": [
    "l = 0.00255  #4.5E-03\n",
    "beta = 170\n",
    "un =us*((1+(beta*l))**(-0.5)) * ((beta*l)**(0.5))\n",
    "un"
   ]
  },
  {
   "cell_type": "code",
   "execution_count": 115,
   "metadata": {},
   "outputs": [],
   "source": [
    "rho_a =1.2 #kg m-3\n",
    "us_t = 0.228762\n",
    "# ut = rho_a * us_t**2\n",
    "# ut"
   ]
  },
  {
   "cell_type": "code",
   "execution_count": 116,
   "metadata": {},
   "outputs": [
    {
     "data": {
      "text/plain": [
       "0.32698316847971765"
      ]
     },
     "execution_count": 116,
     "metadata": {},
     "output_type": "execute_result"
    }
   ],
   "source": [
    "e=1/(4.2*us)\n",
    "e"
   ]
  },
  {
   "cell_type": "code",
   "execution_count": 117,
   "metadata": {},
   "outputs": [
    {
     "data": {
      "text/plain": [
       "0.009384692169628847"
      ]
     },
     "execution_count": 117,
     "metadata": {},
     "output_type": "execute_result"
    }
   ],
   "source": [
    "c1 =2.8\n",
    "Fsalt = ((c1 * e * rho_a * us_t) / 9.8) * ((us**2)-(un**2)-(ut**2))\n",
    "Fsalt"
   ]
  },
  {
   "cell_type": "code",
   "execution_count": 127,
   "metadata": {},
   "outputs": [
    {
     "data": {
      "text/plain": [
       "3.5346069464970875"
      ]
     },
     "execution_count": 127,
     "metadata": {},
     "output_type": "execute_result"
    }
   ],
   "source": [
    "Qsusp=(35**4.13)/(674000)\n",
    "Qsusp"
   ]
  },
  {
   "cell_type": "code",
   "execution_count": 128,
   "metadata": {},
   "outputs": [
    {
     "data": {
      "text/plain": [
       "3.5440069464970874"
      ]
     },
     "execution_count": 128,
     "metadata": {},
     "output_type": "execute_result"
    }
   ],
   "source": [
    "Qsusp + 0.0094"
   ]
  },
  {
   "cell_type": "code",
   "execution_count": 131,
   "metadata": {},
   "outputs": [
    {
     "data": {
      "text/plain": [
       "3.805901813862596"
      ]
     },
     "execution_count": 131,
     "metadata": {},
     "output_type": "execute_result"
    }
   ],
   "source": [
    "qT=0.0000022* 35**4.04\n",
    "qT"
   ]
  },
  {
   "cell_type": "markdown",
   "metadata": {},
   "source": [
    "# Q2"
   ]
  },
  {
   "cell_type": "code",
   "execution_count": null,
   "metadata": {},
   "outputs": [],
   "source": [
    "swe = 12 #mm we\n",
    "T = -12 # C\n",
    "LAI = 2.7 #\n",
    "Cc =1.0"
   ]
  }
 ],
 "metadata": {
  "kernelspec": {
   "display_name": "Python 3",
   "language": "python",
   "name": "python3"
  },
  "language_info": {
   "codemirror_mode": {
    "name": "ipython",
    "version": 3
   },
   "file_extension": ".py",
   "mimetype": "text/x-python",
   "name": "python",
   "nbconvert_exporter": "python",
   "pygments_lexer": "ipython3",
   "version": "3.6.8"
  }
 },
 "nbformat": 4,
 "nbformat_minor": 2
}
