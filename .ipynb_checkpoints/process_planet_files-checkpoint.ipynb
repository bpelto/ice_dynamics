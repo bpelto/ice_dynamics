{
 "cells": [
  {
   "cell_type": "code",
   "execution_count": 30,
   "metadata": {},
   "outputs": [
    {
     "name": "stdout",
     "output_type": "stream",
     "text": [
      "/home/pelto/Downloads/zip_files/planet_order_447872.zip\n",
      "/tmp/planet/planet_order_447872.zip\n",
      "b'Archive:  /tmp/planet/planet_order_447872.zip\\n extracting: /tmp/planet/20170910_180525_1032/20170910_180525_1032_1B_Analytic.tif  \\n extracting: /tmp/planet/20170910_180525_1032/20170910_180525_1032_1B_Analytic_DN.tif  \\n extracting: /tmp/planet/20170910_180525_1032/20170910_180525_1032_1B_Analytic_DN_RPC.TXT  \\n extracting: /tmp/planet/20170910_180525_1032/20170910_180525_1032_1B_Analytic_DN_metadata.xml  \\n extracting: /tmp/planet/20170910_180525_1032/20170910_180525_1032_1B_Analytic_DN_udm.tif  \\n extracting: /tmp/planet/20170910_180525_1032/20170910_180525_1032_1B_Analytic_RPC.TXT  \\n extracting: /tmp/planet/20170910_180525_1032/20170910_180525_1032_1B_Analytic_metadata.xml  \\n extracting: /tmp/planet/20170910_180525_1032/20170910_180525_1032_metadata.json  \\n extracting: /tmp/planet/20170910_180526_1032/20170910_180526_1032_1B_Analytic.tif  \\n extracting: /tmp/planet/20170910_180526_1032/20170910_180526_1032_1B_Analytic_DN.tif  \\n extracting: /tmp/planet/20170910_180526_1032/20170910_180526_1032_1B_Analytic_DN_RPC.TXT  \\n extracting: /tmp/planet/20170910_180526_1032/20170910_180526_1032_1B_Analytic_DN_metadata.xml  \\n extracting: /tmp/planet/20170910_180526_1032/20170910_180526_1032_1B_Analytic_DN_udm.tif  \\n extracting: /tmp/planet/20170910_180526_1032/20170910_180526_1032_1B_Analytic_RPC.TXT  \\n extracting: /tmp/planet/20170910_180526_1032/20170910_180526_1032_1B_Analytic_metadata.xml  \\n extracting: /tmp/planet/20170910_180526_1032/20170910_180526_1032_metadata.json  \\n extracting: /tmp/planet/20170910_180646_0f3f/20170910_180646_0f3f_1B_Analytic.tif  \\n extracting: /tmp/planet/20170910_180646_0f3f/20170910_180646_0f3f_1B_Analytic_DN.tif  \\n extracting: /tmp/planet/20170910_180646_0f3f/20170910_180646_0f3f_1B_Analytic_DN_RPC.TXT  \\n extracting: /tmp/planet/20170910_180646_0f3f/20170910_180646_0f3f_1B_Analytic_DN_metadata.xml  \\n extracting: /tmp/planet/20170910_180646_0f3f/20170910_180646_0f3f_1B_Analytic_DN_udm.tif  \\n extracting: /tmp/planet/20170910_180646_0f3f/20170910_180646_0f3f_1B_Analytic_RPC.TXT  \\n extracting: /tmp/planet/20170910_180646_0f3f/20170910_180646_0f3f_1B_Analytic_metadata.xml  \\n extracting: /tmp/planet/20170910_180646_0f3f/20170910_180646_0f3f_metadata.json  \\n extracting: /tmp/planet/20170910_180647_0f3f/20170910_180647_0f3f_1B_Analytic.tif  \\n extracting: /tmp/planet/20170910_180647_0f3f/20170910_180647_0f3f_1B_Analytic_DN.tif  \\n extracting: /tmp/planet/20170910_180647_0f3f/20170910_180647_0f3f_1B_Analytic_DN_RPC.TXT  \\n extracting: /tmp/planet/20170910_180647_0f3f/20170910_180647_0f3f_1B_Analytic_DN_metadata.xml  \\n extracting: /tmp/planet/20170910_180647_0f3f/20170910_180647_0f3f_1B_Analytic_DN_udm.tif  \\n extracting: /tmp/planet/20170910_180647_0f3f/20170910_180647_0f3f_1B_Analytic_RPC.TXT  \\n extracting: /tmp/planet/20170910_180647_0f3f/20170910_180647_0f3f_1B_Analytic_metadata.xml  \\n extracting: /tmp/planet/20170910_180647_0f3f/20170910_180647_0f3f_metadata.json  \\n extracting: /tmp/planet/20170910_180724_1008/20170910_180724_1008_1B_Analytic.tif  \\n extracting: /tmp/planet/20170910_180724_1008/20170910_180724_1008_1B_Analytic_DN.tif  \\n extracting: /tmp/planet/20170910_180724_1008/20170910_180724_1008_1B_Analytic_DN_RPC.TXT  \\n extracting: /tmp/planet/20170910_180724_1008/20170910_180724_1008_1B_Analytic_DN_metadata.xml  \\n extracting: /tmp/planet/20170910_180724_1008/20170910_180724_1008_1B_Analytic_DN_udm.tif  \\n extracting: /tmp/planet/20170910_180724_1008/20170910_180724_1008_1B_Analytic_RPC.TXT  \\n extracting: /tmp/planet/20170910_180724_1008/20170910_180724_1008_1B_Analytic_metadata.xml  \\n extracting: /tmp/planet/20170910_180724_1008/20170910_180724_1008_metadata.json  \\n extracting: /tmp/planet/20170910_180927_0e20/20170910_180927_0e20_1B_Analytic.tif  \\n extracting: /tmp/planet/20170910_180927_0e20/20170910_180927_0e20_1B_Analytic_DN.tif  \\n extracting: /tmp/planet/20170910_180927_0e20/20170910_180927_0e20_1B_Analytic_DN_RPC.TXT  \\n extracting: /tmp/planet/20170910_180927_0e20/20170910_180927_0e20_1B_Analytic_DN_metadata.xml  \\n extracting: /tmp/planet/20170910_180927_0e20/20170910_180927_0e20_1B_Analytic_DN_udm.tif  \\n extracting: /tmp/planet/20170910_180927_0e20/20170910_180927_0e20_1B_Analytic_RPC.TXT  \\n extracting: /tmp/planet/20170910_180927_0e20/20170910_180927_0e20_1B_Analytic_metadata.xml  \\n extracting: /tmp/planet/20170910_180927_0e20/20170910_180927_0e20_metadata.json  \\n extracting: /tmp/planet/20170910_180928_0e20/20170910_180928_0e20_1B_Analytic.tif  \\n extracting: /tmp/planet/20170910_180928_0e20/20170910_180928_0e20_1B_Analytic_DN.tif  \\n extracting: /tmp/planet/20170910_180928_0e20/20170910_180928_0e20_1B_Analytic_DN_RPC.TXT  \\n extracting: /tmp/planet/20170910_180928_0e20/20170910_180928_0e20_1B_Analytic_DN_metadata.xml  \\n extracting: /tmp/planet/20170910_180928_0e20/20170910_180928_0e20_1B_Analytic_DN_udm.tif  \\n extracting: /tmp/planet/20170910_180928_0e20/20170910_180928_0e20_1B_Analytic_RPC.TXT  \\n extracting: /tmp/planet/20170910_180928_0e20/20170910_180928_0e20_1B_Analytic_metadata.xml  \\n extracting: /tmp/planet/20170910_180928_0e20/20170910_180928_0e20_metadata.json  \\n extracting: /tmp/planet/README.txt  \\n'\n",
      "copying DEM to tmp directory now...\n",
      "['20170910_180525_1032', '20170910_180647_0f3f', '20170910_180928_0e20', '20170910_180927_0e20', '20170910_180646_0f3f', '20170910_180526_1032', '20170910_180724_1008']\n",
      "ms_file is: 20170910_180525_1032_1B_Analytic.tif\n",
      "b4_file: /tmp/planet/20170910_180525_1032_b4.tif\n",
      "ms_file is: 20170910_180647_0f3f_1B_Analytic.tif\n",
      "b4_file: /tmp/planet/20170910_180647_0f3f_b4.tif\n",
      "ms_file is: 20170910_180928_0e20_1B_Analytic.tif\n",
      "b4_file: /tmp/planet/20170910_180928_0e20_b4.tif\n",
      "ms_file is: 20170910_180927_0e20_1B_Analytic.tif\n",
      "b4_file: /tmp/planet/20170910_180927_0e20_b4.tif\n",
      "ms_file is: 20170910_180646_0f3f_1B_Analytic.tif\n",
      "b4_file: /tmp/planet/20170910_180646_0f3f_b4.tif\n",
      "ms_file is: 20170910_180526_1032_1B_Analytic.tif\n",
      "b4_file: /tmp/planet/20170910_180526_1032_b4.tif\n",
      "ms_file is: 20170910_180724_1008_1B_Analytic.tif\n",
      "b4_file: /tmp/planet/20170910_180724_1008_b4.tif\n",
      "20170910_ortho.tif\n",
      "All done!\n"
     ]
    }
   ],
   "source": [
    "##Written by Brian Menounos, documented by Ben Pelto\n",
    "##script designed to operate on a zipped directory of four band planet imagery and create an orothorectified image utilizing a DEM\n",
    "##planet tiles will be mosaiced to create one final tiff set to a desired AOI\n",
    "\n",
    "import os\n",
    "import shutil as shutil\n",
    "import numpy as np\n",
    "import glob as glob\n",
    "\n",
    "import subprocess\n",
    "\n",
    "in_path           = '/home/pelto/Downloads/' #'/home/menounos/Desktop/planet/'\n",
    "in_path_zip_files = in_path + 'zip_files/' #planet_order_319404/'\n",
    "tmp_path          = '/tmp/planet/'\n",
    "zip_files         = os.listdir(in_path_zip_files)\n",
    "\n",
    "out_path          = '/home/pelto/Downloads/planet_output/'\n",
    "\n",
    "# if not os.path.exists(out_path):\n",
    "#    os.makedirs(out_path)\n",
    "\n",
    "## DEM and ice extent files\n",
    "dem_path = '/home/pelto/Desktop/lidar_cbt_analysis/kokanee/'\n",
    "#input DEM used for orthorectification\n",
    "#didn't like NAD83 UTM dem.tif file --> converted to WGS84 UTM, and worked. Error = VW Error: Proj.4 failed to initialize on string: +proj=longlat  +no_defsError was: major axis or radius = 0 or not given\n",
    "dem = '20150912_kokanee_ppp_dem1_clip.tif' #'20140911_nordic_full_dem1.tif' # #'160912_illecillewaet_dem3m.tif' #'140911_conrad_update_dem1_clip_10m.tif'\n",
    "#ice_extent: shapefile covering the ice extent of the AOI\n",
    "ice_extent = 'Kokanee/kok_all_glaciers_2015_dem.shp' #'Nordic/nordic_all_glaciers_2014.shp'# #'Nordic/nordic_all_glaciers_2014.shp'#'Illecillewaet/illec_all_glaciers_2015.shp'#'Conrad/conrad_all_glaciers_2014.shp'\n",
    "#ll_ur: lower left and upper right coordinates for AOI\n",
    "ll_ur = '-te 486396.000 5506396.000 493604.000 5514404.000' #'-te 726396.000 5835996.000 736004.000 5847204.000' #zillmer '-te 443996.000 5694396.000 453604.000 5705604.000' #nordic ##' -te 466396.000 5667996.000 474404.000 5680004.000 ' #illec\n",
    "#ll_ur = ' -te 496796.000 5621596.000 516004.000 5633604.000 ' #conrad\n",
    "#dem = 'conrad_10m.tif'\n",
    "\n",
    "\n",
    "## clean up from old run\n",
    "if not os.path.exists(tmp_path):\n",
    "    os.makedirs(tmp_path)\n",
    "\n",
    "shutil.rmtree(tmp_path)\n",
    "os.makedirs(tmp_path)\n",
    "\n",
    "# shutil.rmtree(out_path)\n",
    "# os.makedirs(out_path)\n",
    "\n",
    "\n",
    "# recursively work on each zip file and subdirectory\n",
    "for zipped in zip_files:\n",
    "    print(in_path_zip_files + zipped)\n",
    "\n",
    "    ## copy zip file to tmp and upzip it\n",
    "    shutil.copy(in_path_zip_files + zipped, tmp_path + zipped)\n",
    "\n",
    "    print(tmp_path + zipped)\n",
    "\n",
    "    unzip = ['unzip', '-o', tmp_path + zipped, '-d', tmp_path]\n",
    "\n",
    "    popen = subprocess.Popen(unzip, stdout=subprocess.PIPE)\n",
    "    popen.wait()\n",
    "    output = popen.stdout.read()\n",
    "    print(output)\n",
    "\n",
    "    print('copying DEM to tmp directory now...')\n",
    "    shutil.copy(dem_path + dem, tmp_path + dem)\n",
    "    #shutil.copy(in_path + dem, tmp_path + dem)\n",
    "\n",
    "    ## get list of subdirectories\n",
    "    zip_dirs = [dI for dI in os.listdir(tmp_path) if os.path.isdir(os.path.join(tmp_path,dI))]\n",
    "\n",
    "    print(zip_dirs)\n",
    "\n",
    "\n",
    "    for zip_dir in zip_dirs:\n",
    "        #print(tmp_path + zip_dir + '/' + '*_AnalyticMS.tif ')\n",
    "\n",
    "        try:\n",
    "            ms_file = glob.glob1(tmp_path + zip_dir + '/', '*_AnalyticMS.tif')[0] \n",
    "        except IndexError:\n",
    "            print('no *_AnalyticMS.tif file!')\n",
    "\n",
    "            ms_file = glob.glob1(tmp_path + zip_dir + '/', '*_AnalyticMS_DN_udm.tif')[0] #added _udm\n",
    "#         except IndexError:\n",
    "#              print('no *_AnalyticMS.tif file!')\n",
    "#              ms_file = glob.glob1(tmp_path + zip_dir + '/', '*_Analytic.tif')[0] #added _udm\n",
    "               \n",
    "        print('ms_file is:', ms_file)\n",
    "\n",
    "        b4_file = tmp_path + zip_dir + '_b4.tif'\n",
    "        print('b4_file:', b4_file)\n",
    "        b4_ortho = b4_file + '_ortho.tif'\n",
    "\n",
    "        os.system('gdal_translate -b 4 ' +  tmp_path + zip_dir + '/' + ms_file\n",
    "                  + ' ' + b4_file)\n",
    "\n",
    "        ## mapproject image\n",
    "        ## ASP mapproject (create ortho image)\n",
    "        # mapproject[options] < dem > < camera - image > < camera - model > < output - image >\n",
    "\n",
    "        os.system('/usr/local/bin/StereoPipeline-2.6.1-2018-09-06-x86_64-Linux/bin/mapproject '\n",
    "                  + ' ' + tmp_path + dem + ' ' + b4_file + ' ' + b4_ortho + ' --tr 4' + ' ' + '-t rpc')\n",
    "\n",
    "\n",
    "    ## glob all orthos\n",
    "    orthos = glob.glob1(tmp_path, '*_ortho.tif')\n",
    "\n",
    "    tmp = \" \".join(orthos)\n",
    "\n",
    "    #ortho_list = []\n",
    "\n",
    "    #for file in tmp:\n",
    "    #    ortho_list.append(tmp_path + file)\n",
    "\n",
    "    #ortho_list = \" \".join(ortho_list)\n",
    "\n",
    "\n",
    "    ## merge orthos\n",
    "    ortho_name = zip_dirs[0][0:8] + '_ortho.tif'\n",
    "    print(ortho_name)\n",
    "    os.chdir(tmp_path)\n",
    "\n",
    "    os.system('gdal_merge.py ' + '-o ' + tmp_path + ortho_name + ' ' + tmp)\n",
    "\n",
    "\n",
    "    ## just use lower part of glacier\n",
    "    #ortho_clipped = zip_dirs[0][0:8] + '_ortho_clipped.tif'\n",
    "\n",
    "\n",
    "    #create an ortho tiff clipped to the glacier extents\n",
    "    os.system('gdalwarp ' + '-cutline ' + dem_path + ice_extent + ' -r bilinear' + ' -tr 4 4 '\n",
    "               + ll_ur + ' ' + tmp_path + ortho_name + ' ' + out_path + 'warp_' + ortho_name )\n",
    "\n",
    "\n",
    "    ## copy ortho for given date to out directory\n",
    "    #shutil.copy(tmp_path + ortho_clipped, out_path + ortho_name)\n",
    "    \n",
    "    ## don't clip \n",
    "    shutil.copy(tmp_path + ortho_name, out_path + ortho_name)\n",
    "\n",
    "    ## clean out directory\n",
    "    shutil.rmtree(tmp_path)\n",
    "    os.makedirs(tmp_path)\n",
    "\n",
    "\n",
    "print('All done!')\n"
   ]
  },
  {
   "cell_type": "code",
   "execution_count": 12,
   "metadata": {},
   "outputs": [],
   "source": [
    "ms_file = glob.glob1(tmp_path + zip_dir + '/', '*_AnalyticMS.tif')"
   ]
  },
  {
   "cell_type": "code",
   "execution_count": 13,
   "metadata": {},
   "outputs": [
    {
     "data": {
      "text/plain": [
       "[]"
      ]
     },
     "execution_count": 13,
     "metadata": {},
     "output_type": "execute_result"
    }
   ],
   "source": [
    "ms_file"
   ]
  },
  {
   "cell_type": "code",
   "execution_count": 14,
   "metadata": {},
   "outputs": [
    {
     "data": {
      "text/plain": [
       "'/tmp/planet/'"
      ]
     },
     "execution_count": 14,
     "metadata": {},
     "output_type": "execute_result"
    }
   ],
   "source": [
    "tmp_path"
   ]
  },
  {
   "cell_type": "code",
   "execution_count": 15,
   "metadata": {},
   "outputs": [
    {
     "data": {
      "text/plain": [
       "'20170910_180525_1032'"
      ]
     },
     "execution_count": 15,
     "metadata": {},
     "output_type": "execute_result"
    }
   ],
   "source": [
    "zip_dir"
   ]
  },
  {
   "cell_type": "code",
   "execution_count": 17,
   "metadata": {},
   "outputs": [
    {
     "name": "stdout",
     "output_type": "stream",
     "text": [
      "/tmp/planet/20170910_180525_1032/ *_AnalyticMS.tif\n"
     ]
    }
   ],
   "source": [
    "print(tmp_path + zip_dir + '/', '*_AnalyticMS.tif')"
   ]
  },
  {
   "cell_type": "code",
   "execution_count": null,
   "metadata": {},
   "outputs": [],
   "source": []
  }
 ],
 "metadata": {
  "kernelspec": {
   "display_name": "Python 3",
   "language": "python",
   "name": "python3"
  },
  "language_info": {
   "codemirror_mode": {
    "name": "ipython",
    "version": 3
   },
   "file_extension": ".py",
   "mimetype": "text/x-python",
   "name": "python",
   "nbconvert_exporter": "python",
   "pygments_lexer": "ipython3",
   "version": "3.6.8"
  }
 },
 "nbformat": 4,
 "nbformat_minor": 2
}
