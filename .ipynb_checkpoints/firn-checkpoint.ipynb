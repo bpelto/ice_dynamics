{
 "cells": [
  {
   "cell_type": "code",
   "execution_count": 51,
   "metadata": {},
   "outputs": [],
   "source": [
    "\n",
    "# https://github.com/nholschuh/Matlab_Library/blob/3a4ab61d84900073156bb6e091be394fedfce35a/Glaciology_Tools/firn_profile.m\n",
    "import numpy as np\n",
    "\n",
    "def firn_profile(acc,temp,rho_0):\n",
    "# Using the empirical relationships derived in Herron and Langway (1980) I\n",
    "# defined this function to produce firn density profiles. Provide\n",
    "# surface temperature in celsius, accumulation rate in m of water per year,\n",
    "# and density in kg/m^3.\n",
    "\n",
    "    # Default values are:\n",
    "    # Accumulation: 0.3 m / year \n",
    "    if acc == 0:\n",
    "        acc = 0.3\n",
    "\n",
    "    # Temperature: -20 C\n",
    "    if temp == 0:\n",
    "        temp = -20\n",
    "\n",
    "    # Surface Density: 0.3 Mg/m^3\n",
    "    if rho_0 == 0:\n",
    "        rho_0 = 350\n",
    "\n",
    "\n",
    "    # Calculation of the first and second rate constants from the arrhenius\n",
    "    # relationships:\n",
    "\n",
    "    T = temp+273\n",
    "    R = 8.314\n",
    "    rho_i = 0.917\n",
    "    rho_0 = rho_0 / 1000 # Convert to Mg/m^3 (g/cc)\n",
    "\n",
    "    k0 = 11*np.exp(-10160/(R*T))\n",
    "    k1 = 575*np.exp(-21400/(R*T))\n",
    "\n",
    "    depth = np.arange(1,6000,10)\n",
    "#     depth = np.squeeze(depth)\n",
    "#     print(depth)\n",
    "#     print(type(depth))\n",
    "#     print(len(depth))\n",
    "    empty = [0,]\n",
    "    print(range(len(depth)))\n",
    "    for i in range(len(depth)):\n",
    "        z0 = np.exp(rho_i*k0*depth[i]+np.log(rho_0/(rho_i-rho_0)))\n",
    "        rho = empty.append(rho_i*z0/(1+z0))\n",
    "\n",
    "    print(rho)\n",
    "    cutoff = rho[rho == 0.55] #find_nearest(rho,0.55)\n",
    "    print(cutoff)\n",
    "    for i in cutoff:\n",
    "        z1 = np.exp(rho_i*k1*(depth[i]-depth(cutoff[i]))/acc^0.5 + log(0.55/(rho_i-0.55)))\n",
    "        rho = rho.append(rho_i*z1/(1+z1))\n",
    "\n",
    "\n",
    "    results = [depth, rho*1000]\n",
    "    return results"
   ]
  },
  {
   "cell_type": "code",
   "execution_count": 52,
   "metadata": {},
   "outputs": [
    {
     "name": "stdout",
     "output_type": "stream",
     "text": [
      "range(0, 600)\n",
      "None\n"
     ]
    },
    {
     "ename": "TypeError",
     "evalue": "'NoneType' object is not subscriptable",
     "output_type": "error",
     "traceback": [
      "\u001b[0;31m---------------------------------------------------------------------------\u001b[0m",
      "\u001b[0;31mTypeError\u001b[0m                                 Traceback (most recent call last)",
      "\u001b[0;32m<ipython-input-52-0ee5032e60e4>\u001b[0m in \u001b[0;36m<module>\u001b[0;34m\u001b[0m\n\u001b[1;32m      2\u001b[0m \u001b[0mtemp\u001b[0m \u001b[0;34m=\u001b[0m \u001b[0;34m-\u001b[0m\u001b[0;36m4.62\u001b[0m\u001b[0;34m\u001b[0m\u001b[0;34m\u001b[0m\u001b[0m\n\u001b[1;32m      3\u001b[0m \u001b[0mrho_0\u001b[0m \u001b[0;34m=\u001b[0m \u001b[0;36m572.\u001b[0m\u001b[0;34m\u001b[0m\u001b[0;34m\u001b[0m\u001b[0m\n\u001b[0;32m----> 4\u001b[0;31m \u001b[0mumm\u001b[0m \u001b[0;34m=\u001b[0m \u001b[0mfirn_profile\u001b[0m\u001b[0;34m(\u001b[0m\u001b[0macc\u001b[0m\u001b[0;34m,\u001b[0m\u001b[0mtemp\u001b[0m\u001b[0;34m,\u001b[0m\u001b[0mrho_0\u001b[0m\u001b[0;34m)\u001b[0m\u001b[0;34m\u001b[0m\u001b[0;34m\u001b[0m\u001b[0m\n\u001b[0m",
      "\u001b[0;32m<ipython-input-51-e6122488b137>\u001b[0m in \u001b[0;36mfirn_profile\u001b[0;34m(acc, temp, rho_0)\u001b[0m\n\u001b[1;32m     44\u001b[0m \u001b[0;34m\u001b[0m\u001b[0m\n\u001b[1;32m     45\u001b[0m     \u001b[0mprint\u001b[0m\u001b[0;34m(\u001b[0m\u001b[0mrho\u001b[0m\u001b[0;34m)\u001b[0m\u001b[0;34m\u001b[0m\u001b[0;34m\u001b[0m\u001b[0m\n\u001b[0;32m---> 46\u001b[0;31m     \u001b[0mcutoff\u001b[0m \u001b[0;34m=\u001b[0m \u001b[0mrho\u001b[0m\u001b[0;34m[\u001b[0m\u001b[0mrho\u001b[0m \u001b[0;34m==\u001b[0m \u001b[0;36m0.55\u001b[0m\u001b[0;34m]\u001b[0m \u001b[0;31m#find_nearest(rho,0.55)\u001b[0m\u001b[0;34m\u001b[0m\u001b[0;34m\u001b[0m\u001b[0m\n\u001b[0m\u001b[1;32m     47\u001b[0m     \u001b[0mprint\u001b[0m\u001b[0;34m(\u001b[0m\u001b[0mcutoff\u001b[0m\u001b[0;34m)\u001b[0m\u001b[0;34m\u001b[0m\u001b[0;34m\u001b[0m\u001b[0m\n\u001b[1;32m     48\u001b[0m     \u001b[0;32mfor\u001b[0m \u001b[0mi\u001b[0m \u001b[0;32min\u001b[0m \u001b[0mcutoff\u001b[0m\u001b[0;34m:\u001b[0m\u001b[0;34m\u001b[0m\u001b[0;34m\u001b[0m\u001b[0m\n",
      "\u001b[0;31mTypeError\u001b[0m: 'NoneType' object is not subscriptable"
     ]
    }
   ],
   "source": [
    "acc = 1.12\n",
    "temp = -4.62\n",
    "rho_0 = 572.\n",
    "umm = firn_profile(acc,temp,rho_0)"
   ]
  },
  {
   "cell_type": "code",
   "execution_count": null,
   "metadata": {},
   "outputs": [],
   "source": []
  }
 ],
 "metadata": {
  "kernelspec": {
   "display_name": "Python 3",
   "language": "python",
   "name": "python3"
  },
  "language_info": {
   "codemirror_mode": {
    "name": "ipython",
    "version": 3
   },
   "file_extension": ".py",
   "mimetype": "text/x-python",
   "name": "python",
   "nbconvert_exporter": "python",
   "pygments_lexer": "ipython3",
   "version": "3.6.8"
  }
 },
 "nbformat": 4,
 "nbformat_minor": 2
}
