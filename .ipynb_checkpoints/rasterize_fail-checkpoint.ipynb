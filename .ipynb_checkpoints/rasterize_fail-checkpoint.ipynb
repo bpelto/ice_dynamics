{
 "cells": [
  {
   "cell_type": "code",
   "execution_count": null,
   "metadata": {},
   "outputs": [],
   "source": [
    "# # os.system('gdal_calc.py ' + '-A ' + da1 + ' -B ' + da_user1 + ' --outfile=' + products_dir + glacier[num] \n",
    "# #           + '_SRTM_diff_30m.tif ' + '--calc=\"B-A\"' )\n",
    "\n",
    "# os.system('gdal_rasterize ' + '-l ' + points + ' -a angle ' +'-tr ' 5.0 + ' ' + 5.0 + ' -a_nodata ' + -9999.0 +\n",
    "# ' -te ' + 496796.0 + ' ' + 5621594.0 + ' ' + 516006.0 + ' ' + 5633604.0 + ' -ot Float32' + \n",
    "# ' -of GTiff ' + points[:-4] + ' /home/pelto/Desktop/ice_flux/Conrad/conrad_points_17gates.shp ' +\n",
    "#           fl_path + 'FG_alpha.tif'"
   ]
  },
  {
   "cell_type": "code",
   "execution_count": null,
   "metadata": {},
   "outputs": [],
   "source": [
    "# tst = ['gdal_rasterize ' + '-l ' + points + ' -a angle ' +'-tr ' 5.0 + ' ' + 5.0 + ' -a_nodata ' + -9999.0 + ' -te ' + 496796.0 + ' ' + 5621594.0 + ' ' + 516006.0 + ' ' + 5633604.0 + ' -ot Float32' + ' -of GTiff ' + points[:-4] + ' /home/pelto/Desktop/ice_flux/Conrad/conrad_points_17gates.shp ' + fl_path + 'FG_alpha.tif']"
   ]
  },
  {
   "cell_type": "code",
   "execution_count": null,
   "metadata": {},
   "outputs": [],
   "source": [
    "# # gdal_rasterize -l conrad_points_17gates_20m -a angle -tr 5.0 5.0 -a_nodata -9999.0 \n",
    "# # -te 496796.0 5621594.0 516006.0 5633604.0 -ot Float32 -of GTiff \n",
    "# # /home/pelto/Desktop/ice_flux/Conrad/conrad_points_17gates_20m.shp /home/pelto/Desktop/ice_flux/Conrad/FG_17_pts.tif\n",
    "\n",
    "\n",
    "# rst = gdal.Rasterize(points, [fl_path+'FG_alpha.tif'], l = ['conrad_points_17gates_20m'], a=['angle'], tr=[5.0, 5.0], a_nodata=[-9999], te=[496796.0, \n",
    "#         5621594.0, 516006.0, 5633604.0], ot='Float32', of='GTiff')"
   ]
  },
  {
   "cell_type": "code",
   "execution_count": null,
   "metadata": {},
   "outputs": [],
   "source": [
    "# gdal_rasterize -l conrad_points_17gates_20m -a angle -tr 5.0 5.0 -a_nodata -9999.0 -te 496796.0 5621594.0 516006.0 5633604.0 -ot Float32 -of GTiff /home/pelto/Desktop/ice_flux/Conrad/conrad_points_17gates_20m.shp /home/pelto/Desktop/ice_flux/Conrad"
   ]
  }
 ],
 "metadata": {
  "kernelspec": {
   "display_name": "Python 3",
   "language": "python",
   "name": "python3"
  },
  "language_info": {
   "codemirror_mode": {
    "name": "ipython",
    "version": 3
   },
   "file_extension": ".py",
   "mimetype": "text/x-python",
   "name": "python",
   "nbconvert_exporter": "python",
   "pygments_lexer": "ipython3",
   "version": "3.6.8"
  }
 },
 "nbformat": 4,
 "nbformat_minor": 2
}
