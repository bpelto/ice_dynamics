{
 "cells": [
  {
   "cell_type": "code",
   "execution_count": 19,
   "metadata": {},
   "outputs": [],
   "source": [
    "import matplotlib.pyplot as plt\n",
    "from matplotlib import pylab\n",
    "import numpy as np\n",
    "# import pandas as pd\n",
    "import matplotlib.ticker as ticker\n",
    "from osgeo import gdal\n",
    "import os\n",
    "import vmap"
   ]
  },
  {
   "cell_type": "code",
   "execution_count": 20,
   "metadata": {},
   "outputs": [],
   "source": [
    "# path ='/home/pelto/Desktop/velocity_mapping/illecillewaet/3m/'\n",
    "# gdal_calc.py -A img1_20150912__img1_20160913_vmap_5m_35px_spm2/img1_20150912__img1_20160913_vmap_5m_35px_spm2-F_vy\n",
    "# .tif  --outfile= img1_20150912__img1_20160913_vmap_5m_35px_spm2/img1_20150912__img1_20160913_vmap_5m_35px_spm2-F\n",
    "# _vy0.tif --calc=\"A*(A>0.0)\" --NoDataValue=0  \n",
    "path = '/home/pelto/Desktop/velocity_mapping/kokanee/dem/'"
   ]
  },
  {
   "cell_type": "code",
   "execution_count": 26,
   "metadata": {},
   "outputs": [
    {
     "data": {
      "text/plain": [
       "['/home/pelto/Desktop/velocity_mapping/kokanee/dem/img1_20150419__img2_20160417_vmap_5m_35px_spm2/img1_20150419__img2_20160417_vmap_5m_35px_spm2-F_vy.tif',\n",
       " '/home/pelto/Desktop/velocity_mapping/kokanee/dem/img1_20150912__img2_20160913_vmap_5m_35px_spm2/img1_20150912__img2_20160913_vmap_5m_35px_spm2-F_vy.tif',\n",
       " '/home/pelto/Desktop/velocity_mapping/kokanee/dem/img1_20160417__img2_20170521_vmap_5m_35px_spm2/img1_20160417__img2_20170521_vmap_5m_35px_spm2-F_vy.tif',\n",
       " '/home/pelto/Desktop/velocity_mapping/kokanee/dem/img1_20160913__img2_20170916_vmap_5m_35px_spm2/img1_20160913__img2_20170916_vmap_5m_35px_spm2-F_vy.tif',\n",
       " '/home/pelto/Desktop/velocity_mapping/kokanee/dem/img1_20170521__img2_20180426_vmap_5m_35px_spm2/img1_20170521__img2_20180426_vmap_5m_35px_spm2-F_vy.tif']"
      ]
     },
     "execution_count": 26,
     "metadata": {},
     "output_type": "execute_result"
    }
   ],
   "source": [
    "with open(path+'kokanee_best_vy.txt', 'r') as f:\n",
    "    x = f.read().splitlines()\n",
    "x"
   ]
  },
  {
   "cell_type": "code",
   "execution_count": 27,
   "metadata": {},
   "outputs": [
    {
     "name": "stdout",
     "output_type": "stream",
     "text": [
      "/home/pelto/Desktop/velocity_mapping/kokanee/dem/img1_20150419__img2_20160417_vmap_5m_35px_spm2/img1_20150419__img2_20160417_vmap_5m_35px_spm2-F_vy.tif\n",
      "/home/pelto/Desktop/velocity_mapping/kokanee/dem/img1_20150912__img2_20160913_vmap_5m_35px_spm2/img1_20150912__img2_20160913_vmap_5m_35px_spm2-F_vy.tif\n",
      "/home/pelto/Desktop/velocity_mapping/kokanee/dem/img1_20160417__img2_20170521_vmap_5m_35px_spm2/img1_20160417__img2_20170521_vmap_5m_35px_spm2-F_vy.tif\n",
      "/home/pelto/Desktop/velocity_mapping/kokanee/dem/img1_20160913__img2_20170916_vmap_5m_35px_spm2/img1_20160913__img2_20170916_vmap_5m_35px_spm2-F_vy.tif\n",
      "/home/pelto/Desktop/velocity_mapping/kokanee/dem/img1_20170521__img2_20180426_vmap_5m_35px_spm2/img1_20170521__img2_20180426_vmap_5m_35px_spm2-F_vy.tif\n"
     ]
    }
   ],
   "source": [
    "for i in x:\n",
    "    print(i)"
   ]
  },
  {
   "cell_type": "code",
   "execution_count": 28,
   "metadata": {},
   "outputs": [],
   "source": [
    "for image in x: \n",
    "#     os.system('gdal_calc.py ' + '-A ' + image + ' --outfile=' + image[:-4] + '_neg.tif' + ' --calc=\"A*(A<0.01)\"'\n",
    "#           + ' --NoDataValue=0')\n",
    "    os.system('gdal_calc.py ' + '-A ' + image + ' --outfile=' + image[:-4] + '_best_pos.tif' + ' --calc=\"A*(A>0.1)\"'\n",
    "          + ' --NoDataValue=0')\n",
    "\n"
   ]
  },
  {
   "cell_type": "code",
   "execution_count": 29,
   "metadata": {},
   "outputs": [
    {
     "data": {
      "text/plain": [
       "['/home/pelto/Desktop/velocity_mapping/kokanee/dem/img1_20150419__img2_20160417_vmap_5m_35px_spm2/img1_20150419__img2_20160417_vmap_5m_35px_spm2-F_vy_best_pos.tif',\n",
       " '/home/pelto/Desktop/velocity_mapping/kokanee/dem/img1_20150912__img2_20160913_vmap_5m_35px_spm2/img1_20150912__img2_20160913_vmap_5m_35px_spm2-F_vy_best_pos.tif',\n",
       " '/home/pelto/Desktop/velocity_mapping/kokanee/dem/img1_20160417__img2_20170521_vmap_5m_35px_spm2/img1_20160417__img2_20170521_vmap_5m_35px_spm2-F_vy_best_pos.tif',\n",
       " '/home/pelto/Desktop/velocity_mapping/kokanee/dem/img1_20160913__img2_20170916_vmap_5m_35px_spm2/img1_20160913__img2_20170916_vmap_5m_35px_spm2-F_vy_best_pos.tif',\n",
       " '/home/pelto/Desktop/velocity_mapping/kokanee/dem/img1_20170521__img2_20180426_vmap_5m_35px_spm2/img1_20170521__img2_20180426_vmap_5m_35px_spm2-F_vy_best_pos.tif']"
      ]
     },
     "execution_count": 29,
     "metadata": {},
     "output_type": "execute_result"
    }
   ],
   "source": [
    "x0=[]\n",
    "for image in x:\n",
    "    x0.append(image[:-4] + '_best_pos.tif')\n",
    "x0"
   ]
  },
  {
   "cell_type": "code",
   "execution_count": 30,
   "metadata": {},
   "outputs": [],
   "source": [
    "# with open(path+\"illecillewaet_all_dem3m_vx_neg.txt\", \"w\") as output:\n",
    "#     output.write(str(x0))\n",
    "with open(path+\"kokanee_best_vy_pos.txt\", \"w\") as output:\n",
    "    output.write(str(x0))"
   ]
  },
  {
   "cell_type": "code",
   "execution_count": 31,
   "metadata": {},
   "outputs": [
    {
     "data": {
      "text/plain": [
       "0"
      ]
     },
     "execution_count": 31,
     "metadata": {},
     "output_type": "execute_result"
    }
   ],
   "source": [
    "os.system('dem_mosaic -l ' + path+\"kokanee_best_vy_pos.txt\" + ' -o ' + path+'kokanee_best_dem1m_pos_vy_5m.tif')\n",
    "# os.system('dem_mosaic -l ' + path+\"illecillewaet_all_dem3m_vx_neg.txt\" + ' -o ' + path+'illecillewaet_all_dem3m_vx_neg_5m.tif')"
   ]
  },
  {
   "cell_type": "code",
   "execution_count": null,
   "metadata": {},
   "outputs": [],
   "source": []
  }
 ],
 "metadata": {
  "kernelspec": {
   "display_name": "Python 3",
   "language": "python",
   "name": "python3"
  },
  "language_info": {
   "codemirror_mode": {
    "name": "ipython",
    "version": 3
   },
   "file_extension": ".py",
   "mimetype": "text/x-python",
   "name": "python",
   "nbconvert_exporter": "python",
   "pygments_lexer": "ipython3",
   "version": "3.7.1"
  }
 },
 "nbformat": 4,
 "nbformat_minor": 2
}
