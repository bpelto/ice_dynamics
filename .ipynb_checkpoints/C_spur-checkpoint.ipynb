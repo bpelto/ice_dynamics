{
 "cells": [
  {
   "cell_type": "code",
   "execution_count": 54,
   "metadata": {},
   "outputs": [
    {
     "data": {
      "image/png": "[encoded data removed]",
      "text/plain": [
       "<Figure size 360x288 with 1 Axes>"
      ]
     },
     "metadata": {
      "needs_background": "light"
     },
     "output_type": "display_data"
    }
   ],
   "source": [
    "import matplotlib.pyplot as plt\n",
    "import numpy as np\n",
    "from scipy import stats\n",
    "\n",
    "year = [1985, 2005, 2018]\n",
    "area = [32, 25, 20 ]\n",
    "\n",
    "slope, intercept, r_value, p_value, std_err = stats.linregress(year, area)\n",
    "\n",
    "fig = plt.figure(figsize=(5,4))\n",
    "\n",
    "plt.ylabel('Glacier area km$^2$')\n",
    "plt.xlabel('Year')\n",
    "plt.ylim(0,34)\n",
    "plt.plot(year, area, ls='--', marker='o', mfc='None', mec='k', mew='2', ms=8)\n",
    "\n",
    "plt.xticks(year)\n",
    "plt.savefig('/home/pelto/GIS/Maps/crescent_spur_glacier_area.png', dpi=300)\n",
    "plt.show()\n"
   ]
  },
  {
   "cell_type": "code",
   "execution_count": 47,
   "metadata": {},
   "outputs": [
    {
     "name": "stdout",
     "output_type": "stream",
     "text": [
      "Losing: -0.36 km^2 glacier area per year\n",
      "Losing: -1.8 % glacier area per year\n",
      "If this rate continues, all ice will be lost by: 2075.0\n"
     ]
    }
   ],
   "source": [
    "year_gone = np.round((20/slope)*-1 + 2020,0)\n",
    "print('Losing:', np.round(slope,2), 'km^2 glacier area per year')\n",
    "print('Losing:', np.round(slope/20*100,1), '% glacier area per year')\n",
    "print('If this rate continues, all ice will be lost by:', year_gone)"
   ]
  },
  {
   "cell_type": "code",
   "execution_count": null,
   "metadata": {},
   "outputs": [],
   "source": []
  }
 ],
 "metadata": {
  "kernelspec": {
   "display_name": "Python 3",
   "language": "python",
   "name": "python3"
  },
  "language_info": {
   "codemirror_mode": {
    "name": "ipython",
    "version": 3
   },
   "file_extension": ".py",
   "mimetype": "text/x-python",
   "name": "python",
   "nbconvert_exporter": "python",
   "pygments_lexer": "ipython3",
   "version": "3.6.8"
  }
 },
 "nbformat": 4,
 "nbformat_minor": 2
}
