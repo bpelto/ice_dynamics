{
 "cells": [
  {
   "cell_type": "code",
   "execution_count": 1,
   "metadata": {},
   "outputs": [],
   "source": [
    "%matplotlib inline"
   ]
  },
  {
   "cell_type": "markdown",
   "metadata": {},
   "source": [
    "\n",
    "# Creating boxes from error bars using PatchCollection\n",
    "\n",
    "\n",
    "In this example, we snazz up a pretty standard error bar plot by adding\n",
    "a rectangle patch defined by the limits of the bars in both the x- and\n",
    "y- directions. To do this, we have to write our own custom function\n",
    "called ``make_error_boxes``. Close inspection of this function will\n",
    "reveal the preferred pattern in writing functions for matplotlib:\n",
    "\n",
    "  1. an ``Axes`` object is passed directly to the function\n",
    "  2. the function operates on the `Axes` methods directly, not through\n",
    "     the ``pyplot`` interface\n",
    "  3. plotting kwargs that could be abbreviated are spelled out for\n",
    "     better code readability in the future (for example we use\n",
    "     ``facecolor`` instead of ``fc``)\n",
    "  4. the artists returned by the ``Axes`` plotting methods are then\n",
    "     returned by the function so that, if desired, their styles\n",
    "     can be modified later outside of the function (they are not\n",
    "     modified in this example).\n",
    "\n"
   ]
  },
  {
   "cell_type": "code",
   "execution_count": 2,
   "metadata": {},
   "outputs": [
    {
     "data": {
      "image/png": "[encoded data removed]",
      "text/plain": [
       "<Figure size 432x288 with 1 Axes>"
      ]
     },
     "metadata": {
      "needs_background": "light"
     },
     "output_type": "display_data"
    }
   ],
   "source": [
    "import numpy as np\n",
    "import matplotlib.pyplot as plt\n",
    "from matplotlib.collections import PatchCollection\n",
    "from matplotlib.patches import Rectangle\n",
    "\n",
    "# Number of data points\n",
    "n = 5\n",
    "\n",
    "# Dummy data\n",
    "np.random.seed(19680801)\n",
    "x = np.arange(0, n, 1)\n",
    "y = np.random.rand(n) * 5.\n",
    "\n",
    "# Dummy errors (above and below)\n",
    "xerr = np.random.rand(2, n) + 0.1\n",
    "yerr = np.random.rand(2, n) + 0.2\n",
    "\n",
    "\n",
    "def make_error_boxes(ax, xdata, ydata, xerror, yerror, facecolor='r',\n",
    "                     edgecolor='None', alpha=0.5):\n",
    "\n",
    "    # Create list for all the error patches\n",
    "    errorboxes = []\n",
    "\n",
    "    # Loop over data points; create box from errors at each point\n",
    "    for x, y, xe, ye in zip(xdata, ydata, xerror.T, yerror.T):\n",
    "        rect = Rectangle((x - xe[0], y - ye[0]), xe.sum(), ye.sum())\n",
    "        errorboxes.append(rect)\n",
    "\n",
    "    # Create patch collection with specified colour/alpha\n",
    "    pc = PatchCollection(errorboxes, facecolor=facecolor, alpha=alpha,\n",
    "                         edgecolor=edgecolor)\n",
    "\n",
    "    # Add collection to axes\n",
    "    ax.add_collection(pc)\n",
    "\n",
    "    # Plot errorbars\n",
    "    artists = ax.errorbar(xdata, ydata, xerr=xerror, yerr=yerror,\n",
    "                          fmt='None', ecolor='k')\n",
    "\n",
    "    return artists\n",
    "\n",
    "\n",
    "# Create figure and axes\n",
    "fig, ax = plt.subplots(1)\n",
    "\n",
    "# Call function to create error boxes\n",
    "_ = make_error_boxes(ax, x, y, xerr, yerr)\n",
    "\n",
    "plt.show()"
   ]
  },
  {
   "cell_type": "code",
   "execution_count": null,
   "metadata": {},
   "outputs": [],
   "source": []
  }
 ],
 "metadata": {
  "kernelspec": {
   "display_name": "Python 3",
   "language": "python",
   "name": "python3"
  },
  "language_info": {
   "codemirror_mode": {
    "name": "ipython",
    "version": 3
   },
   "file_extension": ".py",
   "mimetype": "text/x-python",
   "name": "python",
   "nbconvert_exporter": "python",
   "pygments_lexer": "ipython3",
   "version": "3.6.8"
  }
 },
 "nbformat": 4,
 "nbformat_minor": 1
}
