{
 "cells": [
  {
   "cell_type": "code",
   "execution_count": 1,
   "metadata": {},
   "outputs": [],
   "source": [
    "from __future__ import unicode_literals\n",
    "%matplotlib inline\n",
    "import pandas as pd\n",
    "import matplotlib.pyplot as plt\n",
    "import numpy as np\n"
   ]
  },
  {
   "cell_type": "code",
   "execution_count": 3,
   "metadata": {},
   "outputs": [
    {
     "data": {
      "text/html": [
       "<div>\n",
       "<style scoped>\n",
       "    .dataframe tbody tr th:only-of-type {\n",
       "        vertical-align: middle;\n",
       "    }\n",
       "\n",
       "    .dataframe tbody tr th {\n",
       "        vertical-align: top;\n",
       "    }\n",
       "\n",
       "    .dataframe thead th {\n",
       "        text-align: right;\n",
       "    }\n",
       "</style>\n",
       "<table border=\"1\" class=\"dataframe\">\n",
       "  <thead>\n",
       "    <tr style=\"text-align: right;\">\n",
       "      <th></th>\n",
       "      <th>method</th>\n",
       "      <th>slope</th>\n",
       "      <th>stdE</th>\n",
       "      <th>year</th>\n",
       "    </tr>\n",
       "  </thead>\n",
       "  <tbody>\n",
       "    <tr>\n",
       "      <th>0</th>\n",
       "      <td>obs</td>\n",
       "      <td>5.75</td>\n",
       "      <td>1.32</td>\n",
       "      <td>2016</td>\n",
       "    </tr>\n",
       "    <tr>\n",
       "      <th>1</th>\n",
       "      <td>gpr</td>\n",
       "      <td>7.20</td>\n",
       "      <td>0.35</td>\n",
       "      <td>2016</td>\n",
       "    </tr>\n",
       "    <tr>\n",
       "      <th>2</th>\n",
       "      <td>opt</td>\n",
       "      <td>7.12</td>\n",
       "      <td>0.54</td>\n",
       "      <td>2016</td>\n",
       "    </tr>\n",
       "    <tr>\n",
       "      <th>3</th>\n",
       "      <td>farin</td>\n",
       "      <td>7.11</td>\n",
       "      <td>0.51</td>\n",
       "      <td>2016</td>\n",
       "    </tr>\n",
       "    <tr>\n",
       "      <th>4</th>\n",
       "      <td>obs</td>\n",
       "      <td>8.18</td>\n",
       "      <td>0.72</td>\n",
       "      <td>2017</td>\n",
       "    </tr>\n",
       "    <tr>\n",
       "      <th>5</th>\n",
       "      <td>gpr</td>\n",
       "      <td>8.17</td>\n",
       "      <td>0.91</td>\n",
       "      <td>2017</td>\n",
       "    </tr>\n",
       "    <tr>\n",
       "      <th>6</th>\n",
       "      <td>opt</td>\n",
       "      <td>6.76</td>\n",
       "      <td>0.50</td>\n",
       "      <td>2017</td>\n",
       "    </tr>\n",
       "    <tr>\n",
       "      <th>7</th>\n",
       "      <td>farin</td>\n",
       "      <td>6.92</td>\n",
       "      <td>0.75</td>\n",
       "      <td>2017</td>\n",
       "    </tr>\n",
       "    <tr>\n",
       "      <th>8</th>\n",
       "      <td>obs</td>\n",
       "      <td>7.20</td>\n",
       "      <td>0.76</td>\n",
       "      <td>2018</td>\n",
       "    </tr>\n",
       "    <tr>\n",
       "      <th>9</th>\n",
       "      <td>gpr</td>\n",
       "      <td>7.01</td>\n",
       "      <td>0.84</td>\n",
       "      <td>2018</td>\n",
       "    </tr>\n",
       "    <tr>\n",
       "      <th>10</th>\n",
       "      <td>opt</td>\n",
       "      <td>6.46</td>\n",
       "      <td>0.51</td>\n",
       "      <td>2018</td>\n",
       "    </tr>\n",
       "    <tr>\n",
       "      <th>11</th>\n",
       "      <td>farin</td>\n",
       "      <td>6.62</td>\n",
       "      <td>1.07</td>\n",
       "      <td>2018</td>\n",
       "    </tr>\n",
       "  </tbody>\n",
       "</table>\n",
       "</div>"
      ],
      "text/plain": [
       "   method  slope  stdE  year\n",
       "0     obs   5.75  1.32  2016\n",
       "1     gpr   7.20  0.35  2016\n",
       "2     opt   7.12  0.54  2016\n",
       "3   farin   7.11  0.51  2016\n",
       "4     obs   8.18  0.72  2017\n",
       "5     gpr   8.17  0.91  2017\n",
       "6     opt   6.76  0.50  2017\n",
       "7   farin   6.92  0.75  2017\n",
       "8     obs   7.20  0.76  2018\n",
       "9     gpr   7.01  0.84  2018\n",
       "10    opt   6.46  0.51  2018\n",
       "11  farin   6.62  1.07  2018"
      ]
     },
     "execution_count": 3,
     "metadata": {},
     "output_type": "execute_result"
    }
   ],
   "source": [
    "master_path = '/home/pelto/Desktop/ice_flux/Kokanee/'\n",
    "\n",
    "data = pd.read_csv(master_path + 'slopes.csv')\n",
    "data\n"
   ]
  },
  {
   "cell_type": "code",
   "execution_count": 13,
   "metadata": {},
   "outputs": [
    {
     "name": "stdout",
     "output_type": "stream",
     "text": [
      "0\n",
      "1\n",
      "2\n",
      "3\n"
     ]
    }
   ],
   "source": [
    "years = 2016, 2017, 2018\n",
    "for n in range(data.method.nunique()):\n",
    "    print(n)"
   ]
  },
  {
   "cell_type": "code",
   "execution_count": null,
   "metadata": {},
   "outputs": [],
   "source": []
  },
  {
   "cell_type": "code",
   "execution_count": 35,
   "metadata": {},
   "outputs": [],
   "source": [
    "use=data[data.method==method[1]]"
   ]
  },
  {
   "cell_type": "code",
   "execution_count": 36,
   "metadata": {},
   "outputs": [
    {
     "data": {
      "text/html": [
       "<div>\n",
       "<style scoped>\n",
       "    .dataframe tbody tr th:only-of-type {\n",
       "        vertical-align: middle;\n",
       "    }\n",
       "\n",
       "    .dataframe tbody tr th {\n",
       "        vertical-align: top;\n",
       "    }\n",
       "\n",
       "    .dataframe thead th {\n",
       "        text-align: right;\n",
       "    }\n",
       "</style>\n",
       "<table border=\"1\" class=\"dataframe\">\n",
       "  <thead>\n",
       "    <tr style=\"text-align: right;\">\n",
       "      <th></th>\n",
       "      <th>method</th>\n",
       "      <th>slope</th>\n",
       "      <th>stdE</th>\n",
       "      <th>year</th>\n",
       "    </tr>\n",
       "  </thead>\n",
       "  <tbody>\n",
       "    <tr>\n",
       "      <th>1</th>\n",
       "      <td>gpr</td>\n",
       "      <td>7.20</td>\n",
       "      <td>0.35</td>\n",
       "      <td>2016</td>\n",
       "    </tr>\n",
       "    <tr>\n",
       "      <th>5</th>\n",
       "      <td>gpr</td>\n",
       "      <td>8.17</td>\n",
       "      <td>0.91</td>\n",
       "      <td>2017</td>\n",
       "    </tr>\n",
       "    <tr>\n",
       "      <th>9</th>\n",
       "      <td>gpr</td>\n",
       "      <td>7.01</td>\n",
       "      <td>0.84</td>\n",
       "      <td>2018</td>\n",
       "    </tr>\n",
       "  </tbody>\n",
       "</table>\n",
       "</div>"
      ],
      "text/plain": [
       "  method  slope  stdE  year\n",
       "1    gpr   7.20  0.35  2016\n",
       "5    gpr   8.17  0.91  2017\n",
       "9    gpr   7.01  0.84  2018"
      ]
     },
     "execution_count": 36,
     "metadata": {},
     "output_type": "execute_result"
    }
   ],
   "source": [
    "use"
   ]
  },
  {
   "cell_type": "code",
   "execution_count": 38,
   "metadata": {},
   "outputs": [
    {
     "data": {
      "text/plain": [
       "[0.0, 1.0, 2.0]"
      ]
     },
     "execution_count": 38,
     "metadata": {},
     "output_type": "execute_result"
    }
   ],
   "source": [
    "pos"
   ]
  },
  {
   "cell_type": "code",
   "execution_count": 48,
   "metadata": {},
   "outputs": [
    {
     "name": "stdout",
     "output_type": "stream",
     "text": [
      "All done!\n"
     ]
    },
    {
     "data": {
      "image/png": "[encoded data removed]",
      "text/plain": [
       "<Figure size 432x288 with 1 Axes>"
      ]
     },
     "metadata": {
      "needs_background": "light"
     },
     "output_type": "display_data"
    }
   ],
   "source": [
    "# figure comparing S07 and ASTER 2000-2009\n",
    "font = {'family':'Arial',\n",
    "        'size'   : 10}\n",
    "\n",
    "# bar_width = 36\n",
    "# plt.figure(figsize=(4,3)) #, inches)\n",
    "# plt.axvline(2,color = 'lightgray',linewidth=bar_width,zorder=1)\n",
    "# plt.axvline(10,color = 'lightgray',linewidth=bar_width,zorder=1)\n",
    "# plt.axvline(18,color = 'lightgray',linewidth=bar_width,zorder=1)\n",
    "\n",
    "# plt.axvline(26,color = 'lightgray',linewidth=bar_width,zorder=1)\n",
    "# plt.axvline(34,color = 'lightgray',linewidth=bar_width,zorder=1)\n",
    "# plt.axvline(42,color = 'lightgray',linewidth=bar_width,zorder=1)\n",
    "# plt.axvline(50,color = 'lightgray',linewidth=bar_width,zorder=1)\n",
    "# plt.axvline(58,color = 'lightgray',linewidth=bar_width,zorder=1)\n",
    "sym = ['o', '^', 's', 'd']\n",
    "color = ['k', 'teal', '#74c476', '#238b45']\n",
    "method = ['obs', 'gpr','opt', 'farin']\n",
    "pos = [0.,1.,2.]\n",
    "years = [2016, 2017, 2018]\n",
    "fig, ax = plt.subplots()\n",
    "\n",
    "for n in range(data.method.nunique()):\n",
    "    for i in range(len(pos)):\n",
    "#         x_pos=(pos[i]+pos[i]*0.1)\n",
    "        \n",
    "        use=data[data.method==method[n]]\n",
    "        ax.errorbar(pos,use.slope, xerr=None, yerr=use.stdE, fmt=sym[n], c=color[n],\n",
    "                label=method[n], alpha=0.9, capsize=5)   \n",
    "    pos=np.array(pos)+.15\n",
    "\n",
    "# plt.errorbar(S07.index*4+1.0, S07['ALS_cum_ba_yr'],yerr=2*S07['err_geo'], fmt='s', color= '#7570b3', label='\\u03A3geod')\n",
    "# #plt.boxplot(S07['err_geo']*2, S07.index*4+1.0, S07['lidar_ba'], S07['err_geo'], S07['err_geo']*-1)\n",
    "# plt.errorbar(S07.index*4+2.0, S07['F_L_ba_yr'], yerr=2*S07['err_cum'], fmt='^', color = '#d95f02', label='last-first')\n",
    "# plt.errorbar(S07.index*4+3.0, S07['obs_ba_yr'], yerr=S07['err_obs'], fmt='o', color = '#1b9e77', label='\\u03A3glac')\n",
    "# # plt.errorbar(dM_0018.index*4+3.0, 1000*dM_0018['MB [m w.e a-1]'],yerr=1000*dM_0018['Err. MB [m w.e a-1]'], fmt='D',label='2000-2018')\n",
    "# plt.axhline(0,color='black',linewidth=1, zorder=1)\n",
    "\n",
    "# plt.legend(loc='upper left', ncol=3, handletextpad=0.1, columnspacing=0)#, prop=font) \n",
    "\n",
    "# plt.xticks(np.arange(0,6)*4+2,(S07['glacier']), **font, rotation=45)\n",
    "\n",
    "\n",
    "# plt.ylabel('Mass balance [m w.e. yr$^{-1}$]', **font) #[kg m$^{-2}$ yr$^{-1}$]')\n",
    "# plt.ylim([-2, 1])\n",
    "plt.xticks([0.25,1.25,2.25], ['2016', '2017', '2018'])\n",
    "# plt.tight_layout()\n",
    "\n",
    "# plt.savefig(master_path + '/products/' + 'Fig_cum_2sig_per_yr.pdf',dpi=300)\n",
    "\n",
    "print('All done!')"
   ]
  },
  {
   "cell_type": "code",
   "execution_count": null,
   "metadata": {},
   "outputs": [],
   "source": [
    "### plot slopes\n",
    "\n",
    "\n",
    "fig, ax = plt.subplots(figsize=(3,6))\n",
    "\n",
    "pos = [0, 1 ,2, 3]\n",
    "slope = [5.75, 7.2, 7.12, 7.11]\n",
    "yerr = [1.32, 0.35, 0.54, 0.51]\n",
    "\n",
    "for i in range(4):\n",
    "    ax.errorbar(pos[i],slope[i], xerr=None, yerr=yerr[i], fmt=sym[i], c=color[i],\n",
    "                label=label[i], alpha=a, zorder=3, capsize=5)\n",
    "\n",
    "# ax.errorbar(FG_all.dem_mean,FG_all.Bdh, xerr=25, yerr=0.25, fmt='o', c='k', label='LiDAR', \n",
    "#             alpha=a, zorder=3)\n",
    "ax.legend()\n",
    "# plt.xlabel('Elevation (m a.s.l.)')\n",
    "plt.ylabel('b_grad (m w.e. $m^{-1}$)')\n",
    "\n",
    "plt.savefig(fl_path + 'products/' + glacier[gl]+'_b_grads_' + balance + str(year) +'.png', dpi=300)\n",
    "# ax.errorbar(FG_all.dem_mean+shift[i],MC_y[i], xerr=None, yerr=FG_all.sBwe_opt, fmt=sym[i+1], c='r', label='', \n",
    "#         alpha=a, zorder=3)"
   ]
  },
  {
   "cell_type": "code",
   "execution_count": null,
   "metadata": {},
   "outputs": [],
   "source": []
  }
 ],
 "metadata": {
  "anaconda-cloud": {},
  "kernelspec": {
   "display_name": "Python 3",
   "language": "python",
   "name": "python3"
  },
  "language_info": {
   "codemirror_mode": {
    "name": "ipython",
    "version": 3
   },
   "file_extension": ".py",
   "mimetype": "text/x-python",
   "name": "python",
   "nbconvert_exporter": "python",
   "pygments_lexer": "ipython3",
   "version": "3.6.8"
  },
  "latex_envs": {
   "LaTeX_envs_menu_present": true,
   "bibliofile": "biblio.bib",
   "cite_by": "apalike",
   "current_citInitial": 1,
   "eqLabelWithNumbers": true,
   "eqNumInitial": 1,
   "labels_anchors": false,
   "latex_user_defs": false,
   "report_style_numbering": false,
   "user_envs_cfg": false
  }
 },
 "nbformat": 4,
 "nbformat_minor": 2
}
