{
 "cells": [
  {
   "cell_type": "code",
   "execution_count": 12,
   "metadata": {},
   "outputs": [],
   "source": [
    "from __future__ import unicode_literals\n",
    "%matplotlib inline\n",
    "import pandas as pd\n",
    "import matplotlib.pyplot as plt\n",
    "import numpy as np\n",
    "from matplotlib import pylab\n",
    "import matplotlib.ticker as ticker"
   ]
  },
  {
   "cell_type": "code",
   "execution_count": 13,
   "metadata": {},
   "outputs": [],
   "source": [
    "num = 1  #which glacier are we using?\n",
    "gl = 'Kokanee', 'Conrad', 'Illecillewaet'\n",
    "\n",
    "products = '/home/pelto/Desktop/ice_flux/figures/'# + gl[num] +'/'\n",
    "\n",
    "# data = pd.read_csv(path + 'slopes.csv')\n",
    "# data\n"
   ]
  },
  {
   "cell_type": "code",
   "execution_count": 14,
   "metadata": {},
   "outputs": [
    {
     "name": "stderr",
     "output_type": "stream",
     "text": [
      "No handles with labels found to put in legend.\n",
      "No handles with labels found to put in legend.\n"
     ]
    },
    {
     "name": "stdout",
     "output_type": "stream",
     "text": [
      "All done!\n"
     ]
    },
    {
     "data": {
      "image/png": "[encoded data removed]",
      "text/plain": [
       "<Figure size 509.76x180 with 3 Axes>"
      ]
     },
     "metadata": {
      "needs_background": "light"
     },
     "output_type": "display_data"
    }
   ],
   "source": [
    "# figure comparing S07 and ASTER 2000-2009\n",
    "font = {'family':'Arial',\n",
    "        'size'   : 10}\n",
    "\n",
    "pylab.rcParams['xtick.major.pad']='2'\n",
    "pylab.rcParams['ytick.major.pad']='2'\n",
    "\n",
    "av_grad = [6.84, 6.44, 10.84] \n",
    "std_grad = [0.6, 0.3, 0.6]\n",
    "sym = ['o', '^', 's', 'd']\n",
    "color = ['k', 'teal', '#74c476', '#238b45']\n",
    "method = ['obs', 'gpr','opt', 'farin']\n",
    "Method = ['obs', 'gpr','opt', 'Farinotti']\n",
    "\n",
    "years = [2016, 2017, 2018]\n",
    "fig, axarr = plt.subplots(1,3, sharex=True, figsize=(7.08,2.5)) #sharey=True\n",
    "txt= ['a', 'b', 'c']\n",
    "k=0\n",
    "for i in range(3):\n",
    "    path = '/home/pelto/Desktop/ice_flux/' + gl[i] +'/'\n",
    "    data = pd.read_csv(path + 'slopes.csv')\n",
    "    pos = [0.,1.,2.]\n",
    "    \n",
    "    for n in range(data.method.nunique()):\n",
    "        for i in range(len(pos)):\n",
    "            \n",
    "    #         x_pos=(pos[i]+pos[i]*0.1)\n",
    "\n",
    "            use=data[data.method==method[n]]\n",
    "            if i==0:\n",
    "                axarr[k].errorbar(pos,np.asarray(use.slope/1.), xerr=None, yerr=use.stdE/1., fmt=sym[n], c=color[n],\n",
    "                    label=Method[n], alpha=0.9, capsize=1)\n",
    "            else:\n",
    "                axarr[k].errorbar(pos,np.asarray(use.slope/1.), xerr=None, yerr=use.stdE/1., fmt=sym[n], c=color[n],\n",
    "                    alpha=0.9, capsize=1)\n",
    "                \n",
    "            if i==0:\n",
    "                axarr[k].errorbar(pos,np.asarray(use.slope/1.), xerr=None, yerr=use.stdE*2./1., fmt=sym[n], c=color[n],\n",
    "                    alpha=0.2, capsize=2)\n",
    "            else:\n",
    "                axarr[k].errorbar(pos,np.asarray(use.slope/1.), xerr=None, yerr=use.stdE*2./1., fmt=sym[n], c=color[n],\n",
    "                    alpha=0.2, capsize=2)\n",
    "\n",
    "        pos=np.array(pos)+0.18\n",
    "\n",
    "\n",
    "    # for g in range(data.method.nunique()):\n",
    "    #     axarr[j,k].errorbar(pos,use.slope, xerr=None, yerr=use.stdE, fmt=sym[g], c=color[g],\n",
    "    #                 label=method[g], alpha=0.9, capsize=5)  \n",
    "\n",
    "\n",
    "    ## add line for average SMB grad\n",
    "\n",
    "    H = axarr[k].axhline(av_grad[k]/1, c='k', alpha=0.8, zorder=1, linewidth=0.75, ls='--')\n",
    "    # axarr[j,k].axhline(av_grad[num]/1, c='0.8', alpha=0.8, zorder=0, linewidth=66.67*std_grad[num])\n",
    "    rectangle = plt.Rectangle((-0.2,((av_grad[k]-std_grad[k]*2)/1)),3.0,std_grad[k]*4/1, zorder=0, fc='0.9')\n",
    "    # rectangle = plt.Rectangle((0.0,0.009),2.25,0.01)\n",
    "    axarr[k].add_patch(rectangle) #plt.gca().add_patch(rectangle)\n",
    "    # plt.fill_between(H, y1=((av_grad[num]+std_grad[num])/1), y2=((av_grad[num]-std_grad[num])/1))\n",
    "\n",
    "    axarr[2].legend(loc='best', ncol=2, handletextpad=0.1, columnspacing=0)#, prop=font)\n",
    "    # axarr[j,k].legend([sym], [method], loc='upper left', ncol=3, handletextpad=0.1, columnspacing=0)#, prop=font) \n",
    "    # plt.xticks(np.arange(0,6)*4+2,(S07['glacier']), **font, rotation=45)\n",
    "\n",
    "    axarr[k].text(0.92, 0.05, txt[k], transform=axarr[k].transAxes, fontweight='bold', fontsize=10)\n",
    "    axarr[0].set_ylabel('Balance gradient [mm w.e. m$^{-1}$]', **font) #[kg m$^{-2}$ yr$^{-1}$]')\n",
    "    axarr[1].set_xlabel('Year', **font)\n",
    "        \n",
    "    if k == 2:\n",
    "        axarr[k].yaxis.set_major_locator(ticker.MultipleLocator(2.))\n",
    "    else:\n",
    "        axarr[k].yaxis.set_major_locator(ticker.MultipleLocator(1.))\n",
    "    \n",
    "    # plt.ylim([-2, 1])\n",
    "    \n",
    "    # plt.yticks(np.arange(0.006,0.018,0.001))\n",
    "\n",
    "    k+=1\n",
    "plt.xlim(-0.15,2.7)\n",
    "plt.xticks([0.35,1.25,2.25], ['2016', '2017', '2018'])\n",
    "plt.tight_layout(pad=0.1)\n",
    "plt.savefig(products + 'all_slopes_errorbar_'+ '2sigma.pdf',dpi=300)\n",
    "\n",
    "print('All done!')"
   ]
  },
  {
   "cell_type": "code",
   "execution_count": 15,
   "metadata": {},
   "outputs": [
    {
     "data": {
      "text/plain": [
       "3"
      ]
     },
     "execution_count": 15,
     "metadata": {},
     "output_type": "execute_result"
    }
   ],
   "source": [
    "k"
   ]
  },
  {
   "cell_type": "code",
   "execution_count": 16,
   "metadata": {},
   "outputs": [
    {
     "data": {
      "text/plain": [
       "<matplotlib.axes._subplots.AxesSubplot at 0x7fd1207210f0>"
      ]
     },
     "execution_count": 16,
     "metadata": {},
     "output_type": "execute_result"
    }
   ],
   "source": [
    "axarr[0]"
   ]
  },
  {
   "cell_type": "code",
   "execution_count": null,
   "metadata": {},
   "outputs": [],
   "source": []
  }
 ],
 "metadata": {
  "anaconda-cloud": {},
  "kernelspec": {
   "display_name": "Python 3",
   "language": "python",
   "name": "python3"
  },
  "language_info": {
   "codemirror_mode": {
    "name": "ipython",
    "version": 3
   },
   "file_extension": ".py",
   "mimetype": "text/x-python",
   "name": "python",
   "nbconvert_exporter": "python",
   "pygments_lexer": "ipython3",
   "version": "3.6.8"
  },
  "latex_envs": {
   "LaTeX_envs_menu_present": true,
   "bibliofile": "biblio.bib",
   "cite_by": "apalike",
   "current_citInitial": 1,
   "eqLabelWithNumbers": true,
   "eqNumInitial": 1,
   "labels_anchors": false,
   "latex_user_defs": false,
   "report_style_numbering": false,
   "user_envs_cfg": false
  }
 },
 "nbformat": 4,
 "nbformat_minor": 2
}
